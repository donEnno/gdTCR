{
 "cells": [
  {
   "cell_type": "markdown",
   "id": "334859bb",
   "metadata": {},
   "source": [
    "## 0. Imports"
   ]
  },
  {
   "cell_type": "code",
   "execution_count": 65,
   "id": "d5ba2bf8",
   "metadata": {},
   "outputs": [],
   "source": [
    "import os\n",
    "\n",
    "import matplotlib.pyplot as plt\n",
    "import plotly.express as px\n",
    "\n",
    "import numpy as np\n",
    "import pandas as pd\n",
    "from collections import Counter\n",
    "import functools\n",
    "import umap\n",
    "\n",
    "from sklearn import decomposition\n",
    "from sklearn.feature_extraction.text import TfidfVectorizer\n",
    "from sklearn.preprocessing import StandardScaler"
   ]
  },
  {
   "cell_type": "code",
   "execution_count": 2,
   "id": "4cd61e32",
   "metadata": {},
   "outputs": [],
   "source": [
    "plt.rcParams['figure.figsize'] = [10, 8]\n",
    "plt.rcParams['font.size'] = 12"
   ]
  },
  {
   "cell_type": "markdown",
   "id": "abca1155",
   "metadata": {},
   "source": [
    "## 1. Data Setup"
   ]
  },
  {
   "cell_type": "code",
   "execution_count": 3,
   "id": "169badf2",
   "metadata": {},
   "outputs": [],
   "source": [
    "seq_data_root = \"sample_sequences\""
   ]
  },
  {
   "cell_type": "code",
   "execution_count": 4,
   "id": "21bf6504",
   "metadata": {},
   "outputs": [
    {
     "data": {
      "text/plain": [
       "['FU', 'HD', 'BL']"
      ]
     },
     "execution_count": 4,
     "metadata": {},
     "output_type": "execute_result"
    }
   ],
   "source": [
    "groups = os.listdir(seq_data_root)\n",
    "groups"
   ]
  },
  {
   "cell_type": "code",
   "execution_count": 5,
   "id": "3abf1411",
   "metadata": {},
   "outputs": [],
   "source": [
    "cols = ['cdr3aa', 'v', 'count', 'sample']\n",
    "data = pd.DataFrame(columns=cols)"
   ]
  },
  {
   "cell_type": "code",
   "execution_count": 6,
   "id": "813b200f",
   "metadata": {},
   "outputs": [],
   "source": [
    "voc_data = pd.DataFrame()"
   ]
  },
  {
   "cell_type": "code",
   "execution_count": 7,
   "id": "02f05385",
   "metadata": {},
   "outputs": [],
   "source": [
    "for group in groups:\n",
    "    temp_dir = os.path.join(seq_data_root, group)\n",
    "    \n",
    "    for file in os.listdir(temp_dir):\n",
    "        # sample_id = file.split('.')[1]\n",
    "        temp_df = pd.read_csv(os.path.join(temp_dir, file), delimiter='\\t')\n",
    "        temp_df['sample'] = file\n",
    "        data = data.append(temp_df, ignore_index=True)\n",
    "        \n",
    "        seq_count = list(zip(temp_df['cdr3aa'], temp_df['count']))\n",
    "        \n",
    "        sequences = []\n",
    "        \n",
    "        for seq, count in seq_count:\n",
    "            sequences.extend([seq] * count)\n",
    "        \n",
    "        temp_voc = pd.DataFrame({'sample_id': file, 'seq': [sequences]})\n",
    "        voc_data = voc_data.append(temp_voc, ignore_index=True)"
   ]
  },
  {
   "cell_type": "code",
   "execution_count": 8,
   "id": "9594ab0c",
   "metadata": {},
   "outputs": [
    {
     "data": {
      "text/plain": [
       "False"
      ]
     },
     "execution_count": 8,
     "metadata": {},
     "output_type": "execute_result"
    }
   ],
   "source": [
    "voc_data.iloc[1].seq.__len__() == data[data['sample'] == '1056_2659_SA74_S74_L001_R1']['count'].sum()"
   ]
  },
  {
   "cell_type": "markdown",
   "id": "ce2dafd2",
   "metadata": {},
   "source": [
    "## 2. Inverted Index and TFiDF"
   ]
  },
  {
   "cell_type": "code",
   "execution_count": 9,
   "id": "bfaba4cd",
   "metadata": {},
   "outputs": [],
   "source": [
    "vocabulary = data.groupby('cdr3aa')['count'].sum().reset_index()"
   ]
  },
  {
   "cell_type": "code",
   "execution_count": 10,
   "id": "a7188c58",
   "metadata": {},
   "outputs": [
    {
     "data": {
      "text/html": [
       "<div>\n",
       "<style scoped>\n",
       "    .dataframe tbody tr th:only-of-type {\n",
       "        vertical-align: middle;\n",
       "    }\n",
       "\n",
       "    .dataframe tbody tr th {\n",
       "        vertical-align: top;\n",
       "    }\n",
       "\n",
       "    .dataframe thead th {\n",
       "        text-align: right;\n",
       "    }\n",
       "</style>\n",
       "<table border=\"1\" class=\"dataframe\">\n",
       "  <thead>\n",
       "    <tr style=\"text-align: right;\">\n",
       "      <th></th>\n",
       "      <th>cdr3aa</th>\n",
       "      <th>count</th>\n",
       "    </tr>\n",
       "  </thead>\n",
       "  <tbody>\n",
       "    <tr>\n",
       "      <th>0</th>\n",
       "      <td>CAAALDKLIF</td>\n",
       "      <td>228</td>\n",
       "    </tr>\n",
       "    <tr>\n",
       "      <th>1</th>\n",
       "      <td>CAAAPLPSVGGHTDKLIF</td>\n",
       "      <td>15</td>\n",
       "    </tr>\n",
       "    <tr>\n",
       "      <th>2</th>\n",
       "      <td>CAAAPSSPVGFQDTNTDKLIF</td>\n",
       "      <td>410</td>\n",
       "    </tr>\n",
       "    <tr>\n",
       "      <th>3</th>\n",
       "      <td>CAAAQLGVADKLIF</td>\n",
       "      <td>56</td>\n",
       "    </tr>\n",
       "    <tr>\n",
       "      <th>4</th>\n",
       "      <td>CAAARYTRGQYTDKLIF</td>\n",
       "      <td>95</td>\n",
       "    </tr>\n",
       "    <tr>\n",
       "      <th>...</th>\n",
       "      <td>...</td>\n",
       "      <td>...</td>\n",
       "    </tr>\n",
       "    <tr>\n",
       "      <th>26465</th>\n",
       "      <td>YAGRQLGASMYTDKLIF</td>\n",
       "      <td>8</td>\n",
       "    </tr>\n",
       "    <tr>\n",
       "      <th>26466</th>\n",
       "      <td>YALGDTPRTLQGYTDKLIF</td>\n",
       "      <td>2</td>\n",
       "    </tr>\n",
       "    <tr>\n",
       "      <th>26467</th>\n",
       "      <td>YALGELAPKIATPWTDKLIF</td>\n",
       "      <td>6</td>\n",
       "    </tr>\n",
       "    <tr>\n",
       "      <th>26468</th>\n",
       "      <td>YALGELRGIQDTDKLIF</td>\n",
       "      <td>12</td>\n",
       "    </tr>\n",
       "    <tr>\n",
       "      <th>26469</th>\n",
       "      <td>YARDKVSTGGDHSTDKLIF</td>\n",
       "      <td>11</td>\n",
       "    </tr>\n",
       "  </tbody>\n",
       "</table>\n",
       "<p>26470 rows × 2 columns</p>\n",
       "</div>"
      ],
      "text/plain": [
       "                      cdr3aa count\n",
       "0                 CAAALDKLIF   228\n",
       "1         CAAAPLPSVGGHTDKLIF    15\n",
       "2      CAAAPSSPVGFQDTNTDKLIF   410\n",
       "3             CAAAQLGVADKLIF    56\n",
       "4          CAAARYTRGQYTDKLIF    95\n",
       "...                      ...   ...\n",
       "26465      YAGRQLGASMYTDKLIF     8\n",
       "26466    YALGDTPRTLQGYTDKLIF     2\n",
       "26467   YALGELAPKIATPWTDKLIF     6\n",
       "26468      YALGELRGIQDTDKLIF    12\n",
       "26469    YARDKVSTGGDHSTDKLIF    11\n",
       "\n",
       "[26470 rows x 2 columns]"
      ]
     },
     "execution_count": 10,
     "metadata": {},
     "output_type": "execute_result"
    }
   ],
   "source": [
    "vocabulary"
   ]
  },
  {
   "cell_type": "code",
   "execution_count": 11,
   "id": "511ef23e",
   "metadata": {},
   "outputs": [],
   "source": [
    "word_dict = {}\n",
    "item_id = 1\n",
    "\n",
    "for word in vocabulary.cdr3aa:\n",
    "    word_dict[word] = item_id\n",
    "    item_id += 1"
   ]
  },
  {
   "cell_type": "code",
   "execution_count": 12,
   "id": "b3d29951",
   "metadata": {},
   "outputs": [
    {
     "data": {
      "text/plain": [
       "{'CAAALDKLIF': 1,\n",
       " 'CAAAPLPSVGGHTDKLIF': 2,\n",
       " 'CAAAPSSPVGFQDTNTDKLIF': 3,\n",
       " 'CAAAQLGVADKLIF': 4,\n",
       " 'CAAARYTRGQYTDKLIF': 5,\n",
       " 'CAAAVSTDKLIF': 6,\n",
       " 'CAADRGGIEDKLIF': 7,\n",
       " 'CAADTVLLGDTGDKLIF': 8,\n",
       " 'CAAEGVVSSWDTRQMFF': 9,\n",
       " 'CAAELHFLRRLWGISPGSTDKLIF': 10,\n",
       " 'CAAEPFLAEGELAKLIF': 11,\n",
       " 'CAAERFGGALTAQLFF': 12,\n",
       " 'CAAFGGLSRGKYTDKLIF': 13,\n",
       " 'CAAFWPAGGYRVTDKLIF': 14,\n",
       " 'CAAGAGGRLYTDKLIF': 15,\n",
       " 'CAAGAPPGDKLIF': 16,\n",
       " 'CAAGDSYRGTTFTDKLIF': 17,\n",
       " 'CAAGEGLTGGYLVYTDKLIF': 18,\n",
       " 'CAAGFPRWGKYTDKLIF': 19,\n",
       " 'CAAGFYGWGSGRLYTDKLIF': 20,\n",
       " 'CAAGLLWYGDKLIF': 21,\n",
       " 'CAAGLPTGYEADKLIF': 22,\n",
       " 'CAAGNWGIPYTDKLIF': 23,\n",
       " 'CAAGPFLAEGELAKFIF': 24,\n",
       " 'CAAGPFLAEGELAKLIF': 25,\n",
       " 'CAAGPFLAEGELAKLTF': 26,\n",
       " 'CAAGPFLAEGELAKLVF': 27,\n",
       " 'CAAGPFLAEGEPAKLIF': 28,\n",
       " 'CAAGPSPGTGGSDKLIF': 29,\n",
       " 'CAAGQGANWGQYTDKLIF': 30,\n",
       " 'CAAGQGANWGQYTDKPIF': 31,\n",
       " 'CAAGRASTDKLIF': 32,\n",
       " 'CAAGRVRDAADKLIF': 33,\n",
       " 'CAAGTGGALYTDKLIF': 34,\n",
       " 'CAAGTGGGPAFTDKLIF': 35,\n",
       " 'CAAGVYLGLGILPPRRQLFF': 36,\n",
       " 'CAAGVYTDKLIF': 37,\n",
       " 'CAAGWGGPTNKYTDKLIF': 38,\n",
       " 'CAAHEMGVVSDKLIF': 39,\n",
       " 'CAAHPGGETDKLIF': 40,\n",
       " 'CAAIFPTVTGGYIIPDKLIF': 41,\n",
       " 'CAAIGVGGYAYPFVGTDKLIF': 42,\n",
       " 'CAAIILGDPPKLDKLIF': 43,\n",
       " 'CAAILTTNLPVLGDPPTDKLIF': 44,\n",
       " 'CAAILTTNLPVLGDPSTDKLIF': 45,\n",
       " 'CAAINLKYWGIRRTDKLIF': 46,\n",
       " 'CAAIPSEYSYYTGGRYTDKLIF': 47,\n",
       " 'CAAIRLYWGIRLATDKLIF': 48,\n",
       " 'CAAISSAAFLRPGRGYKTDKLIF': 49,\n",
       " 'CAAKAFLYKFRLGETYTDKLIF': 50,\n",
       " 'CAAKNLSTGGPSPDKLIF': 51,\n",
       " 'CAALEAAFLQGSLLGDTPDTDKLIF': 52,\n",
       " 'CAALFLRSAGGYDKLIF': 53,\n",
       " 'CAALGGHPLLPTDKLIF': 54,\n",
       " 'CAALPPPITGGRPGDTDKLIF': 55,\n",
       " 'CAALPSPITGGRPGDTDKLIF': 56,\n",
       " 'CAALSSYGLGSDKLIF': 57,\n",
       " 'CAALTKYTDKLIF': 58,\n",
       " 'CAALYWGIQNTDKLIF': 59,\n",
       " 'CAAMHLLGGFADKLIF': 60,\n",
       " 'CAAMPFVSGEYTDKLIF': 61,\n",
       " 'CAANIPRPGYWGIADKLIF': 62,\n",
       " 'CAANPTPGWWGHTWDTDKLIF': 63,\n",
       " 'CAANRTGGYNCTLDADKLIF': 64,\n",
       " 'CAANTTGGYASEHKLIF': 65,\n",
       " 'CAANYEGPYAMGDPDKLIF': 66,\n",
       " 'CAAPLPFYWGTYTDKLIF': 67,\n",
       " 'CAAPLRPPGHRQMFF': 68,\n",
       " 'CAAPPSLRGVPLTAQLFF': 69,\n",
       " 'CAAQAAVSPYTDKLIF': 70,\n",
       " 'CAAQAGGKQGLPFRGTDKLIF': 71,\n",
       " 'CAAQSGGYPGTDKLIF': 72,\n",
       " 'CAARAFLHVLGEYTDKLIF': 73,\n",
       " 'CAARASEYGGILSNTDKLIF': 74,\n",
       " 'CAARASKLGGQYTDKLIF': 75,\n",
       " 'CAARCIVPGGYSDKLIF': 76,\n",
       " 'CAARDRPSSAYWGMRLIF': 77,\n",
       " 'CAAREAFPNYWGIRGRLIF': 78,\n",
       " 'CAAREEPSREWGIHPYTDKLIF': 79,\n",
       " 'CAARERIPNIGADTRIRPDTDKLIF': 80,\n",
       " 'CAARETDKLIF': 81,\n",
       " 'CAARGATDKLIF': 82,\n",
       " 'CAARGLNPFELGGTDKLIF': 83,\n",
       " 'CAARGLPTLLGDTQQLYTDKLIF': 84,\n",
       " 'CAARGMGGGDPKYTDKLIF': 85,\n",
       " 'CAARGSYEGVGDTLYTDKLIF': 86,\n",
       " 'CAARHSFGGRPLYTDKLIF': 87,\n",
       " 'CAARILSGGYAPLITDKLIF': 88,\n",
       " 'CAARLIGEDNPGDKLIF': 89,\n",
       " 'CAARLLSVVGYMYTDKLIF': 90,\n",
       " 'CAARLPDWGMQYTDKLIF': 91,\n",
       " 'CAARLPTDKLIF': 92,\n",
       " 'CAARLSPPDTGSYTDKLIF': 93,\n",
       " 'CAARLWRVGEPTAQLFF': 94,\n",
       " 'CAARNFLRGDRLANTDKLIF': 95,\n",
       " 'CAARPLLQLGDTTDKLIF': 96,\n",
       " 'CAARPRRLRLRYTDKLIF': 97,\n",
       " 'CAARPSPSSWDTRQMFF': 98,\n",
       " 'CAARPTLGDTDKLIF': 99,\n",
       " 'CAARQPTCLLSYFDWGRRLIF': 100,\n",
       " 'CAARQTFLRLGDSRPYTDKLIF': 101,\n",
       " 'CAARRAFLPYWGPYTDKLIF': 102,\n",
       " 'CAARRGSSPRELGDPYPDKLIF': 103,\n",
       " 'CAARRVGDTHVSKLIF': 104,\n",
       " 'CAARSGLSYWGADKLIF': 105,\n",
       " 'CAARSPKYWGIPTIIDKLIF': 106,\n",
       " 'CAARSPNTDKLIF': 107,\n",
       " 'CAARSRHLTYPSFHTDKLIF': 108,\n",
       " 'CAARTGPVLGDTPKPRAYTDKLIF': 109,\n",
       " 'CAARTVGDQPIGTDKLIF': 110,\n",
       " 'CAARVESELALWDDTDKLIF': 111,\n",
       " 'CAARVFRPRDGGYPFGLSYTDKLIF': 112,\n",
       " 'CAARVTARRRGYAEADKLIF': 113,\n",
       " 'CAARWFRTGAVKTDTDKLIF': 114,\n",
       " 'CAARWLAGPRADKLIF': 115,\n",
       " 'CAARWLTGPRADKLIF': 116,\n",
       " 'CAARWRGGTYTDKLIF': 117,\n",
       " 'CAARYFLLHPGGLGGPTDKLIF': 118,\n",
       " 'CAASAAESDTDKLIF': 119,\n",
       " 'CAASAAFHKYWGTRSDKLIF': 120,\n",
       " 'CAASAAPLREPLGVPLDKLIF': 121,\n",
       " 'CAASAAPRPEWGKLIF': 122,\n",
       " 'CAASAAPRSWGPNTDKLIF': 123,\n",
       " 'CAASAAPTRMGAQYTDKLIF': 124,\n",
       " 'CAASAAPYILAVPGLNDKLIF': 125,\n",
       " 'CAASAEVKVWGIGYTDKLIF': 126,\n",
       " 'CAASAFHRGWLYTDKLIF': 127,\n",
       " 'CAASAFPLYWNKLIF': 128,\n",
       " 'CAASAFPSHGYTDKLIF': 129,\n",
       " 'CAASAGDWGLTDKLIF': 130,\n",
       " 'CAASAGFDCPFQGDALPDKLIF': 131,\n",
       " 'CAASAGFDCPFQGDTLPDKLIF': 132,\n",
       " 'CAASAGFLLGTGGYLSDKLIF': 133,\n",
       " 'CAASAGGYTDKLIF': 134,\n",
       " 'CAASAGLGDTSTDKLIF': 135,\n",
       " 'CAASAGLKLGFHLGMTAQLFF': 136,\n",
       " 'CAASAGLPPGDTPLYTDKLIF': 137,\n",
       " 'CAASAGLVGDTDKLIF': 138,\n",
       " 'CAASAGPLYTDKLIF': 139,\n",
       " 'CAASAGSHWGLSTDKLIF': 140,\n",
       " 'CAASAGSWGVPYTDKLIF': 141,\n",
       " 'CAASAGTGPGTQSARYTDKLIF': 142,\n",
       " 'CAASAGVGDYVGYTDKLIF': 143,\n",
       " 'CAASAGVVRDLLPTVRYTDKLIF': 144,\n",
       " 'CAASAHDLFPDKLIF': 145,\n",
       " 'CAASAHTGGLRYTDKLIF': 146,\n",
       " 'CAASAHVGGYGKADKLIF': 147,\n",
       " 'CAASAHWGIRRDADKLIF': 148,\n",
       " 'CAASAHWGIRRDTDKLIF': 149,\n",
       " 'CAASAIALPTHWGDKLIF': 150,\n",
       " 'CAASAIGDWGLPYTDKLIF': 151,\n",
       " 'CAASAIGRWGTYTDKLIF': 152,\n",
       " 'CAASAIKAATGGYGTDKLIF': 153,\n",
       " 'CAASAIPALLGSASYTDKLIF': 154,\n",
       " 'CAASAISFPGVYTDKLIF': 155,\n",
       " 'CAASAISLPTPLYTDKLIF': 156,\n",
       " 'CAASAITGGWVTDKLIF': 157,\n",
       " 'CAASAITGGYANDKLIF': 158,\n",
       " 'CAASAIVLRNEVYWGSYTDKLIF': 159,\n",
       " 'CAASAKGYRPYTDKLIF': 160,\n",
       " 'CAASAKVDDADKLIF': 161,\n",
       " 'CAASAKWAPGDWGEYTDKLIF': 162,\n",
       " 'CAASALAALDWGIKVDKLIF': 163,\n",
       " 'CAASALFSYWGTAVHKLIF': 164,\n",
       " 'CAASALGDRYTDKLIF': 165,\n",
       " 'CAASALGRQGLSTDKLIF': 166,\n",
       " 'CAASALLPGGYTDKLIF': 167,\n",
       " 'CAASALPRWGRYTDKLIF': 168,\n",
       " 'CAASALPTGVVGDASGTDKLIF': 169,\n",
       " 'CAASALPTGVVGDTSGTDKLIF': 170,\n",
       " 'CAASALPTGVVGDTSGTDKLIL': 171,\n",
       " 'CAASALPTGVVGDTSGTDKPIF': 172,\n",
       " 'CAASALRLGDTQHTDKLIF': 173,\n",
       " 'CAASALRSELGDPYTDKLIF': 174,\n",
       " 'CAASALRSGGYTDKLIF': 175,\n",
       " 'CAASALRSSFSLGDTLREGTDKLIF': 176,\n",
       " 'CAASALSEGILRTYTDKLIF': 177,\n",
       " 'CAASALYWGIHRLALTAQLFF': 178,\n",
       " 'CAASAMALTAPYTDKLIF': 179,\n",
       " 'CAASAMRDAYTDKLIF': 180,\n",
       " 'CAASANHLLHTDKLIF': 181,\n",
       " 'CAASANPLPMIFRHPTDKLIF': 182,\n",
       " 'CAASANYWGIFRTDKLIF': 183,\n",
       " 'CAASAPDQGVPRGTAQLFF': 184,\n",
       " 'CAASAPETGALGPTDKLIF': 185,\n",
       " 'CAASAPGGGVTAQLFF': 186,\n",
       " 'CAASAPIEPFLTYWGMGTDKLIF': 187,\n",
       " 'CAASAPKRGGGGSHTDKLIF': 188,\n",
       " 'CAASAPKRGGGGTHTDKLIF': 189,\n",
       " 'CAASAPPHKYYWGSLPDKLIF': 190,\n",
       " 'CAASAPPLGGGTKDTDKLIF': 191,\n",
       " 'CAASAPPTGEAAQLFF': 192,\n",
       " 'CAASAPPYDATGGSFYTDKLIF': 193,\n",
       " 'CAASAPQRRGGGPYTDKLIF': 194,\n",
       " 'CAASAPRRDFFLPSLLGDREYTDKLIF': 195,\n",
       " 'CAASAPRYWGIITDKLIF': 196,\n",
       " 'CAASAPSLTGRLDTDKLIF': 197,\n",
       " 'CAASAPVYSKLIF': 198,\n",
       " 'CAASAQGLGDRSVTDKLIF': 199,\n",
       " 'CAASAQPFPGWYTDKLIF': 200,\n",
       " 'CAASAQYWGIQNTDKLIF': 201,\n",
       " 'CAASARAGGYTDKLIF': 202,\n",
       " 'CAASARFVMGDSFYTDKLIF': 203,\n",
       " 'CAASARGERSTLGDTNTDKLIF': 204,\n",
       " 'CAASARGGETDKLIF': 205,\n",
       " 'CAASARGIFWGTGKLIF': 206,\n",
       " 'CAASARGIPLDWDTRQMFF': 207,\n",
       " 'CAASARGVGVLGDTPDTDKLIF': 208,\n",
       " 'CAASARGVPLDWDTRQMFF': 209,\n",
       " 'CAASARGYSWDTRQMFF': 210,\n",
       " 'CAASARPIDKLIF': 211,\n",
       " 'CAASARPLLSYTDKLIF': 212,\n",
       " 'CAASARRGFYTDKLIF': 213,\n",
       " 'CAASARRNHTDKLIF': 214,\n",
       " 'CAASARSPSLLYWGIESDKLIF': 215,\n",
       " 'CAASARSTGGDTSSWDARQMFF': 216,\n",
       " 'CAASARSTGGDTSSWDTRQMFF': 217,\n",
       " 'CAASARTDKLIF': 218,\n",
       " 'CAASARTGGYRHYTDKLIF': 219,\n",
       " 'CAASARVSYGSVRDVYTDKLIF': 220,\n",
       " 'CAASARWGAYTDKLIF': 221,\n",
       " 'CAASARWGLSGYEVTDKLIF': 222,\n",
       " 'CAASASFPESTGGNTDKLIF': 223,\n",
       " 'CAASASGGPPETAQLFF': 224,\n",
       " 'CAASASGHTDKLIF': 225,\n",
       " 'CAASASLRMDTDKLIF': 226,\n",
       " 'CAASASPIWWIGGYTDKLIF': 227,\n",
       " 'CAASASPVTGLGQGSWYTDKLIF': 228,\n",
       " 'CAASASQMSPRDWGPSDKLIF': 229,\n",
       " 'CAASASRILGVRLYTDKLIF': 230,\n",
       " 'CAASASRLPRNGGHTDKLIF': 231,\n",
       " 'CAASASRTGGYEPLLYTDKLIF': 232,\n",
       " 'CAASASSPSYPTAQLFF': 233,\n",
       " 'CAASASSPWGIYKLIF': 234,\n",
       " 'CAASASYGGYWEGDKLIF': 235,\n",
       " 'CAASASYRAYGLGDMWIVDKLIF': 236,\n",
       " 'CAASATGAYTDKLIF': 237,\n",
       " 'CAASATRTHWGIRGVYTDKLIF': 238,\n",
       " 'CAASATSYASGGYQYTDKLIF': 239,\n",
       " 'CAASAVHLPTSWGIGYWGMKLIF': 240,\n",
       " 'CAASAVHLPTSWGIGYWGRKLIF': 241,\n",
       " 'CAASAVNWGPRYTDKLIF': 242,\n",
       " 'CAASAVPFLGGKHKLIF': 243,\n",
       " 'CAASAWGDRTHKLIF': 244,\n",
       " 'CAASAWGFLVLGSSQGTDKLIF': 245,\n",
       " 'CAASAWGIRTTDKLIF': 246,\n",
       " 'CAASAYPSSTGGYSTDKLIF': 247,\n",
       " 'CAASAYSYGTGGPKLIF': 248,\n",
       " 'CAASCVLGDDTDKLIF': 249,\n",
       " 'CAASDDPTFPAAAQLFF': 250,\n",
       " 'CAASDFGMGMPTDKLIF': 251,\n",
       " 'CAASDGGYLYTDKLIF': 252,\n",
       " 'CAASDGLANYTGEGSWDTRQMFF': 253,\n",
       " 'CAASDIPGGIFEHKLIF': 254,\n",
       " 'CAASDLVWGIWDSKLIF': 255,\n",
       " 'CAASDPGAPTILGDTLNLESKDLYTDKLIF': 256,\n",
       " 'CAASDPKASSGGYRTGDTDKLIF': 257,\n",
       " 'CAASDPPYGIRTDKLIF': 258,\n",
       " 'CAASDPTSWGASHTDTDKLIF': 259,\n",
       " 'CAASDRSIQNPTGGDTDKLIF': 260,\n",
       " 'CAASDRTGGSYTDKLIF': 261,\n",
       " 'CAASDRTGPLLGDESTDKLIF': 262,\n",
       " 'CAASDTLLPTGYWAADKLIF': 263,\n",
       " 'CAASDTSPYWGISDKLIF': 264,\n",
       " 'CAASE': 265,\n",
       " 'CAASEAGGYTDKLIF': 266,\n",
       " 'CAASEASPRLWGIRSGSDKLIF': 267,\n",
       " 'CAASECSLGPTRWGTYTDKLIF': 268,\n",
       " 'CAASECSLSGGYTDKLIF': 269,\n",
       " 'CAASEDYWGIRPTYTDKLIF': 270,\n",
       " 'CAASEFLLLGITGKLIF': 271,\n",
       " 'CAASEGFLTGGYAVTDKLIF': 272,\n",
       " 'CAASEGGRPYNNPDTGGWATDKLIF': 273,\n",
       " 'CAASEGIPGYPDKLIF': 274,\n",
       " 'CAASEGPGTDKLIF': 275,\n",
       " 'CAASEGPHSAGALKLIF': 276,\n",
       " 'CAASEGRGLVPHTDKLIF': 277,\n",
       " 'CAASEGVWGIHPYTDKLIF': 278,\n",
       " 'CAASEKIRPAGGTLDKLIF': 279,\n",
       " 'CAASELRGILSTAQLFF': 280,\n",
       " 'CAASEPGADWGIQYTDKLIF': 281,\n",
       " 'CAASEPGADWGIQYTDKLVF': 282,\n",
       " 'CAASERSGGFPYTDKLIF': 283,\n",
       " 'CAASETPGKDKLIF': 284,\n",
       " 'CAASEVGLGDKELIF': 285,\n",
       " 'CAASEVGLGDKKLIF': 286,\n",
       " 'CAASEVHLGDETDKLIF': 287,\n",
       " 'CAASEYLGDRGKLIF': 288,\n",
       " 'CAASFDWVTGGGSKLIF': 289,\n",
       " 'CAASFLPLGDTLDYTDKLIF': 290,\n",
       " 'CAASFLPRILGDSFPHSWDTRQMFF': 291,\n",
       " 'CAASFPGGYWFRGTDKLIF': 292,\n",
       " 'CAASFPVPPDTDKLIF': 293,\n",
       " 'CAASFTPLYWSDKLIF': 294,\n",
       " 'CAASFWGIRRGLIF': 295,\n",
       " 'CAASGAATDWGIGLALTAQLFF': 296,\n",
       " 'CAASGELFDSPLIRPRADKLIF': 297,\n",
       " 'CAASGGDLPQLSTGGYTDKLIF': 298,\n",
       " 'CAASGGFKRDNTNKLIF': 299,\n",
       " 'CAASGGFYWGKYTDKLIF': 300,\n",
       " 'CAASGGLPRHWASSDKLIF': 301,\n",
       " 'CAASGGLPWGYTDKLIF': 302,\n",
       " 'CAASGGNFGDKRDTDKLIF': 303,\n",
       " 'CAASGGRVLGDTQGYTDKLIF': 304,\n",
       " 'CAASGGTGDTRGRTDKLIF': 305,\n",
       " 'CAASGISLVSWGYTDKLIF': 306,\n",
       " 'CAASGLDWGIVKLIF': 307,\n",
       " 'CAASGLPSLLGGPNTDKLIF': 308,\n",
       " 'CAASGNWGISPDKLIF': 309,\n",
       " 'CAASGNWRGRDTDKLIF': 310,\n",
       " 'CAASGPMALVDKLIF': 311,\n",
       " 'CAASGPRTGDVTDKLIF': 312,\n",
       " 'CAASGPSYAGGYPDKLIF': 313,\n",
       " 'CAASGPVLPHWGTDKLIF': 314,\n",
       " 'CAASGRATKWGIKAGTDKLIF': 315,\n",
       " 'CAASGRLFLPRTGGYPNFFGGSTDKLIF': 316,\n",
       " 'CAASGRRLTDKLIF': 317,\n",
       " 'CAASGRRPSAAGPAGLPSTGGSAYTDKLIF': 318,\n",
       " 'CAASGRVLTPGGPYTDKLIF': 319,\n",
       " 'CAASGRVTFPVTRTGGLNTDKLIF': 320,\n",
       " 'CAASGSFLLGDRDTDKLIF': 321,\n",
       " 'CAASGSLSRAMVLRGYRGYDTDKLIF': 322,\n",
       " 'CAASGSSYVSGGFWADKLIF': 323,\n",
       " 'CAASGSTGGWRVYTDKLIF': 324,\n",
       " 'CAASGSWGMRYTDKLIF': 325,\n",
       " 'CAASGTGGYSWDTRQMFF': 326,\n",
       " 'CAASGTRGSTDKLIF': 327,\n",
       " 'CAASGTRTGGYGRRTDKLIF': 328,\n",
       " 'CAASGVLLGDRGLGLIF': 329,\n",
       " 'CAASGVSPPYWGHNKLIF': 330,\n",
       " 'CAASGYWNTDKLIF': 331,\n",
       " 'CAASHLSNVLGGSDTDKLIF': 332,\n",
       " 'CAASIGLPPESWGIRDWVPCTDKLIF': 333,\n",
       " 'CAASKPSSIRGINRGYTDKLIF': 334,\n",
       " 'CAASKSPSYVFWGIGYTDKLIF': 335,\n",
       " 'CAASLFPPGPTDKLIF': 336,\n",
       " 'CAASLFRGIRRPLIF': 337,\n",
       " 'CAASLGALSTDKLIF': 338,\n",
       " 'CAASLGSGAPAPTDKLIF': 339,\n",
       " 'CAASLLPVPHLYWGIQGIGTDKLIF': 340,\n",
       " 'CAASLLTGGAPKLIF': 341,\n",
       " 'CAASLPDPGADKLIF': 342,\n",
       " 'CAASLPGLDHPGTVTAQLFF': 343,\n",
       " 'CAASLSPPGGLDLCKLIF': 344,\n",
       " 'CAASLSPPGGLDLFKLIF': 345,\n",
       " 'CAASLWVPRTAQLFF': 346,\n",
       " 'CAASLYGGLQSDKLIF': 347,\n",
       " 'CAASMRLLDPYTDKLIF': 348,\n",
       " 'CAASMTFLRWGIRPYTDKLIF': 349,\n",
       " 'CAASNDGTGGYGRYTDKLIF': 350,\n",
       " 'CAASPAFLPYAVGDTRGLGYTDKLIF': 351,\n",
       " 'CAASPALLPYAVGDTRGLGYTDKLIF': 352,\n",
       " 'CAASPDSWGDGKLIF': 353,\n",
       " 'CAASPFLRDWGIRSSCTDKLIF': 354,\n",
       " 'CAASPFLRDWGIRSSYTDKLIF': 355,\n",
       " 'CAASPFPGEDTDKLIF': 356,\n",
       " 'CAASPFSLGDTGIRYTDKLIF': 357,\n",
       " 'CAASPGPLLLGEYTDKLIF': 358,\n",
       " 'CAASPGYWGMRAQLFF': 359,\n",
       " 'CAASPKGRRYTDKLIF': 360,\n",
       " 'CAASPLGLGDWTDKLIF': 361,\n",
       " 'CAASPPNNLFWGPFPDKLIF': 362,\n",
       " 'CAASPQVRTGDSSYTDKLIF': 363,\n",
       " 'CAASPQYWGDRYTDKLIF': 364,\n",
       " 'CAASPRGIRVFYTDKLIF': 365,\n",
       " 'CAASPRPSCTDKLIF': 366,\n",
       " 'CAASPTRGGFGYTDKLIF': 367,\n",
       " 'CAASQAREGMFPDKLIF': 368,\n",
       " 'CAASQILRRGVLGDTDKLIF': 369,\n",
       " 'CAASQISEYWDTDKLIF': 370,\n",
       " 'CAASQLGDTRYTDKLIF': 371,\n",
       " 'CAASQSSWGFYTDKLIF': 372,\n",
       " 'CAASQVGDSDKLIF': 373,\n",
       " 'CAASRASVSHWPYKLIF': 374,\n",
       " 'CAASRATQYWGIPEYTDKLIF': 375,\n",
       " 'CAASRGPTGYWGLYTDKLIF': 376,\n",
       " 'CAASRLGSWGIIGPDKLIF': 377,\n",
       " 'CAASRRAEGGRLGALTDKLIF': 378,\n",
       " 'CAASRRYWGIRGKLIF': 379,\n",
       " 'CAASRRYWGIRVKLIF': 380,\n",
       " 'CAASRSGWGIASTDKLIF': 381,\n",
       " 'CAASRSLPPGAYGGRTDKLIF': 382,\n",
       " 'CAASRSSPVPYSGGYWVLPYRLIF': 383,\n",
       " 'CAASRTLPFLRPSPMGINTDKLIF': 384,\n",
       " 'CAASRTSPYTDKLIF': 385,\n",
       " 'CAASRVEAGDSDKLIF': 386,\n",
       " 'CAASRYTGYTDKLIF': 387,\n",
       " 'CAASSAFLRGDTRRYTDKLIF': 388,\n",
       " 'CAASSFLFYTGGYTDKLIF': 389,\n",
       " 'CAASSLFLGWGNADKLIF': 390,\n",
       " 'CAASSLSNHVLGDTYQTAQLFF': 391,\n",
       " 'CAASSPSLPTVNLRTGGYGLSTDKLIF': 392,\n",
       " 'CAASSPSNGGFHTRPLIF': 393,\n",
       " 'CAASSRLGRRDTDKLIF': 394,\n",
       " 'CAASSTRLGEGTDKLIF': 395,\n",
       " 'CAASSTRYWGYTDKLIF': 396,\n",
       " 'CAASSTVPAAITDKLIF': 397,\n",
       " 'CAASSWEGPTSWDTRQMFF': 398,\n",
       " 'CAASSYWGSLYTDKLIF': 399,\n",
       " 'CAASTLPTGVVGDTSGTDKLIL': 400,\n",
       " 'CAASTLSYGIDATRKYWGIQTAQLFF': 401,\n",
       " 'CAASTPLGDTSYTDKLIF': 402,\n",
       " 'CAASTSQGHTDKLIF': 403,\n",
       " 'CAASTVRAFDKLIF': 404,\n",
       " 'CAASTYWPSYSPGDPLLTDKLIF': 405,\n",
       " 'CAASVAFLRLGDKGNDKLIF': 406,\n",
       " 'CAASVFQLVLGDPPALIF': 407,\n",
       " 'CAASVFWGLALTAQLFF': 408,\n",
       " 'CAASVFWGLALTAQPFF': 409,\n",
       " 'CAASVGLGDTGDTDKLIF': 410,\n",
       " 'CAASVGLGGDSYTDKLIF': 411,\n",
       " 'CAASVGPHWGTKPYTDKLIF': 412,\n",
       " 'CAASVGPKRYWATDKLIF': 413,\n",
       " 'CAASVGPSQSVLGDTDKLIF': 414,\n",
       " 'CAASVLHSNWGIYGSYTDKLIF': 415,\n",
       " 'CAASVPGYWGKRGYTDKLIF': 416,\n",
       " 'CAASVRHLSLLGGGYTDKLIF': 417,\n",
       " 'CAASVRPSYGVGDTDKLIF': 418,\n",
       " 'CAASVSLIPRSRQMSGGIPQYTDKLIF': 419,\n",
       " 'CAASVSLLLYTDKLIF': 420,\n",
       " 'CAASVSQPSHWGPHYTDKLIF': 421,\n",
       " 'CAASVTHRRRLPILGDWMTRDKLIF': 422,\n",
       " 'CAASVVRLSGAGGYGADKLIF': 423,\n",
       " 'CAASVWGKYTDKLIF': 424,\n",
       " 'CAASVWYTFLLGDTKKFMPYTDKLIF': 425,\n",
       " 'CAASWPSSLPVLGARSWIHDKLIF': 426,\n",
       " 'CAASWTTRVLGLTDKLIF': 427,\n",
       " 'CAASYLLPSWGYEASDKLIF': 428,\n",
       " 'CAASYLPDRVLGDPHYTDKLIF': 429,\n",
       " 'CAASYRGIKCSDKLIF': 430,\n",
       " 'CAATCSHSELGEPLYTDKLIF': 431,\n",
       " 'CAATDVRGMVATDKLIF': 432,\n",
       " 'CAATEPLPGSDKLIF': 433,\n",
       " 'CAATFLRLGEIDKLIF': 434,\n",
       " 'CAATGGLRYTDKLIF': 435,\n",
       " 'CAATGLGAYDKLIF': 436,\n",
       " 'CAATGPRKDKLIF': 437,\n",
       " 'CAATGRRGLYTDKLIF': 438,\n",
       " 'CAATGSFLLLGGTDKLIF': 439,\n",
       " 'CAATIFGGTSAKLIF': 440,\n",
       " 'CAATLAAVLPPQNWGYADKLIF': 441,\n",
       " 'CAATLAAVLPPQNWGYTDKLIF': 442,\n",
       " 'CAATLHHTGFTYGASDKLIF': 443,\n",
       " 'CAATLHPTGGISYTDKLIF': 444,\n",
       " 'CAATLLGVRTGGSPSPTDKLIF': 445,\n",
       " 'CAATLPSPTGGYVPHTDKLIF': 446,\n",
       " 'CAATLSFLPQHWGIRGTDKLIF': 447,\n",
       " 'CAATLSFLPQYWGIRGTDKLIF': 448,\n",
       " 'CAATLTAFFFFGGYPTDKLIF': 449,\n",
       " 'CAATPNPTLPRNTDKLIF': 450,\n",
       " 'CAATPQRRTYGADKLIF': 451,\n",
       " 'CAATQGLSWERPYTDKLIF': 452,\n",
       " 'CAATQGLSWGRPYTDKLIF': 453,\n",
       " 'CAATRTGGYGDKLIF': 454,\n",
       " 'CAATSLGRKTDKLIF': 455,\n",
       " 'CAATSPGLPPFNTDKLIF': 456,\n",
       " 'CAATSPYLRGGGGGGYTDKLIF': 457,\n",
       " 'CAATSSYVAGALTDKLIF': 458,\n",
       " 'CAATTAFRDLRWGPFTDKLIF': 459,\n",
       " 'CAATTGNGGYADKLIF': 460,\n",
       " 'CAATTGSSLLGGYSDKLIF': 461,\n",
       " 'CAATVIPYWGIRTDKLIF': 462,\n",
       " 'CAATVLGAAYTDKLIF': 463,\n",
       " 'CAATVLGSRDGPLIF': 464,\n",
       " 'CAATVLGSRDRPLIF': 465,\n",
       " 'CAATVPSYFGGSKLIF': 466,\n",
       " 'CAAVLLGDNPTDKLIF': 467,\n",
       " 'CAAVLVPTRLGGIRGLRYTDKLIF': 468,\n",
       " 'CAAVPAGGSQYTDKLIF': 469,\n",
       " 'CAAVQGTSYGGYATDKLIF': 470,\n",
       " 'CAAVVLPTDRGIMGTDKLIF': 471,\n",
       " 'CAAVWRGGGVVKLIF': 472,\n",
       " 'CAAWEETSPGIRGYTDKLIF': 473,\n",
       " 'CAAYLLGDTTDKLIF': 474,\n",
       " 'CAAYLNSGAYTDKLIF': 475,\n",
       " 'CACAAILLGDPEYTDKLIF': 476,\n",
       " 'CACAALGDPRVPYTDKLIF': 477,\n",
       " 'CACAALGDTTMAWDTRQMFF': 478,\n",
       " 'CACAALGDTTVAWDTRQMFF': 479,\n",
       " 'CACAALGETTDKLIF': 480,\n",
       " 'CACAALGGYARRDTDKLIF': 481,\n",
       " 'CACAALGTQDTDKLIF': 482,\n",
       " 'CACAALGVLYTDKLIF': 483,\n",
       " 'CACAALLGDTSDKLIF': 484,\n",
       " 'CACAALLGTSSWDTRQMFF': 485,\n",
       " 'CACAALVPGPDKLIF': 486,\n",
       " 'CACAAVGLGDTRASDKLIF': 487,\n",
       " 'CACAAVGLNTDKLIF': 488,\n",
       " 'CACAAVPSYPRGGNYTDKLIF': 489,\n",
       " 'CACAAVRAPSLGDTPDKLIF': 490,\n",
       " 'CACADLLGSWDTRQMFF': 491,\n",
       " 'CACADLPSPGGGLYTDKLIF': 492,\n",
       " 'CACADMELGGIPHTDKLIF': 493,\n",
       " 'CACADTGGWGTDKLIF': 494,\n",
       " 'CACAELGADTDKLIF': 495,\n",
       " 'CACAELGDKAHSDKLIF': 496,\n",
       " 'CACAELGDRVTDKLIF': 497,\n",
       " 'CACAELGVNTDKLIF': 498,\n",
       " 'CACAELGYTDKLIF': 499,\n",
       " 'CACAELLGDMDSWDTRQMFF': 500,\n",
       " 'CACAEREPKLIF': 501,\n",
       " 'CACAEYTDKLIF': 502,\n",
       " 'CACAFLGETDKLIF': 503,\n",
       " 'CACAFLVLGKGSDKLIF': 504,\n",
       " 'CACAFPMGDKAKLIF': 505,\n",
       " 'CACAGGYSWDTRQMFF': 506,\n",
       " 'CACAGIVGSWDTRQMFF': 507,\n",
       " 'CACAGLGDRVTDKLIF': 508,\n",
       " 'CACAGLGDTDDKLIF': 509,\n",
       " 'CACAGLGVTGGHGDTDKLIF': 510,\n",
       " 'CACAGLLLLGDKESTDKLIF': 511,\n",
       " 'CACAGLPNVLGSAYTDKLIF': 512,\n",
       " 'CACAGVGGPYTDKLIF': 513,\n",
       " 'CACAGWGIPLTDKLIF': 514,\n",
       " 'CACAHIPLLGDTRTDKLIF': 515,\n",
       " 'CACAHLGFSGIAKYTDKLIF': 516,\n",
       " 'CACAHLLPTGGYADKLIF': 517,\n",
       " 'CACAILMGDTGHTDKLIF': 518,\n",
       " 'CACAITGKLIF': 519,\n",
       " 'CACALGAYAAYTDKLIF': 520,\n",
       " 'CACALGDRYADKLIF': 521,\n",
       " 'CACALLGAKYTDKLIF': 522,\n",
       " 'CACALLNPEFSIF': 523,\n",
       " 'CACALLPNSGDTSDKLIF': 524,\n",
       " 'CACALPSPRKLIF': 525,\n",
       " 'CACALPTPYRSHTWDTRQMFF': 526,\n",
       " 'CACALVPGPGGYTDKLIF': 527,\n",
       " 'CACANLRLTDKLIF': 528,\n",
       " 'CACANPKGRDKLIF': 529,\n",
       " 'CACAPAGGRSWDTRQMFF': 530,\n",
       " 'CACAPIDLGARGGKLIF': 531,\n",
       " 'CACAPITGGYAWDTRQMFF': 532,\n",
       " 'CACAPLAAPGGAYTDKLIF': 533,\n",
       " 'CACAPLAAPGGTYTDKLIF': 534,\n",
       " 'CACAPLAAPGGTYTDKRIF': 535,\n",
       " 'CACAPLGGDTDKLIF': 536,\n",
       " 'CACAPLGKGSSWDTRQMFF': 537,\n",
       " 'CACAPLGLGDTVTDKLIF': 538,\n",
       " 'CACAPLGPRRADKLIF': 539,\n",
       " 'CACAPLGSWGIRGTDKLIF': 540,\n",
       " 'CACAPLGTGEYTDKLIF': 541,\n",
       " 'CACAPLGVSYTDKLIF': 542,\n",
       " 'CACAPLLGDTLYTDKLIF': 543,\n",
       " 'CACAPLNWGHKGGTDKLIF': 544,\n",
       " 'CACAPLPAGGSYTDKLIF': 545,\n",
       " 'CACAPLQGDTGKLIF': 546,\n",
       " 'CACAPLRTGGFITDKLIF': 547,\n",
       " 'CACAPLRVTGGSGIPYTDKLIF': 548,\n",
       " 'CACAPLSDWGVDKLIF': 549,\n",
       " 'CACAPLTGGYAWDTRQMFF': 550,\n",
       " 'CACAPSAAPGGTYTDKLIF': 551,\n",
       " 'CACAPVGEHTDKLIF': 552,\n",
       " 'CACAPVGGGSWDTRQMFF': 553,\n",
       " 'CACAPVLGDGSSWDTRQMFF': 554,\n",
       " 'CACAPVPTRDYTDKLIF': 555,\n",
       " 'CACAPVSGSWDTRQMFF': 556,\n",
       " 'CACAPVTGGFPTDKLIF': 557,\n",
       " 'CACAPVVGDTRWDTRQMFF': 558,\n",
       " 'CACAQLGQHTDKLIF': 559,\n",
       " 'CACAQLRTGGYTDKLIF': 560,\n",
       " 'CACAQLSSGGYTDKLIF': 561,\n",
       " 'CACAQRSKKVGDTQRSSWDTRQMFF': 562,\n",
       " 'CACARGGYPRYTDKLIF': 563,\n",
       " 'CACARLGAMYTDKLIF': 564,\n",
       " 'CACARLGDFCTDKLIF': 565,\n",
       " 'CACARLGIPTDKLIF': 566,\n",
       " 'CACARQMFF': 567,\n",
       " 'CACARQRFF': 568,\n",
       " 'CACARQVFF': 569,\n",
       " 'CACARVGADTDKLIF': 570,\n",
       " 'CACARVSYTDKLIF': 571,\n",
       " 'CACASAGGSSWDTRQMFF': 572,\n",
       " 'CACASGGYEDKLIF': 573,\n",
       " 'CACASHTGGPYL': 574,\n",
       " 'CACASKGPQIGTDKLIF': 575,\n",
       " 'CACASLGDKDKLIF': 576,\n",
       " 'CACASLGDTSWDTRQMFF': 577,\n",
       " 'CACASLGEKYTDKLIF': 578,\n",
       " 'CACASLPTKLGDTRNTDKLIF': 579,\n",
       " 'CACASLPTKPGDTRNTDKLIF': 580,\n",
       " 'CACASLPTYGDDTDKLIF': 581,\n",
       " 'CACASLSEGGYTDKLIF': 582,\n",
       " 'CACASLSTGLGEVYTDKLIF': 583,\n",
       " 'CACASPDKLIF': 584,\n",
       " 'CACASRTGGPYL': 585,\n",
       " 'CACATDSLGDTRLSWDTRQMFF': 586,\n",
       " 'CACATLAGLGDTSELIF': 587,\n",
       " 'CACATLGDLTDKLIF': 588,\n",
       " 'CACATLGVSYTDKLIF': 589,\n",
       " 'CACATLRGGQRYTDKLIF': 590,\n",
       " 'CACATLSATGGAYTDKLIF': 591,\n",
       " 'CACATLVPDKLIF': 592,\n",
       " 'CACATVTGSSWDTRQMFF': 593,\n",
       " 'CACATWGYTDKLIF': 594,\n",
       " 'CACAVGGYASDKLIF': 595,\n",
       " 'CACAVLGEPDKLIF': 596,\n",
       " 'CACAVLSLTDKLIF': 597,\n",
       " 'CACAVRGTYTDKLIF': 598,\n",
       " 'CACAYRTGTRKLIF': 599,\n",
       " 'CACCTGGYEYTDKLIF': 600,\n",
       " 'CACDAAALGDRVSWDTRQMFF': 601,\n",
       " 'CACDAAALRGTVGKADKLIF': 602,\n",
       " 'CACDAADISSWDTRQMFF': 603,\n",
       " 'CACDAADTSSSWDTRQMFF': 604,\n",
       " 'CACDAAGALGDLKLIF': 605,\n",
       " 'CACDAAGDTPNTDKLIF': 606,\n",
       " 'CACDAAGGIAWDTRQMFF': 607,\n",
       " 'CACDAAGGLSSWDTRQMFF': 608,\n",
       " 'CACDAAGGPSSWDTRQMFF': 609,\n",
       " 'CACDAAGGTKERSWDTRQMFF': 610,\n",
       " 'CACDAAGGVADKLIF': 611,\n",
       " 'CACDAAGNWGIHSWDTRQMFF': 612,\n",
       " 'CACDAAGPPSSWDTRQMFF': 613,\n",
       " 'CACDAAGVYTDKLIF': 614,\n",
       " 'CACDAAKMGDTRAWDTRQMFF': 615,\n",
       " 'CACDAALGDTRSWDTRQMFF': 616,\n",
       " 'CACDAAPLGDSRPVTDKLIF': 617,\n",
       " 'CACDAAPTGGILSDKLIF': 618,\n",
       " 'CACDAARGIRTWDTRQMFF': 619,\n",
       " 'CACDAARRGHTDKLIF': 620,\n",
       " 'CACDAARSTGGYEARPLIF': 621,\n",
       " 'CACDAARTSFLTGDQGSDKLIF': 622,\n",
       " 'CACDAARWGISSWDTRQMFF': 623,\n",
       " 'CACDAASGGPRSWDTRQMFF': 624,\n",
       " 'CACDAATGGPGPQIGKLIF': 625,\n",
       " 'CACDAATGGYAPTYTDKLIF': 626,\n",
       " 'CACDAATGGYASQDTRQMFF': 627,\n",
       " 'CACDAAVTGGYASWDTRQMFF': 628,\n",
       " 'CACDAAWRVGVGDTQSSWDTRQMFF': 629,\n",
       " 'CACDAELGDPAYTDKLIF': 630,\n",
       " 'CACDAERIVKLIF': 631,\n",
       " 'CACDAFGDTKLIF': 632,\n",
       " 'CACDAFGLGESSWDTRQMFF': 633,\n",
       " 'CACDAFGTGGPSSWDTRQMFF': 634,\n",
       " 'CACDAFHTDKLIF': 635,\n",
       " 'CACDAFPATGGFSSWDTRQMFF': 636,\n",
       " 'CACDAFPGDPYTDKLIF': 637,\n",
       " 'CACDAFQLGDHTKPDKLIF': 638,\n",
       " 'CACDAFTQKTDRETWDTRQMFF': 639,\n",
       " 'CACDAFVSGGQYTDKLIF': 640,\n",
       " 'CACDAFYSTGGSLVTDKLIF': 641,\n",
       " 'CACDAGDRFADKLIF': 642,\n",
       " 'CACDAGDTRSWDTRQMFF': 643,\n",
       " 'CACDAGELGARDSWDTRQMFF': 644,\n",
       " 'CACDAGGFTGSWDTRQMFF': 645,\n",
       " 'CACDAGGFTSSWDTRQMFF': 646,\n",
       " 'CACDAGGGIPSWDTRQMFF': 647,\n",
       " 'CACDAGGPNPYTDKLIF': 648,\n",
       " 'CACDAGGSYTDKLIF': 649,\n",
       " 'CACDAGGYAHTDKLIF': 650,\n",
       " 'CACDAGGYDSWDTRQMFF': 651,\n",
       " 'CACDAGGYGSWDTRQMFF': 652,\n",
       " 'CACDAGGYSDWDTRQMFF': 653,\n",
       " 'CACDAGGYSWDTRQMFF': 654,\n",
       " 'CACDAGIQIGSWDTRQMFF': 655,\n",
       " 'CACDAGNLYQLGGYGGLYTDKLIF': 656,\n",
       " 'CACDAGRGDTLWDTRQMFF': 657,\n",
       " 'CACDAGYWGSTDKLIF': 658,\n",
       " 'CACDAIAELGDDWNTDKLIF': 659,\n",
       " 'CACDAIAGDMYTDKLIF': 660,\n",
       " 'CACDAIAGGYGDRYTDKLIF': 661,\n",
       " 'CACDAIATSLHTDKLIF': 662,\n",
       " 'CACDAIDRYTDKLIF': 663,\n",
       " 'CACDAIESLPTGKGNKLIF': 664,\n",
       " 'CACDAIGASAGIADKLIF': 665,\n",
       " 'CACDAIGGRYDKLIF': 666,\n",
       " 'CACDAIGGYTDKLIF': 667,\n",
       " 'CACDAIGHIGGLGDDTDKLIF': 668,\n",
       " 'CACDAIGPATGTGGYPYTDKLIF': 669,\n",
       " 'CACDAIGSPGRLPYTDKLIF': 670,\n",
       " 'CACDAIGTGDPQGETDKLIF': 671,\n",
       " 'CACDAIIGGYRSDKLIF': 672,\n",
       " 'CACDAIILGDTHPTIDKLIF': 673,\n",
       " 'CACDAIIPHEGTDKLIF': 674,\n",
       " 'CACDAIKVLGEDTDKLIF': 675,\n",
       " 'CACDAILAPRGTDKLIF': 676,\n",
       " 'CACDAILGASRGTDKLIF': 677,\n",
       " 'CACDAILGDGGGGTDKLIF': 678,\n",
       " 'CACDAILGDIESLIF': 679,\n",
       " 'CACDAILGDKRGLIF': 680,\n",
       " 'CACDAILGDKVLIF': 681,\n",
       " 'CACDAILGDLDKLIF': 682,\n",
       " 'CACDAILGDNTDKLIF': 683,\n",
       " 'CACDAILGDRRGLIF': 684,\n",
       " 'CACDAILGDRYADKLIF': 685,\n",
       " 'CACDAILGDRYTDKLIF': 686,\n",
       " 'CACDAILGDSHKLIF': 687,\n",
       " 'CACDAILGDTAYTDKLIF': 688,\n",
       " 'CACDAILGDTDKLIF': 689,\n",
       " 'CACDAILGDTEYTDKLIF': 690,\n",
       " 'CACDAILGDTGDTRQMFF': 691,\n",
       " 'CACDAILGDTGTDKLIF': 692,\n",
       " 'CACDAILGDTHYQRGDKLIF': 693,\n",
       " 'CACDAILGDTIDTDKLIF': 694,\n",
       " 'CACDAILGDTLGSSWDTRQMFF': 695,\n",
       " 'CACDAILGDTRADKLIF': 696,\n",
       " 'CACDAILGDTRERTDKLIF': 697,\n",
       " 'CACDAILGDTRGGYTDKLIF': 698,\n",
       " 'CACDAILGDTRRENKLIF': 699,\n",
       " 'CACDAILGDTSWDTRQMFF': 700,\n",
       " 'CACDAILGDTTGGDKLIF': 701,\n",
       " 'CACDAILGDTWDTRQMFF': 702,\n",
       " 'CACDAILGETSWDTRQMFF': 703,\n",
       " 'CACDAILGGTADKLIF': 704,\n",
       " 'CACDAILLGDTQEGGQYTDKLIF': 705,\n",
       " 'CACDAILPSGKDKLIF': 706,\n",
       " 'CACDAILRAEPLTDKLIF': 707,\n",
       " 'CACDAILRTGGADKLIF': 708,\n",
       " 'CACDAILRTGGLIF': 709,\n",
       " 'CACDAILRTGRLIF': 710,\n",
       " 'CACDAILSLRLGDTSTDKLIF': 711,\n",
       " 'CACDAIMTGGDTDKLIF': 712,\n",
       " 'CACDAIPGTGGYAGKLIF': 713,\n",
       " 'CACDAIPHWGIRDTDKLIF': 714,\n",
       " 'CACDAIPLPQPTEGDTQTKLIF': 715,\n",
       " 'CACDAIPPGESPYTDKLIF': 716,\n",
       " 'CACDAIPSDLLGAGGKLIF': 717,\n",
       " 'CACDAIPTDQSRDTGADKLIF': 718,\n",
       " 'CACDAIPTEVGWGIDTDKLIF': 719,\n",
       " 'CACDAIPTGGYQSDTDKLIF': 720,\n",
       " 'CACDAIPTLLGDTLTDKLIF': 721,\n",
       " 'CACDAIQGDPTSWDTRQMFF': 722,\n",
       " 'CACDAIQPLTTGGSGLIF': 723,\n",
       " 'CACDAIRGDKLIF': 724,\n",
       " 'CACDAIRGDTAWDTRQMFF': 725,\n",
       " 'CACDAIRGIFWDTRQMFF': 726,\n",
       " 'CACDAIRGNDKLIF': 727,\n",
       " 'CACDAIRGSGKYTDKLIF': 728,\n",
       " 'CACDAIRTGGEPDKLIF': 729,\n",
       " 'CACDAIRTGGPFDTDKLIF': 730,\n",
       " 'CACDAIRTGGTEYTDKLIF': 731,\n",
       " 'CACDAIRTGGYSTDKLIF': 732,\n",
       " 'CACDAISGDKLIF': 733,\n",
       " 'CACDAISLGLGDTADKLIF': 734,\n",
       " 'CACDAISSGGAYTDKLF': 735,\n",
       " 'CACDAISSGGAYTDKLIF': 736,\n",
       " 'CACDAISSLGDMTDKLIF': 737,\n",
       " 'CACDAISYPPGLTGGSVPDKLIF': 738,\n",
       " 'CACDAISYWGPAPGVVTDKLIF': 739,\n",
       " 'CACDAITGDLYTDKLIF': 740,\n",
       " 'CACDAITGGETLYTDKLIF': 741,\n",
       " 'CACDAITGGSSFPDKLIF': 742,\n",
       " 'CACDAITGGYAGTDKLIF': 743,\n",
       " 'CACDAITGGYANTDKLIF': 744,\n",
       " 'CACDAITGGYARYTDKLIF': 745,\n",
       " 'CACDAITGGYAVGLIF': 746,\n",
       " 'CACDAITGGYAYTDKLIF': 747,\n",
       " 'CACDAITGGYDTDKLIF': 748,\n",
       " 'CACDAITGGYGGTDKLIF': 749,\n",
       " 'CACDAITGGYHTDKLIF': 750,\n",
       " 'CACDAITGGYRSDKLIF': 751,\n",
       " 'CACDAITGGYRSDKLTF': 752,\n",
       " 'CACDAITGTEGADKLIF': 753,\n",
       " 'CACDAITLGDTATDKLIF': 754,\n",
       " 'CACDAITPLTGGPTDKLIF': 755,\n",
       " 'CACDAITTAGGLVEYTDKLIF': 756,\n",
       " 'CACDAIVLGDTRVSDKLIF': 757,\n",
       " 'CACDAIVSPDKLIF': 758,\n",
       " 'CACDAIYGRSDKLIF': 759,\n",
       " 'CACDAKYPYRIWDTRQMFF': 760,\n",
       " 'CACDALAGDFDKLIF': 761,\n",
       " 'CACDALAGGSWDTRQMFF': 762,\n",
       " 'CACDALAGRNTDKLIF': 763,\n",
       " 'CACDALAPRDKLIF': 764,\n",
       " 'CACDALATPRGIRGADKLIF': 765,\n",
       " 'CACDALDRGYVGMYASTDKLIF': 766,\n",
       " 'CACDALDSGGYAADKLIF': 767,\n",
       " 'CACDALDTGGPGVKLIF': 768,\n",
       " 'CACDALEETDKLIF': 769,\n",
       " 'CACDALEGDTRNGYTDKLIF': 770,\n",
       " 'CACDALEGIQGGTDKLIF': 771,\n",
       " 'CACDALEGLGVGTDKLIF': 772,\n",
       " 'CACDALEGPRNTDKLIF': 773,\n",
       " 'CACDALEGYTDKLIF': 774,\n",
       " 'CACDALERMGDISDKLIF': 775,\n",
       " 'CACDALEVTDKLIF': 776,\n",
       " 'CACDALEYTDKLIF': 777,\n",
       " 'CACDALFKAGGYTDKLIF': 778,\n",
       " 'CACDALGAGDKLIF': 779,\n",
       " 'CACDALGAKRADKLIF': 780,\n",
       " 'CACDALGAPDSWDTRQMFF': 781,\n",
       " 'CACDALGATTNTDKLIF': 782,\n",
       " 'CACDALGAYTDKLIF': 783,\n",
       " 'CACDALGDADKLIF': 784,\n",
       " 'CACDALGDATDKLIF': 785,\n",
       " 'CACDALGDDKLIF': 786,\n",
       " 'CACDALGDDTDKLIF': 787,\n",
       " 'CACDALGDETTDKLIF': 788,\n",
       " 'CACDALGDGGYTDKLIF': 789,\n",
       " 'CACDALGDGVTAQLFF': 790,\n",
       " 'CACDALGDHDKLIF': 791,\n",
       " 'CACDALGDIADKLIF': 792,\n",
       " 'CACDALGDIDSWDTRQMFF': 793,\n",
       " 'CACDALGDIGDKLIF': 794,\n",
       " 'CACDALGDIPGYTDKLIF': 795,\n",
       " 'CACDALGDISDKLIF': 796,\n",
       " 'CACDALGDITADTDKLIF': 797,\n",
       " 'CACDALGDKDKLIF': 798,\n",
       " 'CACDALGDKFNADKLIF': 799,\n",
       " 'CACDALGDKMAYKLIF': 800,\n",
       " 'CACDALGDKRGDDKLIF': 801,\n",
       " 'CACDALGDLYTDELIF': 802,\n",
       " 'CACDALGDLYTDKLIF': 803,\n",
       " 'CACDALGDMDKLIF': 804,\n",
       " 'CACDALGDNTDKLIF': 805,\n",
       " 'CACDALGDNTPNTDKLIF': 806,\n",
       " 'CACDALGDPDKLIF': 807,\n",
       " 'CACDALGDPSSWDTRQMFF': 808,\n",
       " 'CACDALGDPYTDKLIF': 809,\n",
       " 'CACDALGDRDKLIF': 810,\n",
       " 'CACDALGDRDSSWDTRQMFF': 811,\n",
       " 'CACDALGDRGSWDTRQMFF': 812,\n",
       " 'CACDALGDRKAGSLTAQLFF': 813,\n",
       " 'CACDALGDRNTDKLIF': 814,\n",
       " 'CACDALGDRTDKLIF': 815,\n",
       " 'CACDALGDSDKLIF': 816,\n",
       " 'CACDALGDSGDKLIF': 817,\n",
       " 'CACDALGDSKYTDKLIF': 818,\n",
       " 'CACDALGDSNKLIF': 819,\n",
       " 'CACDALGDSRDTDKLIF': 820,\n",
       " 'CACDALGDSSWDTRQMFF': 821,\n",
       " 'CACDALGDTAQLFF': 822,\n",
       " 'CACDALGDTARLFF': 823,\n",
       " 'CACDALGDTDKLIF': 824,\n",
       " 'CACDALGDTDPYTDKLIF': 825,\n",
       " 'CACDALGDTDTDKLIF': 826,\n",
       " 'CACDALGDTEGNTDKLIF': 827,\n",
       " 'CACDALGDTGDKLIF': 828,\n",
       " 'CACDALGDTGGTDKLIF': 829,\n",
       " 'CACDALGDTGTDKLIF': 830,\n",
       " 'CACDALGDTGVGDKLIF': 831,\n",
       " 'CACDALGDTHFPQYTDKLIF': 832,\n",
       " 'CACDALGDTKGLTAQLFF': 833,\n",
       " 'CACDALGDTLDTDKLIF': 834,\n",
       " 'CACDALGDTLFPDKLIF': 835,\n",
       " 'CACDALGDTLSFSLDKLIF': 836,\n",
       " 'CACDALGDTNDKLIF': 837,\n",
       " 'CACDALGDTNTDKLIF': 838,\n",
       " 'CACDALGDTPAPTDKLIF': 839,\n",
       " 'CACDALGDTPAPTDKPIF': 840,\n",
       " 'CACDALGDTQDKLIF': 841,\n",
       " 'CACDALGDTQGLKKLIF': 842,\n",
       " 'CACDALGDTRADKLIF': 843,\n",
       " 'CACDALGDTRDKLIF': 844,\n",
       " 'CACDALGDTRGSTDKLIF': 845,\n",
       " 'CACDALGDTRGYTDKLIF': 846,\n",
       " 'CACDALGDTRQEDKLIF': 847,\n",
       " 'CACDALGDTRWDTRQMFF': 848,\n",
       " 'CACDALGDTRYTDKLIF': 849,\n",
       " 'CACDALGDTSYTDKLIF': 850,\n",
       " 'CACDALGDTVDKLIF': 851,\n",
       " 'CACDALGDTWADKLIF': 852,\n",
       " 'CACDALGDWGTNPDTDKLIF': 853,\n",
       " 'CACDALGDWHDKLIF': 854,\n",
       " 'CACDALGDYGDKLIF': 855,\n",
       " 'CACDALGDYTDKLIF': 856,\n",
       " 'CACDALGEDTDKLIF': 857,\n",
       " 'CACDALGEGTDKLIF': 858,\n",
       " 'CACDALGEPYTDKLIF': 859,\n",
       " 'CACDALGERTDKLIF': 860,\n",
       " 'CACDALGESDKLIF': 861,\n",
       " 'CACDALGETDKLIF': 862,\n",
       " 'CACDALGEYTDKLIF': 863,\n",
       " 'CACDALGFNSWDTRQMFF': 864,\n",
       " 'CACDALGGDKLIF': 865,\n",
       " 'CACDALGGDNNDKLIF': 866,\n",
       " 'CACDALGGENRYKLIF': 867,\n",
       " 'CACDALGGIRSDKLIF': 868,\n",
       " 'CACDALGGLTDKLIF': 869,\n",
       " 'CACDALGGPDKLIF': 870,\n",
       " 'CACDALGGPSTDKLIF': 871,\n",
       " 'CACDALGGSDKLIF': 872,\n",
       " 'CACDALGGSDKLSF': 873,\n",
       " 'CACDALGGSTDKLIF': 874,\n",
       " 'CACDALGGTAQLFF': 875,\n",
       " 'CACDALGGTDKLIF': 876,\n",
       " 'CACDALGGYAAYTDKLIF': 877,\n",
       " 'CACDALGGYADKLIF': 878,\n",
       " 'CACDALGGYKLIF': 879,\n",
       " 'CACDALGGYTDKLIF': 880,\n",
       " 'CACDALGINTDKLIF': 881,\n",
       " 'CACDALGIRPDKLIF': 882,\n",
       " 'CACDALGIRTGKLIF': 883,\n",
       " 'CACDALGITDKLIF': 884,\n",
       " 'CACDALGKGYTDKLIF': 885,\n",
       " 'CACDALGLGSADKLIF': 886,\n",
       " 'CACDALGLNLGLIF': 887,\n",
       " 'CACDALGMEGYTDKLIF': 888,\n",
       " 'CACDALGPGATDKLIF': 889,\n",
       " 'CACDALGPNFPAGIQNPDKLIF': 890,\n",
       " 'CACDALGQDTDKLIF': 891,\n",
       " 'CACDALGQKYADKLIF': 892,\n",
       " 'CACDALGQKYTDKLIF': 893,\n",
       " 'CACDALGSLGDKLIF': 894,\n",
       " 'CACDALGSLTDKLIF': 895,\n",
       " 'CACDALGSNTDKLIF': 896,\n",
       " 'CACDALGSPSDKLIF': 897,\n",
       " 'CACDALGSSPHDKLIF': 898,\n",
       " 'CACDALGSSSWDTRQMFF': 899,\n",
       " 'CACDALGSYTDKLIF': 900,\n",
       " 'CACDALGTDKLIF': 901,\n",
       " 'CACDALGTNTDKLIF': 902,\n",
       " 'CACDALGTRKTDKLIF': 903,\n",
       " 'CACDALGTYTDKLIF': 904,\n",
       " 'CACDALGVFTDKLIF': 905,\n",
       " 'CACDALGVITDKLIF': 906,\n",
       " 'CACDALGVTDKLIF': 907,\n",
       " 'CACDALGVTDKLTF': 908,\n",
       " 'CACDALGVYTDKLIF': 909,\n",
       " 'CACDALHMVRQKLIF': 910,\n",
       " 'CACDALHPLSSWDTRQMFF': 911,\n",
       " 'CACDALIGGYDLTDKLIF': 912,\n",
       " 'CACDALILGDTDKLIF': 913,\n",
       " 'CACDALIREGLRGEVAKLIF': 914,\n",
       " 'CACDALIRGDKLIF': 915,\n",
       " 'CACDALITGYTDKLIF': 916,\n",
       " 'CACDALKFGGDTGDTDKLIF': 917,\n",
       " 'CACDALKGGDSVGYTDKLIF': 918,\n",
       " 'CACDALKRIPSSWDTRQMFF': 919,\n",
       " 'CACDALKSLGDLYTDKLIF': 920,\n",
       " 'CACDALKVGDTGTDKLIF': 921,\n",
       " 'CACDALKYTDKLIF': 922,\n",
       " 'CACDALKYTDRLIF': 923,\n",
       " 'CACDALLANPNLYTDKLIF': 924,\n",
       " 'CACDALLDASPYTDKLIF': 925,\n",
       " 'CACDALLDTDKLIF': 926,\n",
       " 'CACDALLENIDTDKLIF': 927,\n",
       " 'CACDALLGAADKLIF': 928,\n",
       " 'CACDALLGADKLIF': 929,\n",
       " 'CACDALLGAFTDKLIF': 930,\n",
       " 'CACDALLGANTDKLIF': 931,\n",
       " 'CACDALLGAVTDKLIF': 932,\n",
       " 'CACDALLGAVYTDKLIF': 933,\n",
       " 'CACDALLGDAFFTDKLIF': 934,\n",
       " 'CACDALLGDAYTDKLIF': 935,\n",
       " 'CACDALLGDDTDKLIF': 936,\n",
       " 'CACDALLGDESSWDTRQMFF': 937,\n",
       " 'CACDALLGDGDKLIF': 938,\n",
       " 'CACDALLGDIRRSTDKLIF': 939,\n",
       " 'CACDALLGDKGKLIF': 940,\n",
       " 'CACDALLGDKLIF': 941,\n",
       " 'CACDALLGDKYTDKLIF': 942,\n",
       " 'CACDALLGDLSWDTRQMFF': 943,\n",
       " 'CACDALLGDLSWGTRQMFF': 944,\n",
       " 'CACDALLGDLTDKLIF': 945,\n",
       " 'CACDALLGDNELVGDKLIF': 946,\n",
       " 'CACDALLGDPSWDTRQMFF': 947,\n",
       " 'CACDALLGDPTPYTDKLIF': 948,\n",
       " 'CACDALLGDPVVGTDKLIF': 949,\n",
       " 'CACDALLGDRYTDKLIF': 950,\n",
       " 'CACDALLGDSGGTDKLIF': 951,\n",
       " 'CACDALLGDSKVRGTTDKLIF': 952,\n",
       " 'CACDALLGDSSWDTRQMFF': 953,\n",
       " 'CACDALLGDSTDKLIF': 954,\n",
       " 'CACDALLGDSWDTRQMFF': 955,\n",
       " 'CACDALLGDSWDTRQMLF': 956,\n",
       " 'CACDALLGDTAAAGKLIF': 957,\n",
       " 'CACDALLGDTADKLIF': 958,\n",
       " 'CACDALLGDTAELIF': 959,\n",
       " 'CACDALLGDTAPIGKLIF': 960,\n",
       " 'CACDALLGDTARYPDKLIF': 961,\n",
       " 'CACDALLGDTDKLIF': 962,\n",
       " 'CACDALLGDTEGDTDKLIF': 963,\n",
       " 'CACDALLGDTFMNLTAQLFF': 964,\n",
       " 'CACDALLGDTGDKLIF': 965,\n",
       " 'CACDALLGDTGRLIF': 966,\n",
       " 'CACDALLGDTGTDKLIF': 967,\n",
       " 'CACDALLGDTHDKLIF': 968,\n",
       " 'CACDALLGDTHHPYTDKLIF': 969,\n",
       " 'CACDALLGDTHSDKLIF': 970,\n",
       " 'CACDALLGDTHTDKLIF': 971,\n",
       " 'CACDALLGDTLNLTDKLIF': 972,\n",
       " 'CACDALLGDTLNTDKLIF': 973,\n",
       " 'CACDALLGDTLQRLGTDKLIF': 974,\n",
       " 'CACDALLGDTLRIDKLIF': 975,\n",
       " 'CACDALLGDTLTSSDKLIF': 976,\n",
       " 'CACDALLGDTLYPRPLIF': 977,\n",
       " 'CACDALLGDTMSDKLIF': 978,\n",
       " 'CACDALLGDTNPDKLIF': 979,\n",
       " 'CACDALLGDTNTDKLIF': 980,\n",
       " 'CACDALLGDTPDKLIF': 981,\n",
       " 'CACDALLGDTPFALIF': 982,\n",
       " 'CACDALLGDTPGSWDTRQMFF': 983,\n",
       " 'CACDALLGDTPPTDKLIF': 984,\n",
       " 'CACDALLGDTPSEGTDKLIF': 985,\n",
       " 'CACDALLGDTPSWDTRQMFF': 986,\n",
       " 'CACDALLGDTPTDKLIF': 987,\n",
       " 'CACDALLGDTPWDTRQMFF': 988,\n",
       " 'CACDALLGDTQDKLIF': 989,\n",
       " 'CACDALLGDTQDSYTDKLIF': 990,\n",
       " 'CACDALLGDTQGADKLIF': 991,\n",
       " 'CACDALLGDTQTDKLIF': 992,\n",
       " 'CACDALLGDTQYTDKLIF': 993,\n",
       " 'CACDALLGDTRDDKLIF': 994,\n",
       " 'CACDALLGDTRIITDKLIF': 995,\n",
       " 'CACDALLGDTRIITGKLIF': 996,\n",
       " 'CACDALLGDTRISWDTRQMFF': 997,\n",
       " 'CACDALLGDTRKVDKLIF': 998,\n",
       " 'CACDALLGDTRQLIF': 999,\n",
       " 'CACDALLGDTRRGGYTDKLIF': 1000,\n",
       " ...}"
      ]
     },
     "execution_count": 12,
     "metadata": {},
     "output_type": "execute_result"
    }
   ],
   "source": [
    "word_dict"
   ]
  },
  {
   "cell_type": "code",
   "execution_count": 13,
   "id": "4d9ebddc",
   "metadata": {},
   "outputs": [],
   "source": [
    "inverted_idx = {}\n",
    "for word, item_id in word_dict.items():\n",
    "    inverted_idx[item_id] = list(data[data['cdr3aa'] == word][['sample', 'count']] \\\n",
    "                                 .itertuples(index=False, name=None))"
   ]
  },
  {
   "cell_type": "code",
   "execution_count": 14,
   "id": "bbc86081",
   "metadata": {},
   "outputs": [
    {
     "data": {
      "text/plain": [
       "{1: [('FU_CopyOfVDJTOOLS_.1168_FU-d_S73_L001_R2.txt', 3),\n",
       "  ('FU_CopyOfVDJTOOLS_.1084_FU-d_S71_L001_R1.txt', 63),\n",
       "  ('FU_CopyOfVDJTOOLS_.1153_FU_TCRD_S7_R1.txt', 41),\n",
       "  ('BL_CopyOfVDJTOOLS_.1153_BL-d_S69_L001_R1.txt', 72),\n",
       "  ('BL_CopyOfVDJTOOLS_.1008_BL-d_S70_L001_R1.txt', 49)],\n",
       " 2: [('HD_VDJTOOLS_.14-2-TCRD_S52_L001_R1.txt', 15)],\n",
       " 3: [('BL_CopyOfVDJTOOLS_.1082_2697_SA92_S92_L001_R1.txt', 410)],\n",
       " 4: [('BL_VDJTOOLS_.1136_BL_8-7-TCRD_S42_L001_R1.txt', 56)],\n",
       " 5: [('HD_VDJTOOLS_.3-4-TCRD_S32_L001_R1.txt', 95)],\n",
       " 6: [('HD_VDJTOOLS_.2-2-TCRD_S22_L001_R1.txt', 96)],\n",
       " 7: [('HD_VDJTOOLS_.14-2-TCRD_S52_L001_R1.txt', 120)],\n",
       " 8: [('FU_CopyOfVDJTOOLS_.1145_FU-d_S53_L001_R1.txt', 259),\n",
       "  ('FU_CopyOfVDJTOOLS_.1146_FU-d_S95_L001_R2.txt', 18),\n",
       "  ('FU_CopyOfVDJTOOLS_.1152_FU-d_S94_L001_R1.txt', 14),\n",
       "  ('BL_CopyOfVDJTOOLS_.1145_BL-d_S67_L001_R1.txt', 139),\n",
       "  ('BL_CopyOfVDJTOOLS_.1120_BL-d_S56_L001_R1.txt', 56),\n",
       "  ('BL_CopyOfVDJTOOLS_.1149_BL-d_S68_L001_R1.txt', 26),\n",
       "  ('BL_CopyOfVDJTOOLS_.1112_BL-d_S66_L001_R1.txt', 10),\n",
       "  ('BL_CopyOfVDJTOOLS_.1008_BL-d_S70_L001_R1.txt', 3)],\n",
       " 9: [('HD_VDJTOOLS_.14-1-TCRD_S51_L001_R1.txt', 59)],\n",
       " 10: [('HD_VDJTOOLS_.3-3-TCRD_S31_L001_R1.txt', 1094)],\n",
       " 11: [('BL_CopyOfVDJTOOLS_.1054_2630_SA69_S69_L001_R1.txt', 162)],\n",
       " 12: [('HD_VDJTOOLS_.2-7-TCRD_S27_L001_R1.txt', 10)],\n",
       " 13: [('FU_CopyOfVDJTOOLS_.1160_FU_TCRD_S8_R1.txt', 410)],\n",
       " 14: [('BL_VDJTOOLS_.1217_BL_16-7-TCRD_S58_L001_R1.txt', 154)],\n",
       " 15: [('FU_CopyOfVDJTOOLS_.1095_2738_SA88_S88_L001_R1.txt', 192),\n",
       "  ('BL_CopyOfVDJTOOLS_.1095_2718_SA95_S95_L001_R1.txt', 796)],\n",
       " 16: [('HD_VDJTOOLS_.1-3-TCRD_S14_L001_R1.txt', 197)],\n",
       " 17: [('BL_CopyOfVDJTOOLS_.1054_2630_SA69_S69_L001_R1.txt', 126)],\n",
       " 18: [('HD_VDJTOOLS_.3-2-TCRD_S30_L001_R1.txt', 14)],\n",
       " 19: [('HD_VDJTOOLS_.1-7-TCRD_S18_L001_R1.txt', 52)],\n",
       " 20: [('HD_VDJTOOLS_.1-2-TCRD_S13_L001_R1.txt', 35)],\n",
       " 21: [('FU_CopyOfVDJTOOLS_.1124_FU_TCRD_S4_R1.txt', 525),\n",
       "  ('BL_CopyOfVDJTOOLS_.1124_BL_TCRD_S3_R1.txt', 890)],\n",
       " 22: [('HD_VDJTOOLS_.2-2-TCRD_S22_L001_R1.txt', 59)],\n",
       " 23: [('FU_CopyOfVDJTOOLS_.1160_FU_TCRD_S8_R1.txt', 36)],\n",
       " 24: [('BL_CopyOfVDJTOOLS_.1080_2686_SA91_S91_L001_R1.txt', 120)],\n",
       " 25: [('FU_CopyOfVDJTOOLS_.1056_2659_SA74_S74_L001_R1.txt', 510),\n",
       "  ('FU_CopyOfVDJTOOLS_.1034_2642_SA69_S69_L001_R1.txt', 1936),\n",
       "  ('FU_CopyOfVDJTOOLS_.1095_2738_SA88_S88_L001_R1.txt', 313),\n",
       "  ('FU_CopyOfVDJTOOLS_.1098_2754_SA89_S89_L001_R1.txt', 4004),\n",
       "  ('FU_CopyOfVDJTOOLS_.1015_2588_SA95_S95_L001_R1.txt', 14),\n",
       "  ('FU_CopyOfVDJTOOLS_.1090_2732_SA87_S87_L001_R1.txt', 2),\n",
       "  ('FU_CopyOfVDJTOOLS_.1023_2599_SA96_S96_L001_R1.txt', 15189),\n",
       "  ('FU_CopyOfVDJTOOLS_.1004_2568_SA93_S93_L001_R1.txt', 2),\n",
       "  ('FU_CopyOfVDJTOOLS_.1039_2644_SA70_S70_L001_R1.txt', 849),\n",
       "  ('BL_CopyOfVDJTOOLS_.1039_2604_SA65_S65_L001_R1.txt', 71),\n",
       "  ('BL_CopyOfVDJTOOLS_.1056_2632_SA71_S71_L001_R1.txt', 314),\n",
       "  ('BL_CopyOfVDJTOOLS_.1051_2627_SA68_S68_L001_R1.txt', 712),\n",
       "  ('BL_CopyOfVDJTOOLS_.1063_2650_SA72_S72_L001_R1.txt', 8),\n",
       "  ('BL_CopyOfVDJTOOLS_.1071_2668_SA73_S73_L001_R1.txt', 817),\n",
       "  ('BL_CopyOfVDJTOOLS_.1072_2671_SA88_S88_L001_R1.txt', 250),\n",
       "  ('BL_CopyOfVDJTOOLS_.1023_2578_SA86_S86_L001_R1.txt', 5486),\n",
       "  ('BL_CopyOfVDJTOOLS_.1026_2582_SA87_S87_L001_R1.txt', 18),\n",
       "  ('BL_CopyOfVDJTOOLS_.1079_2685_SA90_S90_L001_R1.txt', 413),\n",
       "  ('BL_CopyOfVDJTOOLS_.1030_2589_SA89_S89_L001_R1.txt', 208),\n",
       "  ('BL_CopyOfVDJTOOLS_.1040_2605_SA66_S66_L001_R1.txt', 91),\n",
       "  ('BL_CopyOfVDJTOOLS_.1049_2625_SA67_S67_L001_R1.txt', 32),\n",
       "  ('BL_CopyOfVDJTOOLS_.1054_2630_SA69_S69_L001_R1.txt', 557)],\n",
       " 26: [('BL_CopyOfVDJTOOLS_.1051_2627_SA68_S68_L001_R1.txt', 114)],\n",
       " 27: [('BL_CopyOfVDJTOOLS_.1051_2627_SA68_S68_L001_R1.txt', 122),\n",
       "  ('BL_CopyOfVDJTOOLS_.1072_2671_SA88_S88_L001_R1.txt', 18)],\n",
       " 28: [('FU_CopyOfVDJTOOLS_.1010_2615_SA65_S65_L001_R1.txt', 35)],\n",
       " 29: [('HD_VDJTOOLS_.3-8-TCRD_S35_L001_R1.txt', 11)],\n",
       " 30: [('HD_VDJTOOLS_.1-3-TCRD_S14_L001_R1.txt', 211)],\n",
       " 31: [('HD_VDJTOOLS_.1-3-TCRD_S14_L001_R1.txt', 19)],\n",
       " 32: [('HD_VDJTOOLS_.2-4-TCRD_S24_L001_R1.txt', 272)],\n",
       " 33: [('HD_VDJTOOLS_.2-4-TCRD_S24_L001_R1.txt', 102)],\n",
       " 34: [('HD_VDJTOOLS_.14-3-TCRD_S53_L001_R1.txt', 193)],\n",
       " 35: [('BL_CopyOfVDJTOOLS_.1055_2631_SA70_S70_L001_R1.txt', 9)],\n",
       " 36: [('FU_CopyOfVDJTOOLS_.1008_FU-d_S38_L001_R1.txt', 55)],\n",
       " 37: [('BL_VDJTOOLS_.1136_BL_8-7-TCRD_S42_L001_R1.txt', 130)],\n",
       " 38: [('HD_VDJTOOLS_.14-3-TCRD_S53_L001_R1.txt', 241)],\n",
       " 39: [('FU_CopyOfVDJTOOLS_.1153_FU_TCRD_S7_R1.txt', 62),\n",
       "  ('BL_CopyOfVDJTOOLS_.1146_BL_TCRD_S5_R1.txt', 60),\n",
       "  ('BL_CopyOfVDJTOOLS_.1122_BL_TCRD_S2_R1.txt', 105)],\n",
       " 40: [('FU_CopyOfVDJTOOLS_.1168_FU-d_S73_L001_R2.txt', 1),\n",
       "  ('FU_CopyOfVDJTOOLS_.1145_FU-d_S53_L001_R1.txt', 54)],\n",
       " 41: [('FU_CopyOfVDJTOOLS_.1047_2687_SA72_S72_L001_R1.txt', 50),\n",
       "  ('FU_CopyOfVDJTOOLS_.1010_2615_SA65_S65_L001_R1.txt', 8)],\n",
       " 42: [('BL_CopyOfVDJTOOLS_.1079_2685_SA90_S90_L001_R1.txt', 498)],\n",
       " 43: [('HD_VDJTOOLS_.2-3-TCRD_S23_L001_R1.txt', 24)],\n",
       " 44: [('HD_VDJTOOLS_.2-2-TCRD_S22_L001_R1.txt', 10)],\n",
       " 45: [('HD_VDJTOOLS_.2-2-TCRD_S22_L001_R1.txt', 13)],\n",
       " 46: [('FU_VDJTOOLS_.1111_FU_7-2-TCRD_S41_L001_R1.txt', 1193)],\n",
       " 47: [('BL_CopyOfVDJTOOLS_.1023_2578_SA86_S86_L001_R1.txt', 262)],\n",
       " 48: [('FU_VDJTOOLS_.1195_FU_18-8-TCRD_S69_L001_R1.txt', 36)],\n",
       " 49: [('HD_VDJTOOLS_.1-2-TCRD_S13_L001_R1.txt', 27)],\n",
       " 50: [('HD_VDJTOOLS_.1-7-TCRD_S18_L001_R1.txt', 13)],\n",
       " 51: [('HD_VDJTOOLS_.14-1-TCRD_S51_L001_R1.txt', 35)],\n",
       " 52: [('FU_CopyOfVDJTOOLS_.1082_2714_SA85_S85_L001_R1.txt', 695)],\n",
       " 53: [('HD_VDJTOOLS_.2-2-TCRD_S22_L001_R1.txt', 36),\n",
       "  ('HD_VDJTOOLS_.2-5-TCRD_S25_L001_R1.txt', 103),\n",
       "  ('BL_CopyOfVDJTOOLS_.1071_2668_SA73_S73_L001_R1.txt', 24)],\n",
       " 54: [('HD_VDJTOOLS_.14-1-TCRD_S51_L001_R1.txt', 13)],\n",
       " 55: [('HD_VDJTOOLS_.1-1-TCRD_S12_L001_R1.txt', 14)],\n",
       " 56: [('HD_VDJTOOLS_.1-1-TCRD_S12_L001_R1.txt', 151)],\n",
       " 57: [('HD_VDJTOOLS_.2-4-TCRD_S24_L001_R1.txt', 162)],\n",
       " 58: [('FU_CopyOfVDJTOOLS_.1003_2564_SA92_S92_L001_R1.txt', 1020),\n",
       "  ('FU_VDJTOOLS_.1003_FU_4-2-TCRD_S37_L001_R1.txt', 439),\n",
       "  ('FU_CopyOfVDJTOOLS_.1004_2568_SA93_S93_L001_R1.txt', 6)],\n",
       " 59: [('FU_CopyOfVDJTOOLS_.1071_2691_SA83_S83_L001_R1.txt', 11)],\n",
       " 60: [('HD_VDJTOOLS_.14-2-TCRD_S52_L001_R1.txt', 17)],\n",
       " 61: [('HD_VDJTOOLS_.14-4-TCRD_S54_L001_R1.txt', 121)],\n",
       " 62: [('FU_CopyOfVDJTOOLS_.1034_2642_SA69_S69_L001_R1.txt', 243)],\n",
       " 63: [('BL_CopyOfVDJTOOLS_.1063_2650_SA72_S72_L001_R1.txt', 9)],\n",
       " 64: [('FU_CopyOfVDJTOOLS_.1086_FU-d_S50_L001_R1.txt', 17)],\n",
       " 65: [('HD_VDJTOOLS_.3-3-TCRD_S31_L001_R1.txt', 139)],\n",
       " 66: [('HD_VDJTOOLS_.14-3-TCRD_S53_L001_R1.txt', 48)],\n",
       " 67: [('HD_VDJTOOLS_.2-5-TCRD_S25_L001_R1.txt', 14)],\n",
       " 68: [('BL_VDJTOOLS_.1190_BL_TAA-7-7-TCRD_S72_L001_R1.txt', 82)],\n",
       " 69: [('FU_CopyOfVDJTOOLS_.1168_FU-d_S73_L001_R2.txt', 1)],\n",
       " 70: [('HD_VDJTOOLS_.1-6-TCRD_S17_L001_R1.txt', 22)],\n",
       " 71: [('HD_VDJTOOLS_.2-2-TCRD_S22_L001_R1.txt', 28)],\n",
       " 72: [('BL_CopyOfVDJTOOLS_.1071_2668_SA73_S73_L001_R1.txt', 76)],\n",
       " 73: [('FU_VDJTOOLS_.3001_FU_11-6-TCRD_S48_L001_R1.txt', 305)],\n",
       " 74: [('FU_CopyOfVDJTOOLS_.1095_2738_SA88_S88_L001_R1.txt', 108)],\n",
       " 75: [('FU_CopyOfVDJTOOLS_.1023_2599_SA96_S96_L001_R1.txt', 483),\n",
       "  ('BL_CopyOfVDJTOOLS_.1051_2627_SA68_S68_L001_R1.txt', 162),\n",
       "  ('BL_CopyOfVDJTOOLS_.1054_2630_SA69_S69_L001_R1.txt', 136)],\n",
       " 76: [('HD_VDJTOOLS_.2-1-TCRD_S21_L001_R1.txt', 52)],\n",
       " 77: [('HD_VDJTOOLS_.1-2-TCRD_S13_L001_R1.txt', 17)],\n",
       " 78: [('FU_CopyOfVDJTOOLS_.1086_FU-d_S50_L001_R1.txt', 32),\n",
       "  ('BL_CopyOfVDJTOOLS_.1086_BL-d_S54_L001_R1.txt', 34),\n",
       "  ('BL_CopyOfVDJTOOLS_.1112_BL-d_S66_L001_R1.txt', 3)],\n",
       " 79: [('HD_VDJTOOLS_.1-2-TCRD_S13_L001_R1.txt', 20)],\n",
       " 80: [('HD_VDJTOOLS_.2-1-TCRD_S21_L001_R1.txt', 17)],\n",
       " 81: [('HD_VDJTOOLS_.2-7-TCRD_S27_L001_R1.txt', 154)],\n",
       " 82: [('HD_VDJTOOLS_.2-4-TCRD_S24_L001_R1.txt', 89)],\n",
       " 83: [('FU_VDJTOOLS_.1189_FU_TAA-7-6-TCRD_S71_L001_R1.txt', 175)],\n",
       " 84: [('BL_CopyOfVDJTOOLS_.1071_2668_SA73_S73_L001_R1.txt', 49)],\n",
       " 85: [('HD_VDJTOOLS_.2-5-TCRD_S25_L001_R1.txt', 63)],\n",
       " 86: [('HD_VDJTOOLS_.2-5-TCRD_S25_L001_R1.txt', 21)],\n",
       " 87: [('BL_CopyOfVDJTOOLS_.1072_2671_SA88_S88_L001_R1.txt', 47)],\n",
       " 88: [('HD_VDJTOOLS_.3-4-TCRD_S32_L001_R1.txt', 57)],\n",
       " 89: [('HD_VDJTOOLS_.1-6-TCRD_S17_L001_R1.txt', 113)],\n",
       " 90: [('HD_VDJTOOLS_.2-3-TCRD_S23_L001_R1.txt', 103)],\n",
       " 91: [('HD_VDJTOOLS_.14-1-TCRD_S51_L001_R1.txt', 34)],\n",
       " 92: [('BL_VDJTOOLS_.1212_BL_18-5-TCRD_S66_L001_R1.txt', 72)],\n",
       " 93: [('BL_CopyOfVDJTOOLS_.1071_2668_SA73_S73_L001_R1.txt', 58)],\n",
       " 94: [('FU_CopyOfVDJTOOLS_.1106_FU-d_S39_L001_R1.txt', 87),\n",
       "  ('FU_CopyOfVDJTOOLS_.1097_FU-d_S37_L001_R1.txt', 8),\n",
       "  ('BL_CopyOfVDJTOOLS_.1151_BL-d_S40_L001_R1.txt', 29),\n",
       "  ('BL_CopyOfVDJTOOLS_.1091_BL-d_S35_L001_R1.txt', 10),\n",
       "  ('BL_CopyOfVDJTOOLS_.1097_BL-d_S36_L001_R1.txt', 58),\n",
       "  ('BL_CopyOfVDJTOOLS_.1160_BL-d_S41_L001_R1.txt', 20)],\n",
       " 95: [('FU_VDJTOOLS_.1189_FU_TAA-7-6-TCRD_S71_L001_R1.txt', 198)],\n",
       " 96: [('BL_CopyOfVDJTOOLS_.1049_2625_SA67_S67_L001_R1.txt', 28)],\n",
       " 97: [('HD_VDJTOOLS_.2-7-TCRD_S27_L001_R1.txt', 28)],\n",
       " 98: [('BL_CopyOfVDJTOOLS_.1098_2722_SA96_S96_L001_R1.txt', 633)],\n",
       " 99: [('HD_VDJTOOLS_.3-4-TCRD_S32_L001_R1.txt', 94)],\n",
       " 100: [('FU_CopyOfVDJTOOLS_.1023_2599_SA96_S96_L001_R1.txt', 207),\n",
       "  ('BL_CopyOfVDJTOOLS_.1023_2578_SA86_S86_L001_R1.txt', 233)],\n",
       " 101: [('HD_VDJTOOLS_.2-2-TCRD_S22_L001_R1.txt', 42)],\n",
       " 102: [('HD_VDJTOOLS_.14-5-TCRD_S55_L001_R1.txt', 66)],\n",
       " 103: [('BL_CopyOfVDJTOOLS_.1095_2718_SA95_S95_L001_R1.txt', 202)],\n",
       " 104: [('HD_VDJTOOLS_.2-1-TCRD_S21_L001_R1.txt', 70)],\n",
       " 105: [('FU_CopyOfVDJTOOLS_.1145_FU-d_S53_L001_R1.txt', 42),\n",
       "  ('FU_CopyOfVDJTOOLS_.1152_FU-d_S94_L001_R1.txt', 7)],\n",
       " 106: [('FU_CopyOfVDJTOOLS_.1168_FU-d_S73_L001_R2.txt', 2)],\n",
       " 107: [('FU_CopyOfVDJTOOLS_.1034_2642_SA69_S69_L001_R1.txt', 284),\n",
       "  ('FU_CopyOfVDJTOOLS_.1023_2599_SA96_S96_L001_R1.txt', 1336),\n",
       "  ('BL_CopyOfVDJTOOLS_.1039_2604_SA65_S65_L001_R1.txt', 112),\n",
       "  ('BL_CopyOfVDJTOOLS_.1071_2668_SA73_S73_L001_R1.txt', 96),\n",
       "  ('BL_CopyOfVDJTOOLS_.1030_2589_SA89_S89_L001_R1.txt', 14),\n",
       "  ('BL_CopyOfVDJTOOLS_.1049_2625_SA67_S67_L001_R1.txt', 43)],\n",
       " 108: [('HD_VDJTOOLS_.2-2-TCRD_S22_L001_R1.txt', 45)],\n",
       " 109: [('FU_CopyOfVDJTOOLS_.1034_2642_SA69_S69_L001_R1.txt', 215)],\n",
       " 110: [('FU_CopyOfVDJTOOLS_.1160_FU_TCRD_S8_R1.txt', 46)],\n",
       " 111: [('BL_CopyOfVDJTOOLS_.1055_2631_SA70_S70_L001_R1.txt', 19)],\n",
       " 112: [('BL_CopyOfVDJTOOLS_.1031_2592_SA90_S90_L001_R1.txt', 9)],\n",
       " 113: [('HD_VDJTOOLS_.3-3-TCRD_S31_L001_R1.txt', 197)],\n",
       " 114: [('HD_VDJTOOLS_.3-8-TCRD_S35_L001_R1.txt', 111)],\n",
       " 115: [('FU_CopyOfVDJTOOLS_.1031_2622_SA68_S68_L001_R1.txt', 23)],\n",
       " 116: [('FU_CopyOfVDJTOOLS_.1031_2622_SA68_S68_L001_R1.txt', 26)],\n",
       " 117: [('BL_CopyOfVDJTOOLS_.1055_2631_SA70_S70_L001_R1.txt', 51)],\n",
       " 118: [('BL_VDJTOOLS_.1004_BL_4-3-TCRD_S38_L001_R1.txt', 101)],\n",
       " 119: [('HD_VDJTOOLS_.1ctrl-TCRD_S20_L001_R1.txt', 82)],\n",
       " 120: [('BL_CopyOfVDJTOOLS_.1049_2625_SA67_S67_L001_R1.txt', 29)],\n",
       " 121: [('BL_CopyOfVDJTOOLS_.1071_2668_SA73_S73_L001_R1.txt', 38)],\n",
       " 122: [('HD_VDJTOOLS_.2-3-TCRD_S23_L001_R1.txt', 778)],\n",
       " 123: [('FU_VDJTOOLS_.3061_FU_17-6-TCRD_S62_L001_R1.txt', 348),\n",
       "  ('BL_VDJTOOLS_.3061_BL_17-5-TCRD_S61_L001_R1.txt', 63)],\n",
       " 124: [('HD_VDJTOOLS_.1-2-TCRD_S13_L001_R1.txt', 49)],\n",
       " 125: [('HD_VDJTOOLS_.2-7-TCRD_S27_L001_R1.txt', 300)],\n",
       " 126: [('HD_VDJTOOLS_.2-5-TCRD_S25_L001_R1.txt', 27)],\n",
       " 127: [('HD_VDJTOOLS_.2-2-TCRD_S22_L001_R1.txt', 29)],\n",
       " 128: [('FU_CopyOfVDJTOOLS_.1014_2639_SA66_S66_L001_R1.txt', 22)],\n",
       " 129: [('HD_VDJTOOLS_.2-1-TCRD_S21_L001_R1.txt', 72)],\n",
       " 130: [('HD_VDJTOOLS_.3-4-TCRD_S32_L001_R1.txt', 414)],\n",
       " 131: [('HD_VDJTOOLS_.2-6-TCRD_S26_L001_R1.txt', 28)],\n",
       " 132: [('HD_VDJTOOLS_.2-6-TCRD_S26_L001_R1.txt', 168)],\n",
       " 133: [('FU_CopyOfVDJTOOLS_.1047_2687_SA72_S72_L001_R1.txt', 290),\n",
       "  ('FU_CopyOfVDJTOOLS_.1010_2615_SA65_S65_L001_R1.txt', 18)],\n",
       " 134: [('BL_CopyOfVDJTOOLS_.1080_2686_SA91_S91_L001_R1.txt', 490)],\n",
       " 135: [('BL_VDJTOOLS_.1212_BL_18-5-TCRD_S66_L001_R1.txt', 93)],\n",
       " 136: [('HD_VDJTOOLS_.1-3-TCRD_S14_L001_R1.txt', 146)],\n",
       " 137: [('HD_VDJTOOLS_.2-2-TCRD_S22_L001_R1.txt', 13)],\n",
       " 138: [('BL_CopyOfVDJTOOLS_.1021_2576_SA85_S85_L001_R1.txt', 131)],\n",
       " 139: [('HD_VDJTOOLS_.2-2-TCRD_S22_L001_R1.txt', 65)],\n",
       " 140: [('HD_VDJTOOLS_.2-5-TCRD_S25_L001_R1.txt', 28)],\n",
       " 141: [('HD_VDJTOOLS_.2-5-TCRD_S25_L001_R1.txt', 9)],\n",
       " 142: [('HD_VDJTOOLS_.1-7-TCRD_S18_L001_R1.txt', 20)],\n",
       " 143: [('FU_CopyOfVDJTOOLS_.1034_2642_SA69_S69_L001_R1.txt', 70)],\n",
       " 144: [('HD_VDJTOOLS_.1-2-TCRD_S13_L001_R1.txt', 47)],\n",
       " 145: [('BL_CopyOfVDJTOOLS_.1031_2592_SA90_S90_L001_R1.txt', 34)],\n",
       " 146: [('FU_CopyOfVDJTOOLS_.1051_2674_SA73_S73_L001_R1.txt', 353),\n",
       "  ('BL_CopyOfVDJTOOLS_.1051_2627_SA68_S68_L001_R1.txt', 242)],\n",
       " 147: [('BL_VDJTOOLS_.1212_BL_18-5-TCRD_S66_L001_R1.txt', 92)],\n",
       " 148: [('FU_CopyOfVDJTOOLS_.1023_2599_SA96_S96_L001_R1.txt', 66)],\n",
       " 149: [('FU_CopyOfVDJTOOLS_.1023_2599_SA96_S96_L001_R1.txt', 190)],\n",
       " 150: [('HD_VDJTOOLS_.2-5-TCRD_S25_L001_R1.txt', 43)],\n",
       " 151: [('BL_CopyOfVDJTOOLS_.1021_2576_SA85_S85_L001_R1.txt', 106)],\n",
       " 152: [('HD_VDJTOOLS_.2-4-TCRD_S24_L001_R1.txt', 72)],\n",
       " 153: [('BL_CopyOfVDJTOOLS_.1072_2671_SA88_S88_L001_R1.txt', 38)],\n",
       " 154: [('HD_VDJTOOLS_.1-6-TCRD_S17_L001_R1.txt', 52)],\n",
       " 155: [('HD_VDJTOOLS_.2-4-TCRD_S24_L001_R1.txt', 147)],\n",
       " 156: [('HD_VDJTOOLS_.2-7-TCRD_S27_L001_R1.txt', 64)],\n",
       " 157: [('FU_CopyOfVDJTOOLS_.1086_FU-d_S50_L001_R1.txt', 18)],\n",
       " 158: [('HD_VDJTOOLS_.2-5-TCRD_S25_L001_R1.txt', 67)],\n",
       " 159: [('BL_CopyOfVDJTOOLS_.1031_2592_SA90_S90_L001_R1.txt', 15)],\n",
       " 160: [('HD_VDJTOOLS_.2-7-TCRD_S27_L001_R1.txt', 31)],\n",
       " 161: [('HD_VDJTOOLS_.2-1-TCRD_S21_L001_R1.txt', 87)],\n",
       " 162: [('HD_VDJTOOLS_.1-3-TCRD_S14_L001_R1.txt', 92)],\n",
       " 163: [('FU_CopyOfVDJTOOLS_.1090_2732_SA87_S87_L001_R1.txt', 4),\n",
       "  ('FU_CopyOfVDJTOOLS_.1030_2624_SA67_S67_L001_R1.txt', 51)],\n",
       " 164: [('BL_CopyOfVDJTOOLS_.1054_2630_SA69_S69_L001_R1.txt', 85)],\n",
       " 165: [('HD_VDJTOOLS_.3-3-TCRD_S31_L001_R1.txt', 308)],\n",
       " 166: [('HD_VDJTOOLS_.2-2-TCRD_S22_L001_R1.txt', 43)],\n",
       " 167: [('BL_CopyOfVDJTOOLS_.1121_BL-d_S91_L001_R1.txt', 50)],\n",
       " 168: [('FU_CopyOfVDJTOOLS_.1047_2687_SA72_S72_L001_R1.txt', 385),\n",
       "  ('FU_CopyOfVDJTOOLS_.1010_2615_SA65_S65_L001_R1.txt', 64)],\n",
       " 169: [('BL_CopyOfVDJTOOLS_.1008_BL-d_S70_L001_R1.txt', 26)],\n",
       " 170: [('FU_CopyOfVDJTOOLS_.1168_FU-d_S73_L001_R2.txt', 26),\n",
       "  ('FU_CopyOfVDJTOOLS_.1146_FU-d_S95_L001_R2.txt', 60),\n",
       "  ('FU_CopyOfVDJTOOLS_.1084_FU-d_S71_L001_R1.txt', 213),\n",
       "  ('FU_CopyOfVDJTOOLS_.1152_FU-d_S94_L001_R1.txt', 126),\n",
       "  ('FU_CopyOfVDJTOOLS_.1153_FU_TCRD_S7_R1.txt', 8352),\n",
       "  ('BL_CopyOfVDJTOOLS_.1153_BL-d_S69_L001_R1.txt', 2393),\n",
       "  ('BL_CopyOfVDJTOOLS_.1008_BL-d_S70_L001_R1.txt', 350),\n",
       "  ('BL_CopyOfVDJTOOLS_.1168_BL-d_S96_L001_R2.txt', 12)],\n",
       " 171: [('FU_CopyOfVDJTOOLS_.1084_FU-d_S71_L001_R1.txt', 34)],\n",
       " 172: [('FU_CopyOfVDJTOOLS_.1168_FU-d_S73_L001_R2.txt', 2)],\n",
       " 173: [('FU_CopyOfVDJTOOLS_.1014_2639_SA66_S66_L001_R1.txt', 64)],\n",
       " 174: [('HD_VDJTOOLS_.2-7-TCRD_S27_L001_R1.txt', 61)],\n",
       " 175: [('BL_CopyOfVDJTOOLS_.1054_2630_SA69_S69_L001_R1.txt', 582)],\n",
       " 176: [('BL_CopyOfVDJTOOLS_.1072_2671_SA88_S88_L001_R1.txt', 43)],\n",
       " 177: [('FU_CopyOfVDJTOOLS_.1071_2691_SA83_S83_L001_R1.txt', 85)],\n",
       " 178: [('FU_CopyOfVDJTOOLS_.1160_FU_TCRD_S8_R1.txt', 59)],\n",
       " 179: [('HD_VDJTOOLS_.1ctrl-TCRD_S20_L001_R1.txt', 34)],\n",
       " 180: [('FU_CopyOfVDJTOOLS_.1086_FU-d_S50_L001_R1.txt', 12)],\n",
       " 181: [('BL_VDJTOOLS_.1185_BL_16-1-TCRD_S57_L001_R1.txt', 19)],\n",
       " 182: [('HD_VDJTOOLS_.2-5-TCRD_S25_L001_R1.txt', 17)],\n",
       " 183: [('HD_VDJTOOLS_.14-2-TCRD_S52_L001_R1.txt', 67)],\n",
       " 184: [('HD_VDJTOOLS_.2-5-TCRD_S25_L001_R1.txt', 76)],\n",
       " 185: [('HD_VDJTOOLS_.2-5-TCRD_S25_L001_R1.txt', 29)],\n",
       " 186: [('HD_VDJTOOLS_.2-2-TCRD_S22_L001_R1.txt', 46)],\n",
       " 187: [('BL_VDJTOOLS_.1111_BL_7-1-TCRD_S40_L001_R1.txt', 390)],\n",
       " 188: [('FU_CopyOfVDJTOOLS_.1153_FU_TCRD_S7_R1.txt', 43)],\n",
       " 189: [('FU_CopyOfVDJTOOLS_.1153_FU_TCRD_S7_R1.txt', 6)],\n",
       " 190: [('FU_CopyOfVDJTOOLS_.1083_2717_SA86_S86_L001_R1.txt', 38)],\n",
       " 191: [('HD_VDJTOOLS_.1-6-TCRD_S17_L001_R1.txt', 100)],\n",
       " 192: [('FU_CopyOfVDJTOOLS_.1098_2754_SA89_S89_L001_R1.txt', 13)],\n",
       " 193: [('HD_VDJTOOLS_.1-2-TCRD_S13_L001_R1.txt', 24)],\n",
       " 194: [('HD_VDJTOOLS_.1ctrl-TCRD_S20_L001_R1.txt', 104)],\n",
       " 195: [('HD_VDJTOOLS_.2-2-TCRD_S22_L001_R1.txt', 42)],\n",
       " 196: [('HD_VDJTOOLS_.1-6-TCRD_S17_L001_R1.txt', 61)],\n",
       " 197: [('BL_VDJTOOLS_.1169_BL_10-5-TCRD_S46_L001_R1.txt', 63)],\n",
       " 198: [('FU_CopyOfVDJTOOLS_.1082_2714_SA85_S85_L001_R1.txt', 227)],\n",
       " 199: [('FU_CopyOfVDJTOOLS_.1014_2639_SA66_S66_L001_R1.txt', 49)],\n",
       " 200: [('BL_CopyOfVDJTOOLS_.1049_2625_SA67_S67_L001_R1.txt', 13)],\n",
       " 201: [('BL_VDJTOOLS_.1169_BL_10-5-TCRD_S46_L001_R1.txt', 10)],\n",
       " 202: [('BL_CopyOfVDJTOOLS_.1054_2630_SA69_S69_L001_R1.txt', 70)],\n",
       " 203: [('BL_CopyOfVDJTOOLS_.1021_2576_SA85_S85_L001_R1.txt', 75)],\n",
       " 204: [('HD_VDJTOOLS_.2-5-TCRD_S25_L001_R1.txt', 79)],\n",
       " 205: [('BL_CopyOfVDJTOOLS_.1072_2671_SA88_S88_L001_R1.txt', 106)],\n",
       " 206: [('BL_CopyOfVDJTOOLS_.1160_BL-d_S41_L001_R1.txt', 12)],\n",
       " 207: [('FU_CopyOfVDJTOOLS_.1051_2674_SA73_S73_L001_R1.txt', 740)],\n",
       " 208: [('FU_CopyOfVDJTOOLS_.1168_FU-d_S73_L001_R2.txt', 1)],\n",
       " 209: [('FU_CopyOfVDJTOOLS_.1051_2674_SA73_S73_L001_R1.txt', 60)],\n",
       " 210: [('BL_CopyOfVDJTOOLS_.1072_2671_SA88_S88_L001_R1.txt', 170)],\n",
       " 211: [('BL_CopyOfVDJTOOLS_.1086_BL-d_S54_L001_R1.txt', 48)],\n",
       " 212: [('FU_CopyOfVDJTOOLS_.1086_FU-d_S50_L001_R1.txt', 10)],\n",
       " 213: [('HD_VDJTOOLS_.2-2-TCRD_S22_L001_R1.txt', 12)],\n",
       " 214: [('HD_VDJTOOLS_.1-6-TCRD_S17_L001_R1.txt', 58)],\n",
       " 215: [('BL_CopyOfVDJTOOLS_.1095_2718_SA95_S95_L001_R1.txt', 50)],\n",
       " 216: [('HD_VDJTOOLS_.1-8-TCRD_S19_L001_R1.txt', 45)],\n",
       " 217: [('HD_VDJTOOLS_.1-8-TCRD_S19_L001_R1.txt', 597)],\n",
       " 218: [('FU_VDJTOOLS_.1111_FU_7-2-TCRD_S41_L001_R1.txt', 3543),\n",
       "  ('FU_VDJTOOLS_.1004_FU_4-4-TCRD_S39_L001_R1.txt', 9),\n",
       "  ('BL_VDJTOOLS_.1111_BL_7-1-TCRD_S40_L001_R1.txt', 3766)],\n",
       " 219: [('BL_CopyOfVDJTOOLS_.1121_BL-d_S91_L001_R1.txt', 20)],\n",
       " 220: [('BL_CopyOfVDJTOOLS_.1152_BL_TCRD_S6_R1.txt', 35)],\n",
       " 221: [('HD_VDJTOOLS_.14-1-TCRD_S51_L001_R1.txt', 44)],\n",
       " 222: [('HD_VDJTOOLS_.2-5-TCRD_S25_L001_R1.txt', 10)],\n",
       " 223: [('FU_VDJTOOLS_.1169_FU_10-6-TCRD_S47_L001_R1.txt', 193)],\n",
       " 224: [('BL_CopyOfVDJTOOLS_.1082_2697_SA92_S92_L001_R1.txt', 318)],\n",
       " 225: [('HD_VDJTOOLS_.2-1-TCRD_S21_L001_R1.txt', 69)],\n",
       " 226: [('HD_VDJTOOLS_.2-5-TCRD_S25_L001_R1.txt', 108)],\n",
       " 227: [('FU_CopyOfVDJTOOLS_.1047_2687_SA72_S72_L001_R1.txt', 119),\n",
       "  ('FU_CopyOfVDJTOOLS_.1010_2615_SA65_S65_L001_R1.txt', 7)],\n",
       " 228: [('BL_CopyOfVDJTOOLS_.1031_2592_SA90_S90_L001_R1.txt', 41)],\n",
       " 229: [('BL_CopyOfVDJTOOLS_.1071_2668_SA73_S73_L001_R1.txt', 58)],\n",
       " 230: [('HD_VDJTOOLS_.2-5-TCRD_S25_L001_R1.txt', 23)],\n",
       " 231: [('HD_VDJTOOLS_.14-5-TCRD_S55_L001_R1.txt', 16)],\n",
       " 232: [('FU_CopyOfVDJTOOLS_.1153_FU_TCRD_S7_R1.txt', 32)],\n",
       " 233: [('HD_VDJTOOLS_.1-3-TCRD_S14_L001_R1.txt', 159)],\n",
       " 234: [('HD_VDJTOOLS_.14-5-TCRD_S55_L001_R1.txt', 113)],\n",
       " 235: [('FU_VDJTOOLS_.1143_FU_9-4-TCRD_S44_L001_R1.txt', 82)],\n",
       " 236: [('HD_VDJTOOLS_.2-2-TCRD_S22_L001_R1.txt', 15)],\n",
       " 237: [('BL_CopyOfVDJTOOLS_.1021_2576_SA85_S85_L001_R1.txt', 193)],\n",
       " 238: [('HD_VDJTOOLS_.2-7-TCRD_S27_L001_R1.txt', 28)],\n",
       " 239: [('HD_VDJTOOLS_.1-2-TCRD_S13_L001_R1.txt', 13)],\n",
       " 240: [('FU_VDJTOOLS_.1143_FU_9-4-TCRD_S44_L001_R1.txt', 94),\n",
       "  ('BL_VDJTOOLS_.1143_BL_9-3-TCRD_S43_L001_R1.txt', 313)],\n",
       " 241: [('BL_VDJTOOLS_.1143_BL_9-3-TCRD_S43_L001_R1.txt', 27)],\n",
       " 242: [('BL_CopyOfVDJTOOLS_.1031_2592_SA90_S90_L001_R1.txt', 35)],\n",
       " 243: [('BL_CopyOfVDJTOOLS_.1029_2586_SA88_S88_L001_R1.txt', 105)],\n",
       " 244: [('HD_VDJTOOLS_.14-5-TCRD_S55_L001_R1.txt', 318)],\n",
       " 245: [('HD_VDJTOOLS_.14-4-TCRD_S54_L001_R1.txt', 452)],\n",
       " 246: [('HD_VDJTOOLS_.1-4-TCRD_S15_L001_R1.txt', 369)],\n",
       " 247: [('HD_VDJTOOLS_.2-4-TCRD_S24_L001_R1.txt', 120)],\n",
       " 248: [('FU_CopyOfVDJTOOLS_.1040_2645_SA71_S71_L001_R1.txt', 116)],\n",
       " 249: [('FU_CopyOfVDJTOOLS_.1124_FU_TCRD_S4_R1.txt', 175)],\n",
       " 250: [('FU_CopyOfVDJTOOLS_.1047_2687_SA72_S72_L001_R1.txt', 316),\n",
       "  ('FU_CopyOfVDJTOOLS_.1010_2615_SA65_S65_L001_R1.txt', 19)],\n",
       " 251: [('BL_CopyOfVDJTOOLS_.1152_BL_TCRD_S6_R1.txt', 15)],\n",
       " 252: [('FU_VDJTOOLS_.1111_FU_7-2-TCRD_S41_L001_R1.txt', 400)],\n",
       " 253: [('FU_VDJTOOLS_.3001_FU_11-6-TCRD_S48_L001_R1.txt', 16)],\n",
       " 254: [('FU_VDJTOOLS_.3020_FU_12-4-TCRD_S50_L001_R1.txt', 256)],\n",
       " 255: [('FU_CopyOfVDJTOOLS_.1051_2674_SA73_S73_L001_R1.txt', 93)],\n",
       " 256: [('BL_VDJTOOLS_.1210_BL_18-3-TCRD_S65_L001_R1.txt', 24)],\n",
       " 257: [('HD_VDJTOOLS_.2-7-TCRD_S27_L001_R1.txt', 45)],\n",
       " 258: [('HD_VDJTOOLS_.1-6-TCRD_S17_L001_R1.txt', 659)],\n",
       " 259: [('BL_VDJTOOLS_.1169_BL_10-5-TCRD_S46_L001_R1.txt', 108)],\n",
       " 260: [('FU_CopyOfVDJTOOLS_.1023_2599_SA96_S96_L001_R1.txt', 221),\n",
       "  ('BL_CopyOfVDJTOOLS_.1030_2589_SA89_S89_L001_R1.txt', 8)],\n",
       " 261: [('FU_CopyOfVDJTOOLS_.1122_FU-d_S84_L001_R1.txt', 31)],\n",
       " 262: [('FU_VDJTOOLS_.1169_FU_10-6-TCRD_S47_L001_R1.txt', 79)],\n",
       " 263: [('FU_CopyOfVDJTOOLS_.1086_FU-d_S50_L001_R1.txt', 78)],\n",
       " 264: [('BL_CopyOfVDJTOOLS_.1051_2627_SA68_S68_L001_R1.txt', 68)],\n",
       " 265: [('FU_CopyOfVDJTOOLS_.1106_FU-d_S39_L001_R1.txt', 309),\n",
       "  ('FU_CopyOfVDJTOOLS_.1008_FU-d_S38_L001_R1.txt', 25),\n",
       "  ('FU_CopyOfVDJTOOLS_.1097_FU-d_S37_L001_R1.txt', 11),\n",
       "  ('BL_CopyOfVDJTOOLS_.1151_BL-d_S40_L001_R1.txt', 65),\n",
       "  ('BL_CopyOfVDJTOOLS_.1091_BL-d_S35_L001_R1.txt', 25),\n",
       "  ('BL_CopyOfVDJTOOLS_.1097_BL-d_S36_L001_R1.txt', 51),\n",
       "  ('BL_CopyOfVDJTOOLS_.1160_BL-d_S41_L001_R1.txt', 13),\n",
       "  ('BL_CopyOfVDJTOOLS_.1009_BL-d_S34_L001_R1.txt', 130),\n",
       "  ('BL_CopyOfVDJTOOLS_.1112_BL-d_S66_L001_R1.txt', 3)],\n",
       " 266: [('FU_CopyOfVDJTOOLS_.1072_2692_SA84_S84_L001_R1.txt', 144)],\n",
       " 267: [('BL_CopyOfVDJTOOLS_.1021_2576_SA85_S85_L001_R1.txt', 80)],\n",
       " 268: [('HD_VDJTOOLS_.2-2-TCRD_S22_L001_R1.txt', 53)],\n",
       " 269: [('BL_CopyOfVDJTOOLS_.1021_2576_SA85_S85_L001_R1.txt', 90)],\n",
       " 270: [('HD_VDJTOOLS_.2-2-TCRD_S22_L001_R1.txt', 67)],\n",
       " 271: [('FU_VDJTOOLS_.1111_FU_7-2-TCRD_S41_L001_R1.txt', 3690)],\n",
       " 272: [('FU_CopyOfVDJTOOLS_.1168_FU-d_S73_L001_R2.txt', 1)],\n",
       " 273: [('HD_VDJTOOLS_.3-4-TCRD_S32_L001_R1.txt', 15)],\n",
       " 274: [('HD_VDJTOOLS_.1-7-TCRD_S18_L001_R1.txt', 43)],\n",
       " 275: [('HD_VDJTOOLS_.3-4-TCRD_S32_L001_R1.txt', 130)],\n",
       " 276: [('HD_VDJTOOLS_.2-1-TCRD_S21_L001_R1.txt', 28)],\n",
       " 277: [('HD_VDJTOOLS_.3-4-TCRD_S32_L001_R1.txt', 65)],\n",
       " 278: [('HD_VDJTOOLS_.2-2-TCRD_S22_L001_R1.txt', 61)],\n",
       " 279: [('BL_CopyOfVDJTOOLS_.1021_2576_SA85_S85_L001_R1.txt', 191)],\n",
       " 280: [('FU_CopyOfVDJTOOLS_.1072_2692_SA84_S84_L001_R1.txt', 282),\n",
       "  ('BL_CopyOfVDJTOOLS_.1026_2582_SA87_S87_L001_R1.txt', 1796)],\n",
       " 281: [('HD_VDJTOOLS_.2-4-TCRD_S24_L001_R1.txt', 269)],\n",
       " 282: [('HD_VDJTOOLS_.2-4-TCRD_S24_L001_R1.txt', 29)],\n",
       " 283: [('BL_CopyOfVDJTOOLS_.1072_2671_SA88_S88_L001_R1.txt', 121)],\n",
       " 284: [('BL_CopyOfVDJTOOLS_.1077_2683_SA89_S89_L001_R1.txt', 648)],\n",
       " 285: [('HD_VDJTOOLS_.3-4-TCRD_S32_L001_R1.txt', 280)],\n",
       " 286: [('HD_VDJTOOLS_.3-4-TCRD_S32_L001_R1.txt', 13)],\n",
       " 287: [('BL_CopyOfVDJTOOLS_.1026_2582_SA87_S87_L001_R1.txt', 1196)],\n",
       " 288: [('FU_CopyOfVDJTOOLS_.1160_FU_TCRD_S8_R1.txt', 86)],\n",
       " 289: [('FU_VDJTOOLS_.1143_FU_9-4-TCRD_S44_L001_R1.txt', 46)],\n",
       " 290: [('BL_VDJTOOLS_.1169_BL_10-5-TCRD_S46_L001_R1.txt', 36)],\n",
       " 291: [('HD_VDJTOOLS_.2-1-TCRD_S21_L001_R1.txt', 24)],\n",
       " 292: [('FU_CopyOfVDJTOOLS_.1071_2691_SA83_S83_L001_R1.txt', 191)],\n",
       " 293: [('HD_VDJTOOLS_.2-7-TCRD_S27_L001_R1.txt', 20)],\n",
       " 294: [('BL_CopyOfVDJTOOLS_.1071_2668_SA73_S73_L001_R1.txt', 174)],\n",
       " 295: [('HD_VDJTOOLS_.2-2-TCRD_S22_L001_R1.txt', 44),\n",
       "  ('HD_VDJTOOLS_.2-5-TCRD_S25_L001_R1.txt', 20),\n",
       "  ('BL_CopyOfVDJTOOLS_.1071_2668_SA73_S73_L001_R1.txt', 81)],\n",
       " 296: [('HD_VDJTOOLS_.2-2-TCRD_S22_L001_R1.txt', 21)],\n",
       " 297: [('HD_VDJTOOLS_.14-2-TCRD_S52_L001_R1.txt', 65)],\n",
       " 298: [('BL_VDJTOOLS_.1169_BL_10-5-TCRD_S46_L001_R1.txt', 25)],\n",
       " 299: [('HD_VDJTOOLS_.2-2-TCRD_S22_L001_R1.txt', 36)],\n",
       " 300: [('HD_VDJTOOLS_.1-2-TCRD_S13_L001_R1.txt', 45)],\n",
       " 301: [('HD_VDJTOOLS_.2-2-TCRD_S22_L001_R1.txt', 40)],\n",
       " 302: [('FU_CopyOfVDJTOOLS_.1122_FU-d_S84_L001_R1.txt', 47)],\n",
       " 303: [('HD_VDJTOOLS_.2-5-TCRD_S25_L001_R1.txt', 56)],\n",
       " 304: [('BL_CopyOfVDJTOOLS_.1121_BL-d_S91_L001_R1.txt', 12)],\n",
       " 305: [('FU_CopyOfVDJTOOLS_.1124_FU_TCRD_S4_R1.txt', 75)],\n",
       " 306: [('HD_VDJTOOLS_.1-6-TCRD_S17_L001_R1.txt', 83)],\n",
       " 307: [('BL_CopyOfVDJTOOLS_.1049_2625_SA67_S67_L001_R1.txt', 22)],\n",
       " 308: [('HD_VDJTOOLS_.14-1-TCRD_S51_L001_R1.txt', 10)],\n",
       " 309: [('HD_VDJTOOLS_.1-2-TCRD_S13_L001_R1.txt', 45)],\n",
       " 310: [('HD_VDJTOOLS_.2-4-TCRD_S24_L001_R1.txt', 40)],\n",
       " 311: [('FU_CopyOfVDJTOOLS_.1083_2717_SA86_S86_L001_R1.txt', 126),\n",
       "  ('BL_CopyOfVDJTOOLS_.1090_2709_SA94_S94_L001_R1.txt', 34)],\n",
       " 312: [('HD_VDJTOOLS_.3-8-TCRD_S35_L001_R1.txt', 9)],\n",
       " 313: [('BL_CopyOfVDJTOOLS_.1039_2604_SA65_S65_L001_R1.txt', 23),\n",
       "  ('BL_CopyOfVDJTOOLS_.1063_2650_SA72_S72_L001_R1.txt', 41)],\n",
       " 314: [('BL_CopyOfVDJTOOLS_.1055_2631_SA70_S70_L001_R1.txt', 34)],\n",
       " 315: [('FU_CopyOfVDJTOOLS_.1098_2754_SA89_S89_L001_R1.txt', 10)],\n",
       " 316: [('HD_VDJTOOLS_.2-2-TCRD_S22_L001_R1.txt', 24)],\n",
       " 317: [('BL_CopyOfVDJTOOLS_.1021_2576_SA85_S85_L001_R1.txt', 47)],\n",
       " 318: [('FU_CopyOfVDJTOOLS_.1071_2691_SA83_S83_L001_R1.txt', 26)],\n",
       " 319: [('FU_CopyOfVDJTOOLS_.1082_2714_SA85_S85_L001_R1.txt', 466)],\n",
       " 320: [('BL_CopyOfVDJTOOLS_.1072_2671_SA88_S88_L001_R1.txt', 131)],\n",
       " 321: [('HD_VDJTOOLS_.2-2-TCRD_S22_L001_R1.txt', 26)],\n",
       " 322: [('FU_CopyOfVDJTOOLS_.1031_2622_SA68_S68_L001_R1.txt', 12)],\n",
       " 323: [('FU_CopyOfVDJTOOLS_.1122_FU-d_S84_L001_R1.txt', 24)],\n",
       " 324: [('HD_VDJTOOLS_.2-5-TCRD_S25_L001_R1.txt', 38)],\n",
       " 325: [('FU_CopyOfVDJTOOLS_.1047_2687_SA72_S72_L001_R1.txt', 18)],\n",
       " 326: [('FU_CopyOfVDJTOOLS_.1039_2644_SA70_S70_L001_R1.txt', 50)],\n",
       " 327: [('HD_VDJTOOLS_.2-7-TCRD_S27_L001_R1.txt', 65)],\n",
       " 328: [('FU_VDJTOOLS_.1169_FU_10-6-TCRD_S47_L001_R1.txt', 77)],\n",
       " 329: [('FU_CopyOfVDJTOOLS_.1071_2691_SA83_S83_L001_R1.txt', 47)],\n",
       " 330: [('FU_VDJTOOLS_.1111_FU_7-2-TCRD_S41_L001_R1.txt', 883)],\n",
       " 331: [('FU_VDJTOOLS_.1004_FU_4-4-TCRD_S39_L001_R1.txt', 60)],\n",
       " 332: [('BL_CopyOfVDJTOOLS_.1003_2553_SA78_S78_L001_R1.txt', 124)],\n",
       " 333: [('BL_VDJTOOLS_.1217_BL_16-7-TCRD_S58_L001_R1.txt', 10)],\n",
       " 334: [('BL_VDJTOOLS_.1189_BL_TAA-7-5-TCRD_S70_L001_R1.txt', 269)],\n",
       " 335: [('HD_VDJTOOLS_.1-2-TCRD_S13_L001_R1.txt', 85)],\n",
       " 336: [('HD_VDJTOOLS_.14-1-TCRD_S51_L001_R1.txt', 28)],\n",
       " 337: [('BL_CopyOfVDJTOOLS_.1049_2625_SA67_S67_L001_R1.txt', 94)],\n",
       " 338: [('FU_VDJTOOLS_.1169_FU_10-6-TCRD_S47_L001_R1.txt', 65)],\n",
       " 339: [('BL_CopyOfVDJTOOLS_.1021_2576_SA85_S85_L001_R1.txt', 93)],\n",
       " 340: [('FU_CopyOfVDJTOOLS_.1149_FU-d_S57_L001_R1.txt', 20)],\n",
       " 341: [('HD_VDJTOOLS_.2-7-TCRD_S27_L001_R1.txt', 9)],\n",
       " 342: [('HD_VDJTOOLS_.2-7-TCRD_S27_L001_R1.txt', 23)],\n",
       " 343: [('HD_VDJTOOLS_.2-3-TCRD_S23_L001_R1.txt', 741)],\n",
       " 344: [('HD_VDJTOOLS_.14-2-TCRD_S52_L001_R1.txt', 47)],\n",
       " 345: [('HD_VDJTOOLS_.14-2-TCRD_S52_L001_R1.txt', 314)],\n",
       " 346: [('FU_VDJTOOLS_.1111_FU_7-2-TCRD_S41_L001_R1.txt', 405)],\n",
       " 347: [('FU_CopyOfVDJTOOLS_.1034_2642_SA69_S69_L001_R1.txt', 107)],\n",
       " 348: [('BL_CopyOfVDJTOOLS_.1021_2576_SA85_S85_L001_R1.txt', 27)],\n",
       " 349: [('FU_CopyOfVDJTOOLS_.1086_FU-d_S50_L001_R1.txt', 14)],\n",
       " 350: [('BL_CopyOfVDJTOOLS_.1071_2668_SA73_S73_L001_R1.txt', 105)],\n",
       " 351: [('HD_VDJTOOLS_.2-5-TCRD_S25_L001_R1.txt', 14)],\n",
       " 352: [('HD_VDJTOOLS_.2-5-TCRD_S25_L001_R1.txt', 31)],\n",
       " 353: [('HD_VDJTOOLS_.2-3-TCRD_S23_L001_R1.txt', 164)],\n",
       " 354: [('HD_VDJTOOLS_.2-7-TCRD_S27_L001_R1.txt', 12)],\n",
       " 355: [('HD_VDJTOOLS_.2-7-TCRD_S27_L001_R1.txt', 42)],\n",
       " 356: [('HD_VDJTOOLS_.1-5-TCRD_S16_L001_R1.txt', 182)],\n",
       " 357: [('HD_VDJTOOLS_.2-2-TCRD_S22_L001_R1.txt', 40)],\n",
       " 358: [('BL_CopyOfVDJTOOLS_.1079_2685_SA90_S90_L001_R1.txt', 545)],\n",
       " 359: [('BL_VDJTOOLS_.1212_BL_18-5-TCRD_S66_L001_R1.txt', 233)],\n",
       " 360: [('BL_CopyOfVDJTOOLS_.1055_2631_SA70_S70_L001_R1.txt', 47)],\n",
       " 361: [('FU_CopyOfVDJTOOLS_.1072_2692_SA84_S84_L001_R1.txt', 118)],\n",
       " 362: [('HD_VDJTOOLS_.3-4-TCRD_S32_L001_R1.txt', 33)],\n",
       " 363: [('HD_VDJTOOLS_.2-2-TCRD_S22_L001_R1.txt', 9)],\n",
       " 364: [('HD_VDJTOOLS_.14-3-TCRD_S53_L001_R1.txt', 347)],\n",
       " 365: [('HD_VDJTOOLS_.2-5-TCRD_S25_L001_R1.txt', 48)],\n",
       " 366: [('BL_CopyOfVDJTOOLS_.1086_BL-d_S54_L001_R1.txt', 95)],\n",
       " 367: [('HD_VDJTOOLS_.1-2-TCRD_S13_L001_R1.txt', 93)],\n",
       " 368: [('BL_CopyOfVDJTOOLS_.1054_2630_SA69_S69_L001_R1.txt', 48)],\n",
       " 369: [('BL_VDJTOOLS_.3051_BL_17-3-TCRD_S59_L001_R1.txt', 524)],\n",
       " 370: [('FU_CopyOfVDJTOOLS_.1151_FU-d_S85_L001_R1.txt', 149)],\n",
       " 371: [('HD_VDJTOOLS_.1-7-TCRD_S18_L001_R1.txt', 33)],\n",
       " 372: [('HD_VDJTOOLS_.2-2-TCRD_S22_L001_R1.txt', 39)],\n",
       " 373: [('HD_VDJTOOLS_.14-2-TCRD_S52_L001_R1.txt', 11)],\n",
       " 374: [('HD_VDJTOOLS_.1-6-TCRD_S17_L001_R1.txt', 3690)],\n",
       " 375: [('HD_VDJTOOLS_.2-7-TCRD_S27_L001_R1.txt', 53)],\n",
       " 376: [('FU_CopyOfVDJTOOLS_.1003_2564_SA92_S92_L001_R1.txt', 689),\n",
       "  ('FU_CopyOfVDJTOOLS_.1004_2568_SA93_S93_L001_R1.txt', 5)],\n",
       " 377: [('BL_CopyOfVDJTOOLS_.1054_2630_SA69_S69_L001_R1.txt', 68)],\n",
       " 378: [('HD_VDJTOOLS_.2-5-TCRD_S25_L001_R1.txt', 31)],\n",
       " 379: [('FU_CopyOfVDJTOOLS_.1124_FU_TCRD_S4_R1.txt', 14)],\n",
       " 380: [('FU_CopyOfVDJTOOLS_.1124_FU_TCRD_S4_R1.txt', 83)],\n",
       " 381: [('FU_VDJTOOLS_.1189_FU_TAA-7-6-TCRD_S71_L001_R1.txt', 73)],\n",
       " 382: [('BL_CopyOfVDJTOOLS_.1021_2576_SA85_S85_L001_R1.txt', 82)],\n",
       " 383: [('BL_CopyOfVDJTOOLS_.1079_2685_SA90_S90_L001_R1.txt', 787)],\n",
       " 384: [('HD_VDJTOOLS_.1-8-TCRD_S19_L001_R1.txt', 9)],\n",
       " 385: [('FU_VDJTOOLS_.1189_FU_TAA-7-6-TCRD_S71_L001_R1.txt', 143)],\n",
       " 386: [('HD_VDJTOOLS_.2-3-TCRD_S23_L001_R1.txt', 338)],\n",
       " 387: [('BL_VDJTOOLS_.1169_BL_10-5-TCRD_S46_L001_R1.txt', 57)],\n",
       " 388: [('HD_VDJTOOLS_.2-5-TCRD_S25_L001_R1.txt', 35)],\n",
       " 389: [('BL_CopyOfVDJTOOLS_.1003_2553_SA78_S78_L001_R1.txt', 44)],\n",
       " 390: [('FU_VDJTOOLS_.1143_FU_9-4-TCRD_S44_L001_R1.txt', 74),\n",
       "  ('BL_VDJTOOLS_.1143_BL_9-3-TCRD_S43_L001_R1.txt', 28)],\n",
       " 391: [('BL_CopyOfVDJTOOLS_.1072_2671_SA88_S88_L001_R1.txt', 22)],\n",
       " 392: [('BL_CopyOfVDJTOOLS_.1021_2576_SA85_S85_L001_R1.txt', 80)],\n",
       " 393: [('HD_VDJTOOLS_.1-2-TCRD_S13_L001_R1.txt', 113)],\n",
       " 394: [('HD_VDJTOOLS_.1-4-TCRD_S15_L001_R1.txt', 157)],\n",
       " 395: [('HD_VDJTOOLS_.2-1-TCRD_S21_L001_R1.txt', 17)],\n",
       " 396: [('FU_CopyOfVDJTOOLS_.1086_FU-d_S50_L001_R1.txt', 15)],\n",
       " 397: [('BL_VDJTOOLS_.1004_BL_4-3-TCRD_S38_L001_R1.txt', 143)],\n",
       " 398: [('HD_VDJTOOLS_.1-4-TCRD_S15_L001_R1.txt', 431)],\n",
       " 399: [('HD_VDJTOOLS_.2-1-TCRD_S21_L001_R1.txt', 36)],\n",
       " 400: [('FU_CopyOfVDJTOOLS_.1168_FU-d_S73_L001_R2.txt', 1)],\n",
       " 401: [('HD_VDJTOOLS_.3-3-TCRD_S31_L001_R1.txt', 38)],\n",
       " 402: [('HD_VDJTOOLS_.2-5-TCRD_S25_L001_R1.txt', 73)],\n",
       " 403: [('HD_VDJTOOLS_.2-4-TCRD_S24_L001_R1.txt', 64)],\n",
       " 404: [('BL_CopyOfVDJTOOLS_.1112_BL-d_S66_L001_R1.txt', 3)],\n",
       " 405: [('FU_CopyOfVDJTOOLS_.1086_FU-d_S50_L001_R1.txt', 19)],\n",
       " 406: [('FU_CopyOfVDJTOOLS_.1047_2687_SA72_S72_L001_R1.txt', 18),\n",
       "  ('FU_CopyOfVDJTOOLS_.1010_2615_SA65_S65_L001_R1.txt', 4)],\n",
       " 407: [('BL_CopyOfVDJTOOLS_.1054_2630_SA69_S69_L001_R1.txt', 99)],\n",
       " 408: [('BL_VDJTOOLS_.1111_BL_7-1-TCRD_S40_L001_R1.txt', 431)],\n",
       " 409: [('BL_VDJTOOLS_.1111_BL_7-1-TCRD_S40_L001_R1.txt', 24)],\n",
       " 410: [('HD_VDJTOOLS_.1-2-TCRD_S13_L001_R1.txt', 40)],\n",
       " 411: [('HD_VDJTOOLS_.1-3-TCRD_S14_L001_R1.txt', 224)],\n",
       " 412: [('BL_VDJTOOLS_.1212_BL_18-5-TCRD_S66_L001_R1.txt', 19)],\n",
       " 413: [('HD_VDJTOOLS_.2-8-TCRD_S28_L001_R1.txt', 302)],\n",
       " 414: [('FU_VDJTOOLS_.1169_FU_10-6-TCRD_S47_L001_R1.txt', 379)],\n",
       " 415: [('BL_CopyOfVDJTOOLS_.1021_2576_SA85_S85_L001_R1.txt', 75),\n",
       "  ('BL_CopyOfVDJTOOLS_.1080_2686_SA91_S91_L001_R1.txt', 316)],\n",
       " 416: [('HD_VDJTOOLS_.2-4-TCRD_S24_L001_R1.txt', 45)],\n",
       " 417: [('HD_VDJTOOLS_.2-5-TCRD_S25_L001_R1.txt', 57)],\n",
       " 418: [('BL_CopyOfVDJTOOLS_.1023_2578_SA86_S86_L001_R1.txt', 531)],\n",
       " 419: [('BL_CopyOfVDJTOOLS_.1014_2566_SA84_S84_L001_R1.txt', 130)],\n",
       " 420: [('FU_CopyOfVDJTOOLS_.1071_2691_SA83_S83_L001_R1.txt', 103)],\n",
       " 421: [('FU_CopyOfVDJTOOLS_.1168_FU-d_S73_L001_R2.txt', 1)],\n",
       " 422: [('BL_VDJTOOLS_.3061_BL_17-5-TCRD_S61_L001_R1.txt', 76)],\n",
       " 423: [('HD_VDJTOOLS_.14-2-TCRD_S52_L001_R1.txt', 15)],\n",
       " 424: [('BL_CopyOfVDJTOOLS_.1054_2630_SA69_S69_L001_R1.txt', 178)],\n",
       " 425: [('BL_VDJTOOLS_.1185_BL_16-1-TCRD_S57_L001_R1.txt', 598)],\n",
       " 426: [('HD_VDJTOOLS_.3-4-TCRD_S32_L001_R1.txt', 86)],\n",
       " 427: [('FU_CopyOfVDJTOOLS_.1047_2687_SA72_S72_L001_R1.txt', 454),\n",
       "  ('FU_CopyOfVDJTOOLS_.1010_2615_SA65_S65_L001_R1.txt', 16)],\n",
       " 428: [('HD_VDJTOOLS_.2-7-TCRD_S27_L001_R1.txt', 44)],\n",
       " 429: [('FU_CopyOfVDJTOOLS_.1010_2615_SA65_S65_L001_R1.txt', 25),\n",
       "  ('FU_CopyOfVDJTOOLS_.1015_2588_SA95_S95_L001_R1.txt', 3498),\n",
       "  ('BL_CopyOfVDJTOOLS_.1040_2605_SA66_S66_L001_R1.txt', 429)],\n",
       " 430: [('HD_VDJTOOLS_.2-7-TCRD_S27_L001_R1.txt', 18)],\n",
       " 431: [('HD_VDJTOOLS_.1-6-TCRD_S17_L001_R1.txt', 36)],\n",
       " 432: [('BL_CopyOfVDJTOOLS_.1071_2668_SA73_S73_L001_R1.txt', 92)],\n",
       " 433: [('HD_VDJTOOLS_.2-5-TCRD_S25_L001_R1.txt', 39)],\n",
       " 434: [('BL_VDJTOOLS_.1003_BL_4-1-TCRD_S36_L001_R1.txt', 63)],\n",
       " 435: [('FU_VDJTOOLS_.1143_FU_9-4-TCRD_S44_L001_R1.txt', 231),\n",
       "  ('BL_VDJTOOLS_.1143_BL_9-3-TCRD_S43_L001_R1.txt', 380)],\n",
       " 436: [('HD_VDJTOOLS_.2-2-TCRD_S22_L001_R1.txt', 15)],\n",
       " 437: [('HD_VDJTOOLS_.2-2-TCRD_S22_L001_R1.txt', 26)],\n",
       " 438: [('HD_VDJTOOLS_.2-1-TCRD_S21_L001_R1.txt', 50)],\n",
       " 439: [('FU_VDJTOOLS_.1111_FU_7-2-TCRD_S41_L001_R1.txt', 1602)],\n",
       " 440: [('HD_VDJTOOLS_.2-1-TCRD_S21_L001_R1.txt', 40)],\n",
       " 441: [('HD_VDJTOOLS_.2-5-TCRD_S25_L001_R1.txt', 22)],\n",
       " 442: [('HD_VDJTOOLS_.2-5-TCRD_S25_L001_R1.txt', 79)],\n",
       " 443: [('HD_VDJTOOLS_.14-3-TCRD_S53_L001_R1.txt', 36)],\n",
       " 444: [('HD_VDJTOOLS_.3-4-TCRD_S32_L001_R1.txt', 13)],\n",
       " 445: [('BL_VDJTOOLS_.1169_BL_10-5-TCRD_S46_L001_R1.txt', 42)],\n",
       " 446: [('HD_VDJTOOLS_.2-5-TCRD_S25_L001_R1.txt', 66)],\n",
       " 447: [('BL_VDJTOOLS_.1185_BL_16-1-TCRD_S57_L001_R1.txt', 14)],\n",
       " 448: [('BL_VDJTOOLS_.1185_BL_16-1-TCRD_S57_L001_R1.txt', 25)],\n",
       " 449: [('BL_CopyOfVDJTOOLS_.1031_2592_SA90_S90_L001_R1.txt', 15)],\n",
       " 450: [('HD_VDJTOOLS_.2-2-TCRD_S22_L001_R1.txt', 30)],\n",
       " 451: [('FU_CopyOfVDJTOOLS_.1097_FU-d_S37_L001_R1.txt', 17)],\n",
       " 452: [('FU_VDJTOOLS_.1231_FU_17-8-TCRD_S64_L001_R1.txt', 1),\n",
       "  ('HD_VDJTOOLS_.3-5-TCRD_S33_L001_R1.txt', 1096)],\n",
       " 453: [('HD_VDJTOOLS_.3-5-TCRD_S33_L001_R1.txt', 3781)],\n",
       " 454: [('FU_VDJTOOLS_.3051_FU_17-4-TCRD_S60_L001_R1.txt', 844)],\n",
       " 455: [('BL_CopyOfVDJTOOLS_.1023_2578_SA86_S86_L001_R1.txt', 25)],\n",
       " 456: [('HD_VDJTOOLS_.1-2-TCRD_S13_L001_R1.txt', 39)],\n",
       " 457: [('BL_CopyOfVDJTOOLS_.1079_2685_SA90_S90_L001_R1.txt', 117)],\n",
       " 458: [('FU_CopyOfVDJTOOLS_.1151_FU-d_S85_L001_R1.txt', 79)],\n",
       " 459: [('FU_VDJTOOLS_.1195_FU_18-8-TCRD_S69_L001_R1.txt', 11)],\n",
       " 460: [('HD_VDJTOOLS_.1ctrl-TCRD_S20_L001_R1.txt', 95)],\n",
       " 461: [('HD_VDJTOOLS_.14-4-TCRD_S54_L001_R1.txt', 23)],\n",
       " 462: [('FU_CopyOfVDJTOOLS_.1098_2754_SA89_S89_L001_R1.txt', 24),\n",
       "  ('BL_CopyOfVDJTOOLS_.1026_2582_SA87_S87_L001_R1.txt', 1796)],\n",
       " 463: [('HD_VDJTOOLS_.2-5-TCRD_S25_L001_R1.txt', 19)],\n",
       " 464: [('BL_CopyOfVDJTOOLS_.1021_2576_SA85_S85_L001_R1.txt', 73)],\n",
       " 465: [('BL_CopyOfVDJTOOLS_.1021_2576_SA85_S85_L001_R1.txt', 1293),\n",
       "  ('BL_CopyOfVDJTOOLS_.1039_2604_SA65_S65_L001_R1.txt', 113)],\n",
       " 466: [('HD_VDJTOOLS_.1-6-TCRD_S17_L001_R1.txt', 150)],\n",
       " 467: [('BL_VDJTOOLS_.1212_BL_18-5-TCRD_S66_L001_R1.txt', 62)],\n",
       " 468: [('HD_VDJTOOLS_.1-6-TCRD_S17_L001_R1.txt', 33)],\n",
       " 469: [('HD_VDJTOOLS_.2-2-TCRD_S22_L001_R1.txt', 34)],\n",
       " 470: [('FU_CopyOfVDJTOOLS_.1086_FU-d_S50_L001_R1.txt', 14)],\n",
       " 471: [('BL_CopyOfVDJTOOLS_.1071_2668_SA73_S73_L001_R1.txt', 122)],\n",
       " 472: [('FU_CopyOfVDJTOOLS_.1014_2639_SA66_S66_L001_R1.txt', 262),\n",
       "  ('BL_CopyOfVDJTOOLS_.1014_2566_SA84_S84_L001_R1.txt', 494)],\n",
       " 473: [('HD_VDJTOOLS_.1-6-TCRD_S17_L001_R1.txt', 85)],\n",
       " 474: [('BL_VDJTOOLS_.1136_BL_8-7-TCRD_S42_L001_R1.txt', 704)],\n",
       " 475: [('HD_VDJTOOLS_.2-7-TCRD_S27_L001_R1.txt', 57)],\n",
       " 476: [('HD_VDJTOOLS_.1-4-TCRD_S15_L001_R1.txt', 13)],\n",
       " 477: [('BL_CopyOfVDJTOOLS_.1079_2685_SA90_S90_L001_R1.txt', 362)],\n",
       " 478: [('BL_CopyOfVDJTOOLS_.1152_BL_TCRD_S6_R1.txt', 70)],\n",
       " 479: [('BL_CopyOfVDJTOOLS_.1152_BL_TCRD_S6_R1.txt', 11)],\n",
       " 480: [('FU_CopyOfVDJTOOLS_.1034_2642_SA69_S69_L001_R1.txt', 192)],\n",
       " 481: [('HD_VDJTOOLS_.1ctrl-TCRD_S20_L001_R1.txt', 285)],\n",
       " 482: [('HD_VDJTOOLS_.14-2-TCRD_S52_L001_R1.txt', 13)],\n",
       " 483: [('FU_CopyOfVDJTOOLS_.1122_FU-d_S84_L001_R1.txt', 542)],\n",
       " 484: [('HD_VDJTOOLS_.14-2-TCRD_S52_L001_R1.txt', 39)],\n",
       " 485: [('FU_CopyOfVDJTOOLS_.1072_2692_SA84_S84_L001_R1.txt', 143)],\n",
       " 486: [('BL_CopyOfVDJTOOLS_.1049_2625_SA67_S67_L001_R1.txt', 11)],\n",
       " 487: [('BL_CopyOfVDJTOOLS_.1072_2671_SA88_S88_L001_R1.txt', 130)],\n",
       " 488: [('BL_VDJTOOLS_.1210_BL_18-3-TCRD_S65_L001_R1.txt', 34)],\n",
       " 489: [('HD_VDJTOOLS_.2-2-TCRD_S22_L001_R1.txt', 11)],\n",
       " 490: [('FU_CopyOfVDJTOOLS_.1124_FU_TCRD_S4_R1.txt', 68)],\n",
       " 491: [('FU_VDJTOOLS_.1143_FU_9-4-TCRD_S44_L001_R1.txt', 162)],\n",
       " 492: [('FU_VDJTOOLS_.3001_FU_11-6-TCRD_S48_L001_R1.txt', 77)],\n",
       " 493: [('FU_VDJTOOLS_.1004_FU_4-4-TCRD_S39_L001_R1.txt', 540)],\n",
       " 494: [('HD_VDJTOOLS_.3-8-TCRD_S35_L001_R1.txt', 36)],\n",
       " 495: [('FU_CopyOfVDJTOOLS_.1010_2615_SA65_S65_L001_R1.txt', 403),\n",
       "  ('BL_CopyOfVDJTOOLS_.1051_2627_SA68_S68_L001_R1.txt', 181),\n",
       "  ('BL_CopyOfVDJTOOLS_.1010_2560_SA80_S80_L001_R1.txt', 7409),\n",
       "  ('BL_CopyOfVDJTOOLS_.1004_2554_SA79_S79_L001_R1.txt', 6)],\n",
       " 496: [('BL_CopyOfVDJTOOLS_.1049_2625_SA67_S67_L001_R1.txt', 57)],\n",
       " 497: [('HD_VDJTOOLS_.14-4-TCRD_S54_L001_R1.txt', 41)],\n",
       " 498: [('HD_VDJTOOLS_.1-6-TCRD_S17_L001_R1.txt', 204)],\n",
       " 499: [('BL_CopyOfVDJTOOLS_.1049_2625_SA67_S67_L001_R1.txt', 11)],\n",
       " 500: [('BL_CopyOfVDJTOOLS_.1021_2576_SA85_S85_L001_R1.txt', 34)],\n",
       " 501: [('FU_VDJTOOLS_.1195_FU_18-8-TCRD_S69_L001_R1.txt', 111),\n",
       "  ('BL_VDJTOOLS_.1195_BL_18-7-TCRD_S67_L001_R1.txt', 16)],\n",
       " 502: [('HD_VDJTOOLS_.2-2-TCRD_S22_L001_R1.txt', 264)],\n",
       " 503: [('BL_CopyOfVDJTOOLS_.1021_2576_SA85_S85_L001_R1.txt', 12)],\n",
       " 504: [('HD_VDJTOOLS_.14-5-TCRD_S55_L001_R1.txt', 372)],\n",
       " 505: [('FU_CopyOfVDJTOOLS_.1082_2714_SA85_S85_L001_R1.txt', 554)],\n",
       " 506: [('BL_CopyOfVDJTOOLS_.1151_BL-d_S40_L001_R1.txt', 44)],\n",
       " 507: [('BL_CopyOfVDJTOOLS_.1021_2576_SA85_S85_L001_R1.txt', 107)],\n",
       " 508: [('HD_VDJTOOLS_.14-4-TCRD_S54_L001_R1.txt', 11)],\n",
       " 509: [('BL_CopyOfVDJTOOLS_.1049_2625_SA67_S67_L001_R1.txt', 274)],\n",
       " 510: [('HD_VDJTOOLS_.1-8-TCRD_S19_L001_R1.txt', 21)],\n",
       " 511: [('HD_VDJTOOLS_.1-7-TCRD_S18_L001_R1.txt', 23)],\n",
       " 512: [('FU_CopyOfVDJTOOLS_.1086_FU-d_S50_L001_R1.txt', 94),\n",
       "  ('BL_CopyOfVDJTOOLS_.1112_BL-d_S66_L001_R1.txt', 7),\n",
       "  ('BL_CopyOfVDJTOOLS_.1008_BL-d_S70_L001_R1.txt', 8)],\n",
       " 513: [('FU_CopyOfVDJTOOLS_.1149_FU-d_S57_L001_R1.txt', 23)],\n",
       " 514: [('BL_CopyOfVDJTOOLS_.1010_2560_SA80_S80_L001_R1.txt', 5)],\n",
       " 515: [('BL_VDJTOOLS_.3051_BL_17-3-TCRD_S59_L001_R1.txt', 1524)],\n",
       " 516: [('BL_CopyOfVDJTOOLS_.1080_2686_SA91_S91_L001_R1.txt', 619)],\n",
       " 517: [('BL_CopyOfVDJTOOLS_.1049_2625_SA67_S67_L001_R1.txt', 19)],\n",
       " 518: [('HD_VDJTOOLS_.1-6-TCRD_S17_L001_R1.txt', 54)],\n",
       " 519: [('HD_VDJTOOLS_.14-1-TCRD_S51_L001_R1.txt', 18)],\n",
       " 520: [('BL_CopyOfVDJTOOLS_.1072_2671_SA88_S88_L001_R1.txt', 22)],\n",
       " 521: [('BL_VDJTOOLS_.3051_BL_17-3-TCRD_S59_L001_R1.txt', 10)],\n",
       " 522: [('FU_CopyOfVDJTOOLS_.1023_2599_SA96_S96_L001_R1.txt', 204),\n",
       "  ('BL_CopyOfVDJTOOLS_.1080_2686_SA91_S91_L001_R1.txt', 756),\n",
       "  ('BL_CopyOfVDJTOOLS_.1023_2578_SA86_S86_L001_R1.txt', 257)],\n",
       " 523: [('BL_CopyOfVDJTOOLS_.1008_BL-d_S70_L001_R1.txt', 7)],\n",
       " 524: [('HD_VDJTOOLS_.14-5-TCRD_S55_L001_R1.txt', 87)],\n",
       " 525: [('HD_VDJTOOLS_.1-4-TCRD_S15_L001_R1.txt', 94)],\n",
       " 526: [('HD_VDJTOOLS_.2-1-TCRD_S21_L001_R1.txt', 55),\n",
       "  ('HD_VDJTOOLS_.2-4-TCRD_S24_L001_R1.txt', 88)],\n",
       " 527: [('BL_CopyOfVDJTOOLS_.1054_2630_SA69_S69_L001_R1.txt', 156)],\n",
       " 528: [('HD_VDJTOOLS_.1-6-TCRD_S17_L001_R1.txt', 80)],\n",
       " 529: [('FU_CopyOfVDJTOOLS_.1106_FU-d_S39_L001_R1.txt', 94),\n",
       "  ('FU_CopyOfVDJTOOLS_.1094_FU-d_S55_L001_R1.txt', 729),\n",
       "  ('FU_CopyOfVDJTOOLS_.1097_FU-d_S37_L001_R1.txt', 11),\n",
       "  ('BL_CopyOfVDJTOOLS_.1091_BL-d_S35_L001_R1.txt', 6),\n",
       "  ('BL_CopyOfVDJTOOLS_.1097_BL-d_S36_L001_R1.txt', 73),\n",
       "  ('BL_CopyOfVDJTOOLS_.1160_BL-d_S41_L001_R1.txt', 49),\n",
       "  ('BL_CopyOfVDJTOOLS_.1112_BL-d_S66_L001_R1.txt', 10)],\n",
       " 530: [('FU_CopyOfVDJTOOLS_.1086_FU-d_S50_L001_R1.txt', 16)],\n",
       " 531: [('FU_CopyOfVDJTOOLS_.1145_FU-d_S53_L001_R1.txt', 123),\n",
       "  ('FU_CopyOfVDJTOOLS_.1152_FU-d_S94_L001_R1.txt', 10),\n",
       "  ('BL_CopyOfVDJTOOLS_.1145_BL-d_S67_L001_R1.txt', 65),\n",
       "  ('BL_CopyOfVDJTOOLS_.1120_BL-d_S56_L001_R1.txt', 75),\n",
       "  ('BL_CopyOfVDJTOOLS_.1149_BL-d_S68_L001_R1.txt', 16),\n",
       "  ('BL_CopyOfVDJTOOLS_.1153_BL-d_S69_L001_R1.txt', 18),\n",
       "  ('BL_CopyOfVDJTOOLS_.1112_BL-d_S66_L001_R1.txt', 4)],\n",
       " 532: [('BL_VDJTOOLS_.3051_BL_17-3-TCRD_S59_L001_R1.txt', 707)],\n",
       " 533: [('BL_CopyOfVDJTOOLS_.1160_BL-d_S41_L001_R1.txt', 18)],\n",
       " 534: [('FU_CopyOfVDJTOOLS_.1146_FU-d_S95_L001_R2.txt', 4),\n",
       "  ('FU_CopyOfVDJTOOLS_.1106_FU-d_S39_L001_R1.txt', 152),\n",
       "  ('FU_CopyOfVDJTOOLS_.1008_FU-d_S38_L001_R1.txt', 177),\n",
       "  ('FU_CopyOfVDJTOOLS_.1097_FU-d_S37_L001_R1.txt', 20),\n",
       "  ('BL_CopyOfVDJTOOLS_.1151_BL-d_S40_L001_R1.txt', 193),\n",
       "  ('BL_CopyOfVDJTOOLS_.1091_BL-d_S35_L001_R1.txt', 23),\n",
       "  ('BL_CopyOfVDJTOOLS_.1153_BL-d_S69_L001_R1.txt', 11),\n",
       "  ('BL_CopyOfVDJTOOLS_.1097_BL-d_S36_L001_R1.txt', 167),\n",
       "  ('BL_CopyOfVDJTOOLS_.1160_BL-d_S41_L001_R1.txt', 188),\n",
       "  ('BL_CopyOfVDJTOOLS_.1112_BL-d_S66_L001_R1.txt', 3),\n",
       "  ('BL_CopyOfVDJTOOLS_.1008_BL-d_S70_L001_R1.txt', 3)],\n",
       " 535: [('FU_CopyOfVDJTOOLS_.1106_FU-d_S39_L001_R1.txt', 18)],\n",
       " 536: [('HD_VDJTOOLS_.14-2-TCRD_S52_L001_R1.txt', 77)],\n",
       " 537: [('HD_VDJTOOLS_.2-5-TCRD_S25_L001_R1.txt', 45)],\n",
       " 538: [('BL_CopyOfVDJTOOLS_.1021_2576_SA85_S85_L001_R1.txt', 166)],\n",
       " 539: [('BL_CopyOfVDJTOOLS_.1160_BL-d_S41_L001_R1.txt', 23)],\n",
       " 540: [('BL_CopyOfVDJTOOLS_.1031_2592_SA90_S90_L001_R1.txt', 10)],\n",
       " 541: [('BL_CopyOfVDJTOOLS_.1080_2686_SA91_S91_L001_R1.txt', 679)],\n",
       " 542: [('FU_CopyOfVDJTOOLS_.1010_2615_SA65_S65_L001_R1.txt', 444),\n",
       "  ('FU_CopyOfVDJTOOLS_.1090_2732_SA87_S87_L001_R1.txt', 5),\n",
       "  ('FU_CopyOfVDJTOOLS_.1083_2717_SA86_S86_L001_R1.txt', 28),\n",
       "  ('FU_CopyOfVDJTOOLS_.1030_2624_SA67_S67_L001_R1.txt', 71),\n",
       "  ('HD_VDJTOOLS_.2-2-TCRD_S22_L001_R1.txt', 783),\n",
       "  ('HD_VDJTOOLS_.2-5-TCRD_S25_L001_R1.txt', 295),\n",
       "  ('BL_CopyOfVDJTOOLS_.1071_2668_SA73_S73_L001_R1.txt', 863)],\n",
       " 543: [('FU_CopyOfVDJTOOLS_.1124_FU_TCRD_S4_R1.txt', 232),\n",
       "  ('BL_CopyOfVDJTOOLS_.1124_BL_TCRD_S3_R1.txt', 596)],\n",
       " 544: [('HD_VDJTOOLS_.1-8-TCRD_S19_L001_R1.txt', 21)],\n",
       " 545: [('BL_CopyOfVDJTOOLS_.1168_BL-d_S96_L001_R2.txt', 5)],\n",
       " 546: [('HD_VDJTOOLS_.2-5-TCRD_S25_L001_R1.txt', 94)],\n",
       " 547: [('FU_CopyOfVDJTOOLS_.1007_2575_SA94_S94_L001_R1.txt', 214)],\n",
       " 548: [('FU_CopyOfVDJTOOLS_.1007_2575_SA94_S94_L001_R1.txt', 556)],\n",
       " 549: [('FU_CopyOfVDJTOOLS_.1124_FU_TCRD_S4_R1.txt', 554),\n",
       "  ('BL_CopyOfVDJTOOLS_.1124_BL_TCRD_S3_R1.txt', 1420)],\n",
       " 550: [('HD_VDJTOOLS_.1-2-TCRD_S13_L001_R1.txt', 24)],\n",
       " 551: [('BL_CopyOfVDJTOOLS_.1160_BL-d_S41_L001_R1.txt', 35)],\n",
       " 552: [('HD_VDJTOOLS_.1-6-TCRD_S17_L001_R1.txt', 24)],\n",
       " 553: [('BL_CopyOfVDJTOOLS_.1023_2578_SA86_S86_L001_R1.txt', 328)],\n",
       " 554: [('FU_CopyOfVDJTOOLS_.1153_FU_TCRD_S7_R1.txt', 104)],\n",
       " 555: [('BL_CopyOfVDJTOOLS_.1021_2576_SA85_S85_L001_R1.txt', 50)],\n",
       " 556: [('HD_VDJTOOLS_.14-5-TCRD_S55_L001_R1.txt', 254)],\n",
       " 557: [('HD_VDJTOOLS_.1-6-TCRD_S17_L001_R1.txt', 9)],\n",
       " 558: [('BL_CopyOfVDJTOOLS_.1003_2553_SA78_S78_L001_R1.txt', 167),\n",
       "  ('BL_VDJTOOLS_.1003_BL_4-1-TCRD_S36_L001_R1.txt', 143),\n",
       "  ('BL_CopyOfVDJTOOLS_.1079_2685_SA90_S90_L001_R1.txt', 373)],\n",
       " 559: [('HD_VDJTOOLS_.2-7-TCRD_S27_L001_R1.txt', 45)],\n",
       " 560: [('HD_VDJTOOLS_.14-3-TCRD_S53_L001_R1.txt', 7444)],\n",
       " 561: [('FU_CopyOfVDJTOOLS_.1031_2622_SA68_S68_L001_R1.txt', 96),\n",
       "  ('BL_CopyOfVDJTOOLS_.1031_2592_SA90_S90_L001_R1.txt', 365)],\n",
       " 562: [('BL_CopyOfVDJTOOLS_.1084_BL_TCRD_S1_R1.txt', 469)],\n",
       " 563: [('HD_VDJTOOLS_.1-2-TCRD_S13_L001_R1.txt', 26)],\n",
       " 564: [('FU_CopyOfVDJTOOLS_.1122_FU-d_S84_L001_R1.txt', 105)],\n",
       " 565: [('HD_VDJTOOLS_.2-8-TCRD_S28_L001_R1.txt', 100),\n",
       "  ('HD_VDJTOOLS_.14-1-TCRD_S51_L001_R1.txt', 16),\n",
       "  ('HD_VDJTOOLS_.2-7-TCRD_S27_L001_R1.txt', 12209),\n",
       "  ('HD_VDJTOOLS_.2-6-TCRD_S26_L001_R1.txt', 234),\n",
       "  ('HD_VDJTOOLS_.3-1-TCRD_S29_L001_R1.txt', 25)],\n",
       " 566: [('HD_VDJTOOLS_.3-1-TCRD_S29_L001_R1.txt', 128)],\n",
       " 567: [('FU_CopyOfVDJTOOLS_.1120_FU-d_S52_L001_R1.txt', 311),\n",
       "  ('FU_CopyOfVDJTOOLS_.1168_FU-d_S73_L001_R2.txt', 17),\n",
       "  ('FU_CopyOfVDJTOOLS_.1149_FU-d_S57_L001_R1.txt', 189),\n",
       "  ('FU_CopyOfVDJTOOLS_.1146_FU-d_S95_L001_R2.txt', 41),\n",
       "  ('FU_CopyOfVDJTOOLS_.1106_FU-d_S39_L001_R1.txt', 12),\n",
       "  ('FU_CopyOfVDJTOOLS_.1152_FU-d_S94_L001_R1.txt', 45),\n",
       "  ('BL_CopyOfVDJTOOLS_.1120_BL-d_S56_L001_R1.txt', 164),\n",
       "  ('BL_CopyOfVDJTOOLS_.1149_BL-d_S68_L001_R1.txt', 501),\n",
       "  ('BL_CopyOfVDJTOOLS_.1153_BL-d_S69_L001_R1.txt', 64),\n",
       "  ('BL_CopyOfVDJTOOLS_.1160_BL-d_S41_L001_R1.txt', 156),\n",
       "  ('BL_CopyOfVDJTOOLS_.1112_BL-d_S66_L001_R1.txt', 45),\n",
       "  ('BL_CopyOfVDJTOOLS_.1008_BL-d_S70_L001_R1.txt', 33),\n",
       "  ('BL_CopyOfVDJTOOLS_.1168_BL-d_S96_L001_R2.txt', 37)],\n",
       " 568: [('BL_CopyOfVDJTOOLS_.1168_BL-d_S96_L001_R2.txt', 5)],\n",
       " 569: [('FU_CopyOfVDJTOOLS_.1168_FU-d_S73_L001_R2.txt', 1)],\n",
       " 570: [('BL_CopyOfVDJTOOLS_.1121_BL-d_S91_L001_R1.txt', 24)],\n",
       " 571: [('BL_VDJTOOLS_.1143_BL_9-3-TCRD_S43_L001_R1.txt', 84)],\n",
       " 572: [('FU_VDJTOOLS_.1143_FU_9-4-TCRD_S44_L001_R1.txt', 345),\n",
       "  ('BL_VDJTOOLS_.1143_BL_9-3-TCRD_S43_L001_R1.txt', 74)],\n",
       " 573: [('FU_CopyOfVDJTOOLS_.1086_FU-d_S50_L001_R1.txt', 74)],\n",
       " 574: [('FU_CopyOfVDJTOOLS_.1168_FU-d_S73_L001_R2.txt', 1)],\n",
       " 575: [('FU_CopyOfVDJTOOLS_.1168_FU-d_S73_L001_R2.txt', 1)],\n",
       " 576: [('FU_CopyOfVDJTOOLS_.1082_2714_SA85_S85_L001_R1.txt', 280)],\n",
       " 577: [('HD_VDJTOOLS_.1-6-TCRD_S17_L001_R1.txt', 142)],\n",
       " 578: [('FU_CopyOfVDJTOOLS_.1149_FU-d_S57_L001_R1.txt', 17),\n",
       "  ('FU_CopyOfVDJTOOLS_.1145_FU-d_S53_L001_R1.txt', 63),\n",
       "  ('FU_CopyOfVDJTOOLS_.1146_FU-d_S95_L001_R2.txt', 7),\n",
       "  ('BL_CopyOfVDJTOOLS_.1120_BL-d_S56_L001_R1.txt', 26),\n",
       "  ('BL_CopyOfVDJTOOLS_.1008_BL-d_S70_L001_R1.txt', 4)],\n",
       " 579: [('HD_VDJTOOLS_.2-1-TCRD_S21_L001_R1.txt', 19)],\n",
       " 580: [('HD_VDJTOOLS_.2-1-TCRD_S21_L001_R1.txt', 10)],\n",
       " 581: [('HD_VDJTOOLS_.14-1-TCRD_S51_L001_R1.txt', 14)],\n",
       " 582: [('BL_CopyOfVDJTOOLS_.1072_2671_SA88_S88_L001_R1.txt', 150)],\n",
       " 583: [('HD_VDJTOOLS_.14-3-TCRD_S53_L001_R1.txt', 14)],\n",
       " 584: [('FU_CopyOfVDJTOOLS_.1121_FU-d_S88_L001_R1.txt', 30)],\n",
       " 585: [('FU_CopyOfVDJTOOLS_.1120_FU-d_S52_L001_R1.txt', 145),\n",
       "  ('FU_CopyOfVDJTOOLS_.1168_FU-d_S73_L001_R2.txt', 7),\n",
       "  ('FU_CopyOfVDJTOOLS_.1149_FU-d_S57_L001_R1.txt', 73),\n",
       "  ('FU_CopyOfVDJTOOLS_.1146_FU-d_S95_L001_R2.txt', 18),\n",
       "  ('FU_CopyOfVDJTOOLS_.1084_FU-d_S71_L001_R1.txt', 54),\n",
       "  ('FU_CopyOfVDJTOOLS_.1152_FU-d_S94_L001_R1.txt', 31),\n",
       "  ('BL_CopyOfVDJTOOLS_.1120_BL-d_S56_L001_R1.txt', 117),\n",
       "  ('BL_CopyOfVDJTOOLS_.1149_BL-d_S68_L001_R1.txt', 196),\n",
       "  ('BL_CopyOfVDJTOOLS_.1153_BL-d_S69_L001_R1.txt', 91),\n",
       "  ('BL_CopyOfVDJTOOLS_.1112_BL-d_S66_L001_R1.txt', 39),\n",
       "  ('BL_CopyOfVDJTOOLS_.1008_BL-d_S70_L001_R1.txt', 62),\n",
       "  ('BL_CopyOfVDJTOOLS_.1168_BL-d_S96_L001_R2.txt', 9)],\n",
       " 586: [('HD_VDJTOOLS_.1ctrl-TCRD_S20_L001_R1.txt', 13)],\n",
       " 587: [('HD_VDJTOOLS_.1-2-TCRD_S13_L001_R1.txt', 17)],\n",
       " 588: [('BL_CopyOfVDJTOOLS_.1049_2625_SA67_S67_L001_R1.txt', 42)],\n",
       " 589: [('HD_VDJTOOLS_.1ctrl-TCRD_S20_L001_R1.txt', 77)],\n",
       " 590: [('FU_CopyOfVDJTOOLS_.1146_FU-d_S95_L001_R2.txt', 5)],\n",
       " 591: [('BL_CopyOfVDJTOOLS_.1071_2668_SA73_S73_L001_R1.txt', 37)],\n",
       " 592: [('HD_VDJTOOLS_.3-7-TCRD_S34_L001_R1.txt', 70)],\n",
       " 593: [('BL_CopyOfVDJTOOLS_.1082_2697_SA92_S92_L001_R1.txt', 750)],\n",
       " 594: [('FU_CopyOfVDJTOOLS_.1168_FU-d_S73_L001_R2.txt', 2)],\n",
       " 595: [('HD_VDJTOOLS_.1-2-TCRD_S13_L001_R1.txt', 27)],\n",
       " 596: [('HD_VDJTOOLS_.14-2-TCRD_S52_L001_R1.txt', 11)],\n",
       " 597: [('HD_VDJTOOLS_.1-7-TCRD_S18_L001_R1.txt', 169)],\n",
       " 598: [('HD_VDJTOOLS_.1-5-TCRD_S16_L001_R1.txt', 48)],\n",
       " 599: [('BL_VDJTOOLS_.1189_BL_TAA-7-5-TCRD_S70_L001_R1.txt', 439)],\n",
       " 600: [('BL_CopyOfVDJTOOLS_.1086_BL-d_S54_L001_R1.txt', 12)],\n",
       " 601: [('HD_VDJTOOLS_.3-3-TCRD_S31_L001_R1.txt', 27)],\n",
       " 602: [('HD_VDJTOOLS_.3-8-TCRD_S35_L001_R1.txt', 123)],\n",
       " 603: [('HD_VDJTOOLS_.1ctrl-TCRD_S20_L001_R1.txt', 55)],\n",
       " 604: [('BL_CopyOfVDJTOOLS_.1146_BL_TCRD_S5_R1.txt', 7)],\n",
       " 605: [('BL_CopyOfVDJTOOLS_.1021_2576_SA85_S85_L001_R1.txt', 83)],\n",
       " 606: [('FU_CopyOfVDJTOOLS_.1014_2639_SA66_S66_L001_R1.txt', 10)],\n",
       " 607: [('FU_CopyOfVDJTOOLS_.1120_FU-d_S52_L001_R1.txt', 8)],\n",
       " 608: [('FU_VDJTOOLS_.1003_FU_4-2-TCRD_S37_L001_R1.txt', 16)],\n",
       " 609: [('HD_VDJTOOLS_.1-7-TCRD_S18_L001_R1.txt', 12)],\n",
       " 610: [('HD_VDJTOOLS_.1-7-TCRD_S18_L001_R1.txt', 16)],\n",
       " 611: [('FU_VDJTOOLS_.3051_FU_17-4-TCRD_S60_L001_R1.txt', 31)],\n",
       " 612: [('HD_VDJTOOLS_.2-5-TCRD_S25_L001_R1.txt', 9)],\n",
       " 613: [('FU_CopyOfVDJTOOLS_.1072_2692_SA84_S84_L001_R1.txt', 73)],\n",
       " 614: [('BL_CopyOfVDJTOOLS_.1049_2625_SA67_S67_L001_R1.txt', 15)],\n",
       " 615: [('BL_CopyOfVDJTOOLS_.1095_2718_SA95_S95_L001_R1.txt', 179)],\n",
       " 616: [('HD_VDJTOOLS_.3-7-TCRD_S34_L001_R1.txt', 192)],\n",
       " 617: [('FU_CopyOfVDJTOOLS_.1145_FU-d_S53_L001_R1.txt', 12)],\n",
       " 618: [('HD_VDJTOOLS_.2-2-TCRD_S22_L001_R1.txt', 24)],\n",
       " 619: [('FU_VDJTOOLS_.1189_FU_TAA-7-6-TCRD_S71_L001_R1.txt', 1160),\n",
       "  ('BL_VDJTOOLS_.1189_BL_TAA-7-5-TCRD_S70_L001_R1.txt', 280)],\n",
       " 620: [('BL_VDJTOOLS_.1210_BL_18-3-TCRD_S65_L001_R1.txt', 5619)],\n",
       " 621: [('BL_CopyOfVDJTOOLS_.1063_2650_SA72_S72_L001_R1.txt', 2)],\n",
       " 622: [('BL_CopyOfVDJTOOLS_.1122_BL_TCRD_S2_R1.txt', 24)],\n",
       " 623: [('FU_VDJTOOLS_.3020_FU_12-4-TCRD_S50_L001_R1.txt', 976),\n",
       "  ('BL_VDJTOOLS_.3020_BL_12-3-TCRD_S49_L001_R1.txt', 1077)],\n",
       " 624: [('HD_VDJTOOLS_.3-7-TCRD_S34_L001_R1.txt', 60)],\n",
       " 625: [('HD_VDJTOOLS_.14-3-TCRD_S53_L001_R1.txt', 81)],\n",
       " 626: [('BL_CopyOfVDJTOOLS_.1054_2630_SA69_S69_L001_R1.txt', 133)],\n",
       " 627: [('FU_CopyOfVDJTOOLS_.1152_FU-d_S94_L001_R1.txt', 203),\n",
       "  ('BL_CopyOfVDJTOOLS_.1152_BL_TCRD_S6_R1.txt', 3431)],\n",
       " 628: [('BL_CopyOfVDJTOOLS_.1072_2671_SA88_S88_L001_R1.txt', 50)],\n",
       " 629: [('HD_VDJTOOLS_.14-1-TCRD_S51_L001_R1.txt', 10)],\n",
       " 630: [('BL_CopyOfVDJTOOLS_.1080_2686_SA91_S91_L001_R1.txt', 39)],\n",
       " 631: [('BL_CopyOfVDJTOOLS_.1153_BL-d_S69_L001_R1.txt', 11)],\n",
       " 632: [('HD_VDJTOOLS_.1-3-TCRD_S14_L001_R1.txt', 12)],\n",
       " 633: [('HD_VDJTOOLS_.2-1-TCRD_S21_L001_R1.txt', 22)],\n",
       " 634: [('BL_VDJTOOLS_.1003_BL_4-1-TCRD_S36_L001_R1.txt', 11)],\n",
       " 635: [('BL_CopyOfVDJTOOLS_.1021_2576_SA85_S85_L001_R1.txt', 45)],\n",
       " 636: [('HD_VDJTOOLS_.1-3-TCRD_S14_L001_R1.txt', 79)],\n",
       " 637: [('HD_VDJTOOLS_.14-5-TCRD_S55_L001_R1.txt', 832)],\n",
       " 638: [('BL_CopyOfVDJTOOLS_.1168_BL-d_S96_L001_R2.txt', 4)],\n",
       " 639: [('BL_CopyOfVDJTOOLS_.1145_BL-d_S67_L001_R1.txt', 6)],\n",
       " 640: [('BL_CopyOfVDJTOOLS_.1029_2586_SA88_S88_L001_R1.txt', 9)],\n",
       " 641: [('HD_VDJTOOLS_.2-3-TCRD_S23_L001_R1.txt', 259)],\n",
       " 642: [('FU_CopyOfVDJTOOLS_.1145_FU-d_S53_L001_R1.txt', 10)],\n",
       " 643: [('HD_VDJTOOLS_.2-1-TCRD_S21_L001_R1.txt', 14)],\n",
       " 644: [('BL_CopyOfVDJTOOLS_.1072_2671_SA88_S88_L001_R1.txt', 451)],\n",
       " 645: [('BL_CopyOfVDJTOOLS_.1151_BL-d_S40_L001_R1.txt', 37)],\n",
       " 646: [('HD_VDJTOOLS_.1-7-TCRD_S18_L001_R1.txt', 11)],\n",
       " 647: [('FU_VDJTOOLS_.1143_FU_9-4-TCRD_S44_L001_R1.txt', 52)],\n",
       " 648: [('HD_VDJTOOLS_.2-3-TCRD_S23_L001_R1.txt', 195)],\n",
       " 649: [('FU_CopyOfVDJTOOLS_.1122_FU-d_S84_L001_R1.txt', 267)],\n",
       " 650: [('BL_CopyOfVDJTOOLS_.1122_BL_TCRD_S2_R1.txt', 32)],\n",
       " 651: [('BL_CopyOfVDJTOOLS_.1160_BL-d_S41_L001_R1.txt', 39)],\n",
       " 652: [('BL_VDJTOOLS_.1004_BL_4-3-TCRD_S38_L001_R1.txt', 128)],\n",
       " 653: [('HD_VDJTOOLS_.2-1-TCRD_S21_L001_R1.txt', 40)],\n",
       " 654: [('HD_VDJTOOLS_.1ctrl-TCRD_S20_L001_R1.txt', 10)],\n",
       " 655: [('FU_VDJTOOLS_.1195_FU_18-8-TCRD_S69_L001_R1.txt', 150),\n",
       "  ('BL_VDJTOOLS_.1195_BL_18-7-TCRD_S67_L001_R1.txt', 77)],\n",
       " 656: [('FU_CopyOfVDJTOOLS_.1039_2644_SA70_S70_L001_R1.txt', 1500),\n",
       "  ('BL_CopyOfVDJTOOLS_.1039_2604_SA65_S65_L001_R1.txt', 3864)],\n",
       " 657: [('FU_CopyOfVDJTOOLS_.1015_2588_SA95_S95_L001_R1.txt', 2),\n",
       "  ('BL_CopyOfVDJTOOLS_.1039_2604_SA65_S65_L001_R1.txt', 425)],\n",
       " 658: [('HD_VDJTOOLS_.2-3-TCRD_S23_L001_R1.txt', 203)],\n",
       " 659: [('HD_VDJTOOLS_.2-1-TCRD_S21_L001_R1.txt', 37)],\n",
       " 660: [('BL_CopyOfVDJTOOLS_.1122_BL_TCRD_S2_R1.txt', 45)],\n",
       " 661: [('BL_CopyOfVDJTOOLS_.1084_BL_TCRD_S1_R1.txt', 190)],\n",
       " 662: [('HD_VDJTOOLS_.14-2-TCRD_S52_L001_R1.txt', 25)],\n",
       " 663: [('BL_CopyOfVDJTOOLS_.1031_2592_SA90_S90_L001_R1.txt', 23)],\n",
       " 664: [('BL_VDJTOOLS_.1210_BL_18-3-TCRD_S65_L001_R1.txt', 38)],\n",
       " 665: [('HD_VDJTOOLS_.1-7-TCRD_S18_L001_R1.txt', 8)],\n",
       " 666: [('BL_CopyOfVDJTOOLS_.1152_BL_TCRD_S6_R1.txt', 19)],\n",
       " 667: [('BL_CopyOfVDJTOOLS_.1021_2576_SA85_S85_L001_R1.txt', 57)],\n",
       " 668: [('BL_VDJTOOLS_.1003_BL_4-1-TCRD_S36_L001_R1.txt', 100)],\n",
       " 669: [('HD_VDJTOOLS_.1-2-TCRD_S13_L001_R1.txt', 15)],\n",
       " 670: [('FU_CopyOfVDJTOOLS_.1124_FU_TCRD_S4_R1.txt', 101)],\n",
       " 671: [('HD_VDJTOOLS_.14-2-TCRD_S52_L001_R1.txt', 81)],\n",
       " 672: [('FU_CopyOfVDJTOOLS_.1084_FU-d_S71_L001_R1.txt', 2)],\n",
       " 673: [('BL_CopyOfVDJTOOLS_.1121_BL-d_S91_L001_R1.txt', 40)],\n",
       " 674: [('HD_VDJTOOLS_.1-2-TCRD_S13_L001_R1.txt', 24)],\n",
       " 675: [('BL_CopyOfVDJTOOLS_.1072_2671_SA88_S88_L001_R1.txt', 68)],\n",
       " 676: [('BL_CopyOfVDJTOOLS_.1021_2576_SA85_S85_L001_R1.txt', 17)],\n",
       " 677: [('HD_VDJTOOLS_.2-1-TCRD_S21_L001_R1.txt', 35),\n",
       "  ('HD_VDJTOOLS_.2-6-TCRD_S26_L001_R1.txt', 1337),\n",
       "  ('HD_VDJTOOLS_.1-5-TCRD_S16_L001_R1.txt', 123)],\n",
       " 678: [('BL_CopyOfVDJTOOLS_.1168_BL-d_S96_L001_R2.txt', 4)],\n",
       " 679: [('HD_VDJTOOLS_.1-2-TCRD_S13_L001_R1.txt', 3804)],\n",
       " 680: [('HD_VDJTOOLS_.1ctrl-TCRD_S20_L001_R1.txt', 132)],\n",
       " 681: [('HD_VDJTOOLS_.1-3-TCRD_S14_L001_R1.txt', 8)],\n",
       " 682: [('BL_CopyOfVDJTOOLS_.1021_2576_SA85_S85_L001_R1.txt', 48)],\n",
       " 683: [('FU_CopyOfVDJTOOLS_.1124_FU_TCRD_S4_R1.txt', 251),\n",
       "  ('BL_CopyOfVDJTOOLS_.1146_BL_TCRD_S5_R1.txt', 45),\n",
       "  ('BL_CopyOfVDJTOOLS_.1122_BL_TCRD_S2_R1.txt', 116)],\n",
       " 684: [('HD_VDJTOOLS_.1ctrl-TCRD_S20_L001_R1.txt', 43)],\n",
       " 685: [('BL_CopyOfVDJTOOLS_.1008_BL-d_S70_L001_R1.txt', 8)],\n",
       " 686: [('FU_CopyOfVDJTOOLS_.1120_FU-d_S52_L001_R1.txt', 46),\n",
       "  ('FU_CopyOfVDJTOOLS_.1149_FU-d_S57_L001_R1.txt', 18),\n",
       "  ('FU_CopyOfVDJTOOLS_.1146_FU-d_S95_L001_R2.txt', 20),\n",
       "  ('FU_CopyOfVDJTOOLS_.1106_FU-d_S39_L001_R1.txt', 272),\n",
       "  ('FU_CopyOfVDJTOOLS_.1008_FU-d_S38_L001_R1.txt', 396),\n",
       "  ('FU_CopyOfVDJTOOLS_.1097_FU-d_S37_L001_R1.txt', 39),\n",
       "  ('BL_CopyOfVDJTOOLS_.1151_BL-d_S40_L001_R1.txt', 228),\n",
       "  ('BL_CopyOfVDJTOOLS_.1120_BL-d_S56_L001_R1.txt', 35),\n",
       "  ('BL_CopyOfVDJTOOLS_.1091_BL-d_S35_L001_R1.txt', 32),\n",
       "  ('BL_CopyOfVDJTOOLS_.1149_BL-d_S68_L001_R1.txt', 67),\n",
       "  ('BL_CopyOfVDJTOOLS_.1153_BL-d_S69_L001_R1.txt', 22),\n",
       "  ('BL_CopyOfVDJTOOLS_.1097_BL-d_S36_L001_R1.txt', 213),\n",
       "  ('BL_CopyOfVDJTOOLS_.1160_BL-d_S41_L001_R1.txt', 97),\n",
       "  ('BL_CopyOfVDJTOOLS_.1112_BL-d_S66_L001_R1.txt', 12),\n",
       "  ('BL_CopyOfVDJTOOLS_.1168_BL-d_S96_L001_R2.txt', 4)],\n",
       " 687: [('HD_VDJTOOLS_.1-7-TCRD_S18_L001_R1.txt', 31)],\n",
       " 688: [('HD_VDJTOOLS_.1-2-TCRD_S13_L001_R1.txt', 32)],\n",
       " 689: [('HD_VDJTOOLS_.2-1-TCRD_S21_L001_R1.txt', 16),\n",
       "  ('BL_VDJTOOLS_.1210_BL_18-3-TCRD_S65_L001_R1.txt', 177)],\n",
       " 690: [('HD_VDJTOOLS_.14-2-TCRD_S52_L001_R1.txt', 10)],\n",
       " 691: [('BL_CopyOfVDJTOOLS_.1021_2576_SA85_S85_L001_R1.txt', 537)],\n",
       " 692: [('FU_CopyOfVDJTOOLS_.1153_FU_TCRD_S7_R1.txt', 93),\n",
       "  ('BL_CopyOfVDJTOOLS_.1122_BL_TCRD_S2_R1.txt', 111)],\n",
       " 693: [('HD_VDJTOOLS_.14-5-TCRD_S55_L001_R1.txt', 46)],\n",
       " 694: [('HD_VDJTOOLS_.1-6-TCRD_S17_L001_R1.txt', 37)],\n",
       " 695: [('FU_VDJTOOLS_.3001_FU_11-6-TCRD_S48_L001_R1.txt', 175)],\n",
       " 696: [('HD_VDJTOOLS_.1-7-TCRD_S18_L001_R1.txt', 35)],\n",
       " 697: [('HD_VDJTOOLS_.1-5-TCRD_S16_L001_R1.txt', 67)],\n",
       " 698: [('HD_VDJTOOLS_.2-1-TCRD_S21_L001_R1.txt', 49)],\n",
       " 699: [('FU_CopyOfVDJTOOLS_.1152_FU-d_S94_L001_R1.txt', 13)],\n",
       " 700: [('HD_VDJTOOLS_.1-8-TCRD_S19_L001_R1.txt', 61)],\n",
       " 701: [('HD_VDJTOOLS_.3-8-TCRD_S35_L001_R1.txt', 24)],\n",
       " 702: [('BL_CopyOfVDJTOOLS_.1146_BL_TCRD_S5_R1.txt', 42)],\n",
       " 703: [('FU_VDJTOOLS_.3051_FU_17-4-TCRD_S60_L001_R1.txt', 916)],\n",
       " 704: [('BL_CopyOfVDJTOOLS_.1021_2576_SA85_S85_L001_R1.txt', 157),\n",
       "  ('BL_CopyOfVDJTOOLS_.1051_2627_SA68_S68_L001_R1.txt', 369)],\n",
       " 705: [('HD_VDJTOOLS_.1-2-TCRD_S13_L001_R1.txt', 21)],\n",
       " 706: [('HD_VDJTOOLS_.1-5-TCRD_S16_L001_R1.txt', 47)],\n",
       " 707: [('HD_VDJTOOLS_.1-6-TCRD_S17_L001_R1.txt', 31)],\n",
       " 708: [('HD_VDJTOOLS_.14-4-TCRD_S54_L001_R1.txt', 1303)],\n",
       " 709: [('FU_CopyOfVDJTOOLS_.1152_FU-d_S94_L001_R1.txt', 43),\n",
       "  ('BL_CopyOfVDJTOOLS_.1152_BL_TCRD_S6_R1.txt', 784)],\n",
       " 710: [('BL_CopyOfVDJTOOLS_.1152_BL_TCRD_S6_R1.txt', 36)],\n",
       " 711: [('BL_CopyOfVDJTOOLS_.1004_2554_SA79_S79_L001_R1.txt', 670)],\n",
       " 712: [('BL_CopyOfVDJTOOLS_.1146_BL_TCRD_S5_R1.txt', 23)],\n",
       " 713: [('BL_CopyOfVDJTOOLS_.1054_2630_SA69_S69_L001_R1.txt', 144)],\n",
       " 714: [('FU_CopyOfVDJTOOLS_.1071_2691_SA83_S83_L001_R1.txt', 194),\n",
       "  ('FU_CopyOfVDJTOOLS_.1090_2732_SA87_S87_L001_R1.txt', 2),\n",
       "  ('FU_CopyOfVDJTOOLS_.1030_2624_SA67_S67_L001_R1.txt', 67),\n",
       "  ('BL_CopyOfVDJTOOLS_.1003_2553_SA78_S78_L001_R1.txt', 342)],\n",
       " 715: [('HD_VDJTOOLS_.2-4-TCRD_S24_L001_R1.txt', 53)],\n",
       " 716: [('FU_VDJTOOLS_.3001_FU_11-6-TCRD_S48_L001_R1.txt', 112)],\n",
       " 717: [('BL_CopyOfVDJTOOLS_.1049_2625_SA67_S67_L001_R1.txt', 18)],\n",
       " 718: [('HD_VDJTOOLS_.14-2-TCRD_S52_L001_R1.txt', 37)],\n",
       " 719: [('HD_VDJTOOLS_.1-8-TCRD_S19_L001_R1.txt', 41)],\n",
       " 720: [('BL_VDJTOOLS_.1210_BL_18-3-TCRD_S65_L001_R1.txt', 23)],\n",
       " 721: [('FU_CopyOfVDJTOOLS_.1072_2692_SA84_S84_L001_R1.txt', 117)],\n",
       " 722: [('HD_VDJTOOLS_.3-4-TCRD_S32_L001_R1.txt', 42)],\n",
       " 723: [('HD_VDJTOOLS_.1-4-TCRD_S15_L001_R1.txt', 46)],\n",
       " 724: [('HD_VDJTOOLS_.2-3-TCRD_S23_L001_R1.txt', 19)],\n",
       " 725: [('BL_VDJTOOLS_.1212_BL_18-5-TCRD_S66_L001_R1.txt', 209)],\n",
       " 726: [('BL_CopyOfVDJTOOLS_.1049_2625_SA67_S67_L001_R1.txt', 66)],\n",
       " 727: [('BL_VDJTOOLS_.1003_BL_4-1-TCRD_S36_L001_R1.txt', 120)],\n",
       " 728: [('HD_VDJTOOLS_.1-8-TCRD_S19_L001_R1.txt', 13)],\n",
       " 729: [('HD_VDJTOOLS_.2-1-TCRD_S21_L001_R1.txt', 34)],\n",
       " 730: [('FU_VDJTOOLS_.1169_FU_10-6-TCRD_S47_L001_R1.txt', 1315),\n",
       "  ('BL_VDJTOOLS_.1169_BL_10-5-TCRD_S46_L001_R1.txt', 1539),\n",
       "  ('BL_VDJTOOLS_.3020_BL_12-3-TCRD_S49_L001_R1.txt', 24)],\n",
       " 731: [('BL_VDJTOOLS_.1190_BL_TAA-7-7-TCRD_S72_L001_R1.txt', 1660)],\n",
       " 732: [('FU_CopyOfVDJTOOLS_.1034_2642_SA69_S69_L001_R1.txt', 102)],\n",
       " 733: [('BL_VDJTOOLS_.3020_BL_12-3-TCRD_S49_L001_R1.txt', 55)],\n",
       " 734: [('HD_VDJTOOLS_.1-2-TCRD_S13_L001_R1.txt', 18)],\n",
       " 735: [('BL_VDJTOOLS_.1169_BL_10-5-TCRD_S46_L001_R1.txt', 22)],\n",
       " 736: [('FU_VDJTOOLS_.3001_FU_11-6-TCRD_S48_L001_R1.txt', 108),\n",
       "  ('FU_VDJTOOLS_.1143_FU_9-4-TCRD_S44_L001_R1.txt', 14),\n",
       "  ('FU_VDJTOOLS_.1169_FU_10-6-TCRD_S47_L001_R1.txt', 35353),\n",
       "  ('FU_VDJTOOLS_.1004_FU_4-4-TCRD_S39_L001_R1.txt', 9),\n",
       "  ('FU_VDJTOOLS_.3020_FU_12-4-TCRD_S50_L001_R1.txt', 179),\n",
       "  ('BL_VDJTOOLS_.1169_BL_10-5-TCRD_S46_L001_R1.txt', 28095),\n",
       "  ('BL_VDJTOOLS_.3020_BL_12-3-TCRD_S49_L001_R1.txt', 788)],\n",
       " 737: [('BL_CopyOfVDJTOOLS_.1168_BL-d_S96_L001_R2.txt', 8)],\n",
       " 738: [('BL_CopyOfVDJTOOLS_.1168_BL-d_S96_L001_R2.txt', 7)],\n",
       " 739: [('BL_CopyOfVDJTOOLS_.1079_2685_SA90_S90_L001_R1.txt', 102)],\n",
       " 740: [('FU_CopyOfVDJTOOLS_.1034_2642_SA69_S69_L001_R1.txt', 252)],\n",
       " 741: [('FU_CopyOfVDJTOOLS_.1152_FU-d_S94_L001_R1.txt', 31),\n",
       "  ('BL_CopyOfVDJTOOLS_.1152_BL_TCRD_S6_R1.txt', 420)],\n",
       " 742: [('BL_VDJTOOLS_.1185_BL_16-1-TCRD_S57_L001_R1.txt', 1723),\n",
       "  ('BL_VDJTOOLS_.3051_BL_17-3-TCRD_S59_L001_R1.txt', 7)],\n",
       " 743: [('BL_CopyOfVDJTOOLS_.1153_BL-d_S69_L001_R1.txt', 11)],\n",
       " 744: [('HD_VDJTOOLS_.1-4-TCRD_S15_L001_R1.txt', 29)],\n",
       " 745: [('HD_VDJTOOLS_.14-2-TCRD_S52_L001_R1.txt', 12)],\n",
       " 746: [('BL_CopyOfVDJTOOLS_.1003_2553_SA78_S78_L001_R1.txt', 87),\n",
       "  ('BL_CopyOfVDJTOOLS_.1079_2685_SA90_S90_L001_R1.txt', 161)],\n",
       " 747: [('FU_CopyOfVDJTOOLS_.1124_FU_TCRD_S4_R1.txt', 41)],\n",
       " 748: [('FU_CopyOfVDJTOOLS_.1149_FU-d_S57_L001_R1.txt', 20)],\n",
       " 749: [('BL_CopyOfVDJTOOLS_.1029_2586_SA88_S88_L001_R1.txt', 373)],\n",
       " 750: [('BL_CopyOfVDJTOOLS_.1008_BL-d_S70_L001_R1.txt', 4)],\n",
       " 751: [('FU_CopyOfVDJTOOLS_.1168_FU-d_S73_L001_R2.txt', 392),\n",
       "  ('FU_CopyOfVDJTOOLS_.1149_FU-d_S57_L001_R1.txt', 37100),\n",
       "  ('FU_CopyOfVDJTOOLS_.1146_FU-d_S95_L001_R2.txt', 1209),\n",
       "  ('FU_CopyOfVDJTOOLS_.1084_FU-d_S71_L001_R1.txt', 137),\n",
       "  ('FU_CopyOfVDJTOOLS_.1152_FU-d_S94_L001_R1.txt', 812),\n",
       "  ('BL_CopyOfVDJTOOLS_.1145_BL-d_S67_L001_R1.txt', 5639),\n",
       "  ('BL_CopyOfVDJTOOLS_.1120_BL-d_S56_L001_R1.txt', 11),\n",
       "  ('BL_CopyOfVDJTOOLS_.1149_BL-d_S68_L001_R1.txt', 459),\n",
       "  ('BL_CopyOfVDJTOOLS_.1153_BL-d_S69_L001_R1.txt', 4392),\n",
       "  ('BL_CopyOfVDJTOOLS_.1112_BL-d_S66_L001_R1.txt', 1229),\n",
       "  ('BL_CopyOfVDJTOOLS_.1008_BL-d_S70_L001_R1.txt', 685),\n",
       "  ('BL_CopyOfVDJTOOLS_.1168_BL-d_S96_L001_R2.txt', 269)],\n",
       " 752: [('FU_CopyOfVDJTOOLS_.1084_FU-d_S71_L001_R1.txt', 19)],\n",
       " 753: [('HD_VDJTOOLS_.1-7-TCRD_S18_L001_R1.txt', 9)],\n",
       " 754: [('HD_VDJTOOLS_.3-2-TCRD_S30_L001_R1.txt', 519),\n",
       "  ('HD_VDJTOOLS_.2-1-TCRD_S21_L001_R1.txt', 163),\n",
       "  ('HD_VDJTOOLS_.2-6-TCRD_S26_L001_R1.txt', 1638),\n",
       "  ('HD_VDJTOOLS_.1-5-TCRD_S16_L001_R1.txt', 229)],\n",
       " 755: [('FU_CopyOfVDJTOOLS_.1124_FU_TCRD_S4_R1.txt', 112)],\n",
       " 756: [('FU_CopyOfVDJTOOLS_.1153_FU_TCRD_S7_R1.txt', 61),\n",
       "  ('BL_CopyOfVDJTOOLS_.1152_BL_TCRD_S6_R1.txt', 64),\n",
       "  ('BL_CopyOfVDJTOOLS_.1146_BL_TCRD_S5_R1.txt', 29)],\n",
       " 757: [('HD_VDJTOOLS_.1-7-TCRD_S18_L001_R1.txt', 23)],\n",
       " 758: [('BL_CopyOfVDJTOOLS_.1112_BL-d_S66_L001_R1.txt', 3)],\n",
       " 759: [('FU_VDJTOOLS_.3001_FU_11-6-TCRD_S48_L001_R1.txt', 64)],\n",
       " 760: [('HD_VDJTOOLS_.1ctrl-TCRD_S20_L001_R1.txt', 54)],\n",
       " 761: [('HD_VDJTOOLS_.2-7-TCRD_S27_L001_R1.txt', 9)],\n",
       " 762: [('HD_VDJTOOLS_.1-5-TCRD_S16_L001_R1.txt', 153)],\n",
       " 763: [('HD_VDJTOOLS_.1-6-TCRD_S17_L001_R1.txt', 11)],\n",
       " 764: [('BL_VDJTOOLS_.1210_BL_18-3-TCRD_S65_L001_R1.txt', 54)],\n",
       " 765: [('BL_VDJTOOLS_.1004_BL_4-3-TCRD_S38_L001_R1.txt', 161)],\n",
       " 766: [('HD_VDJTOOLS_.3-5-TCRD_S33_L001_R1.txt', 7)],\n",
       " 767: [('BL_CopyOfVDJTOOLS_.1023_2578_SA86_S86_L001_R1.txt', 285)],\n",
       " 768: [('BL_CopyOfVDJTOOLS_.1146_BL_TCRD_S5_R1.txt', 9)],\n",
       " 769: [('BL_CopyOfVDJTOOLS_.1031_2592_SA90_S90_L001_R1.txt', 13)],\n",
       " 770: [('BL_CopyOfVDJTOOLS_.1146_BL_TCRD_S5_R1.txt', 8)],\n",
       " 771: [('FU_VDJTOOLS_.1003_FU_4-2-TCRD_S37_L001_R1.txt', 143)],\n",
       " 772: [('BL_CopyOfVDJTOOLS_.1021_2576_SA85_S85_L001_R1.txt', 37)],\n",
       " 773: [('HD_VDJTOOLS_.1-2-TCRD_S13_L001_R1.txt', 275)],\n",
       " 774: [('HD_VDJTOOLS_.14-2-TCRD_S52_L001_R1.txt', 79)],\n",
       " 775: [('HD_VDJTOOLS_.14-1-TCRD_S51_L001_R1.txt', 89)],\n",
       " 776: [('BL_CopyOfVDJTOOLS_.1153_BL-d_S69_L001_R1.txt', 11),\n",
       "  ('BL_CopyOfVDJTOOLS_.1008_BL-d_S70_L001_R1.txt', 12)],\n",
       " 777: [('BL_CopyOfVDJTOOLS_.1112_BL-d_S66_L001_R1.txt', 11)],\n",
       " 778: [('FU_CopyOfVDJTOOLS_.1072_2692_SA84_S84_L001_R1.txt', 281),\n",
       "  ('BL_CopyOfVDJTOOLS_.1072_2671_SA88_S88_L001_R1.txt', 335)],\n",
       " 779: [('BL_VDJTOOLS_.1004_BL_4-3-TCRD_S38_L001_R1.txt', 249)],\n",
       " 780: [('HD_VDJTOOLS_.1-2-TCRD_S13_L001_R1.txt', 33)],\n",
       " 781: [('HD_VDJTOOLS_.2-2-TCRD_S22_L001_R1.txt', 17)],\n",
       " 782: [('HD_VDJTOOLS_.2-5-TCRD_S25_L001_R1.txt', 19)],\n",
       " 783: [('FU_CopyOfVDJTOOLS_.1039_2644_SA70_S70_L001_R1.txt', 398),\n",
       "  ('BL_CopyOfVDJTOOLS_.1039_2604_SA65_S65_L001_R1.txt', 465)],\n",
       " 784: [('BL_CopyOfVDJTOOLS_.1063_2650_SA72_S72_L001_R1.txt', 7)],\n",
       " 785: [('BL_CopyOfVDJTOOLS_.1055_2631_SA70_S70_L001_R1.txt', 12)],\n",
       " 786: [('HD_VDJTOOLS_.14-1-TCRD_S51_L001_R1.txt', 68)],\n",
       " 787: [('FU_CopyOfVDJTOOLS_.1120_FU-d_S52_L001_R1.txt', 88),\n",
       "  ('FU_CopyOfVDJTOOLS_.1168_FU-d_S73_L001_R2.txt', 8),\n",
       "  ('FU_CopyOfVDJTOOLS_.1149_FU-d_S57_L001_R1.txt', 51),\n",
       "  ('FU_CopyOfVDJTOOLS_.1146_FU-d_S95_L001_R2.txt', 29),\n",
       "  ('FU_CopyOfVDJTOOLS_.1106_FU-d_S39_L001_R1.txt', 282),\n",
       "  ('FU_CopyOfVDJTOOLS_.1008_FU-d_S38_L001_R1.txt', 353),\n",
       "  ('FU_CopyOfVDJTOOLS_.1084_FU-d_S71_L001_R1.txt', 9),\n",
       "  ('FU_CopyOfVDJTOOLS_.1097_FU-d_S37_L001_R1.txt', 23),\n",
       "  ('BL_CopyOfVDJTOOLS_.1151_BL-d_S40_L001_R1.txt', 71),\n",
       "  ('BL_CopyOfVDJTOOLS_.1120_BL-d_S56_L001_R1.txt', 66),\n",
       "  ('BL_CopyOfVDJTOOLS_.1091_BL-d_S35_L001_R1.txt', 22),\n",
       "  ('BL_CopyOfVDJTOOLS_.1149_BL-d_S68_L001_R1.txt', 140),\n",
       "  ('BL_CopyOfVDJTOOLS_.1097_BL-d_S36_L001_R1.txt', 233),\n",
       "  ('BL_CopyOfVDJTOOLS_.1160_BL-d_S41_L001_R1.txt', 365),\n",
       "  ('BL_CopyOfVDJTOOLS_.1112_BL-d_S66_L001_R1.txt', 10),\n",
       "  ('BL_CopyOfVDJTOOLS_.1008_BL-d_S70_L001_R1.txt', 6),\n",
       "  ('BL_CopyOfVDJTOOLS_.1168_BL-d_S96_L001_R2.txt', 5)],\n",
       " 788: [('HD_VDJTOOLS_.1-7-TCRD_S18_L001_R1.txt', 16)],\n",
       " 789: [('BL_CopyOfVDJTOOLS_.1049_2625_SA67_S67_L001_R1.txt', 10)],\n",
       " 790: [('HD_VDJTOOLS_.14-3-TCRD_S53_L001_R1.txt', 153)],\n",
       " 791: [('HD_VDJTOOLS_.2-3-TCRD_S23_L001_R1.txt', 18)],\n",
       " 792: [('FU_VDJTOOLS_.3051_FU_17-4-TCRD_S60_L001_R1.txt', 1183)],\n",
       " 793: [('BL_CopyOfVDJTOOLS_.1151_BL-d_S40_L001_R1.txt', 78)],\n",
       " 794: [('FU_VDJTOOLS_.1003_FU_4-2-TCRD_S37_L001_R1.txt', 242)],\n",
       " 795: [('BL_VDJTOOLS_.1003_BL_4-1-TCRD_S36_L001_R1.txt', 136)],\n",
       " 796: [('HD_VDJTOOLS_.14-2-TCRD_S52_L001_R1.txt', 10)],\n",
       " 797: [('HD_VDJTOOLS_.14-1-TCRD_S51_L001_R1.txt', 252)],\n",
       " 798: [('FU_CopyOfVDJTOOLS_.1112_FU-d_S51_L001_R1.txt', 17)],\n",
       " 799: [('BL_VDJTOOLS_.1190_BL_TAA-7-7-TCRD_S72_L001_R1.txt', 31)],\n",
       " 800: [('HD_VDJTOOLS_.1ctrl-TCRD_S20_L001_R1.txt', 776)],\n",
       " 801: [('HD_VDJTOOLS_.1-2-TCRD_S13_L001_R1.txt', 20)],\n",
       " 802: [('FU_CopyOfVDJTOOLS_.1146_FU-d_S95_L001_R2.txt', 3)],\n",
       " 803: [('FU_CopyOfVDJTOOLS_.1146_FU-d_S95_L001_R2.txt', 33),\n",
       "  ('FU_CopyOfVDJTOOLS_.1152_FU-d_S94_L001_R1.txt', 11),\n",
       "  ('HD_VDJTOOLS_.14-1-TCRD_S51_L001_R1.txt', 34),\n",
       "  ('BL_CopyOfVDJTOOLS_.1145_BL-d_S67_L001_R1.txt', 164),\n",
       "  ('BL_CopyOfVDJTOOLS_.1008_BL-d_S70_L001_R1.txt', 6),\n",
       "  ('BL_CopyOfVDJTOOLS_.1168_BL-d_S96_L001_R2.txt', 4)],\n",
       " 804: [('FU_CopyOfVDJTOOLS_.1106_FU-d_S39_L001_R1.txt', 359),\n",
       "  ('FU_CopyOfVDJTOOLS_.1097_FU-d_S37_L001_R1.txt', 21),\n",
       "  ('BL_CopyOfVDJTOOLS_.1120_BL-d_S56_L001_R1.txt', 18),\n",
       "  ('BL_CopyOfVDJTOOLS_.1091_BL-d_S35_L001_R1.txt', 39),\n",
       "  ('BL_CopyOfVDJTOOLS_.1097_BL-d_S36_L001_R1.txt', 199),\n",
       "  ('BL_CopyOfVDJTOOLS_.1160_BL-d_S41_L001_R1.txt', 152),\n",
       "  ('BL_CopyOfVDJTOOLS_.1112_BL-d_S66_L001_R1.txt', 12)],\n",
       " 805: [('HD_VDJTOOLS_.1-6-TCRD_S17_L001_R1.txt', 104)],\n",
       " 806: [('HD_VDJTOOLS_.1-8-TCRD_S19_L001_R1.txt', 22)],\n",
       " 807: [('HD_VDJTOOLS_.2-3-TCRD_S23_L001_R1.txt', 33)],\n",
       " 808: [('HD_VDJTOOLS_.14-3-TCRD_S53_L001_R1.txt', 193)],\n",
       " 809: [('FU_CopyOfVDJTOOLS_.1120_FU-d_S52_L001_R1.txt', 64),\n",
       "  ('FU_CopyOfVDJTOOLS_.1168_FU-d_S73_L001_R2.txt', 6),\n",
       "  ('FU_CopyOfVDJTOOLS_.1149_FU-d_S57_L001_R1.txt', 56),\n",
       "  ('FU_CopyOfVDJTOOLS_.1146_FU-d_S95_L001_R2.txt', 21),\n",
       "  ('FU_CopyOfVDJTOOLS_.1072_2692_SA84_S84_L001_R1.txt', 12),\n",
       "  ('FU_CopyOfVDJTOOLS_.1152_FU-d_S94_L001_R1.txt', 7),\n",
       "  ('BL_CopyOfVDJTOOLS_.1120_BL-d_S56_L001_R1.txt', 27),\n",
       "  ('BL_CopyOfVDJTOOLS_.1149_BL-d_S68_L001_R1.txt', 94),\n",
       "  ('BL_CopyOfVDJTOOLS_.1153_BL-d_S69_L001_R1.txt', 30),\n",
       "  ('BL_CopyOfVDJTOOLS_.1112_BL-d_S66_L001_R1.txt', 6),\n",
       "  ('BL_CopyOfVDJTOOLS_.1008_BL-d_S70_L001_R1.txt', 5)],\n",
       " 810: [('HD_VDJTOOLS_.14-2-TCRD_S52_L001_R1.txt', 12),\n",
       "  ('HD_VDJTOOLS_.1ctrl-TCRD_S20_L001_R1.txt', 93),\n",
       "  ('HD_VDJTOOLS_.1-2-TCRD_S13_L001_R1.txt', 19),\n",
       "  ('BL_CopyOfVDJTOOLS_.1097_BL-d_S36_L001_R1.txt', 11)],\n",
       " 811: [('FU_VDJTOOLS_.1004_FU_4-4-TCRD_S39_L001_R1.txt', 44)],\n",
       " 812: [('FU_CopyOfVDJTOOLS_.1010_2615_SA65_S65_L001_R1.txt', 10),\n",
       "  ('FU_CopyOfVDJTOOLS_.1023_2599_SA96_S96_L001_R1.txt', 333),\n",
       "  ('FU_CopyOfVDJTOOLS_.1030_2624_SA67_S67_L001_R1.txt', 100)],\n",
       " 813: [('BL_CopyOfVDJTOOLS_.1095_2718_SA95_S95_L001_R1.txt', 120)],\n",
       " 814: [('BL_CopyOfVDJTOOLS_.1090_2709_SA94_S94_L001_R1.txt', 168)],\n",
       " 815: [('HD_VDJTOOLS_.2-4-TCRD_S24_L001_R1.txt', 4036)],\n",
       " 816: [('BL_VDJTOOLS_.1136_BL_8-7-TCRD_S42_L001_R1.txt', 346)],\n",
       " 817: [('HD_VDJTOOLS_.1-2-TCRD_S13_L001_R1.txt', 60)],\n",
       " 818: [('BL_VDJTOOLS_.1210_BL_18-3-TCRD_S65_L001_R1.txt', 28)],\n",
       " 819: [('BL_VDJTOOLS_.1195_BL_18-7-TCRD_S67_L001_R1.txt', 10)],\n",
       " 820: [('BL_CopyOfVDJTOOLS_.1054_2630_SA69_S69_L001_R1.txt', 58)],\n",
       " 821: [('BL_CopyOfVDJTOOLS_.1003_2553_SA78_S78_L001_R1.txt', 10)],\n",
       " 822: [('FU_CopyOfVDJTOOLS_.1106_FU-d_S39_L001_R1.txt', 200),\n",
       "  ('FU_CopyOfVDJTOOLS_.1152_FU-d_S94_L001_R1.txt', 14),\n",
       "  ('FU_CopyOfVDJTOOLS_.1097_FU-d_S37_L001_R1.txt', 16),\n",
       "  ('BL_CopyOfVDJTOOLS_.1151_BL-d_S40_L001_R1.txt', 157),\n",
       "  ('BL_CopyOfVDJTOOLS_.1091_BL-d_S35_L001_R1.txt', 26),\n",
       "  ('BL_CopyOfVDJTOOLS_.1153_BL-d_S69_L001_R1.txt', 12),\n",
       "  ('BL_CopyOfVDJTOOLS_.1097_BL-d_S36_L001_R1.txt', 133),\n",
       "  ('BL_CopyOfVDJTOOLS_.1160_BL-d_S41_L001_R1.txt', 144)],\n",
       " 823: [('BL_CopyOfVDJTOOLS_.1008_BL-d_S70_L001_R1.txt', 8)],\n",
       " 824: [('FU_VDJTOOLS_.1231_FU_17-8-TCRD_S64_L001_R1.txt', 10),\n",
       "  ('FU_CopyOfVDJTOOLS_.1168_FU-d_S73_L001_R2.txt', 1),\n",
       "  ('FU_CopyOfVDJTOOLS_.1146_FU-d_S95_L001_R2.txt', 26),\n",
       "  ('FU_CopyOfVDJTOOLS_.1106_FU-d_S39_L001_R1.txt', 114),\n",
       "  ('FU_CopyOfVDJTOOLS_.1009_FU-d_S90_L001_R1.txt', 480),\n",
       "  ('FU_VDJTOOLS_.1195_FU_18-8-TCRD_S69_L001_R1.txt', 465),\n",
       "  ('FU_CopyOfVDJTOOLS_.1160_FU_TCRD_S8_R1.txt', 43),\n",
       "  ('HD_VDJTOOLS_.2-8-TCRD_S28_L001_R1.txt', 23051),\n",
       "  ('HD_VDJTOOLS_.2-1-TCRD_S21_L001_R1.txt', 179),\n",
       "  ('HD_VDJTOOLS_.14-2-TCRD_S52_L001_R1.txt', 47),\n",
       "  ('HD_VDJTOOLS_.14-4-TCRD_S54_L001_R1.txt', 7531),\n",
       "  ('HD_VDJTOOLS_.3-3-TCRD_S31_L001_R1.txt', 19),\n",
       "  ('BL_VDJTOOLS_.3061_BL_17-5-TCRD_S61_L001_R1.txt', 229),\n",
       "  ('BL_CopyOfVDJTOOLS_.1151_BL-d_S40_L001_R1.txt', 58),\n",
       "  ('BL_CopyOfVDJTOOLS_.1091_BL-d_S35_L001_R1.txt', 28),\n",
       "  ('BL_CopyOfVDJTOOLS_.1014_2566_SA84_S84_L001_R1.txt', 7),\n",
       "  ('BL_CopyOfVDJTOOLS_.1063_2650_SA72_S72_L001_R1.txt', 6),\n",
       "  ('BL_CopyOfVDJTOOLS_.1003_2553_SA78_S78_L001_R1.txt', 71),\n",
       "  ('BL_CopyOfVDJTOOLS_.1097_BL-d_S36_L001_R1.txt', 5),\n",
       "  ('BL_VDJTOOLS_.1003_BL_4-1-TCRD_S36_L001_R1.txt', 21),\n",
       "  ('BL_CopyOfVDJTOOLS_.1160_BL-d_S41_L001_R1.txt', 54),\n",
       "  ('BL_CopyOfVDJTOOLS_.1009_BL-d_S34_L001_R1.txt', 305),\n",
       "  ('BL_CopyOfVDJTOOLS_.1079_2685_SA90_S90_L001_R1.txt', 334),\n",
       "  ('BL_CopyOfVDJTOOLS_.1124_BL_TCRD_S3_R1.txt', 121),\n",
       "  ('BL_VDJTOOLS_.1195_BL_18-7-TCRD_S67_L001_R1.txt', 127)],\n",
       " 825: [('HD_VDJTOOLS_.1-4-TCRD_S15_L001_R1.txt', 271)],\n",
       " 826: [('BL_VDJTOOLS_.1004_BL_4-3-TCRD_S38_L001_R1.txt', 29),\n",
       "  ('BL_VDJTOOLS_.1217_BL_16-7-TCRD_S58_L001_R1.txt', 13)],\n",
       " 827: [('FU_CopyOfVDJTOOLS_.1152_FU-d_S94_L001_R1.txt', 7),\n",
       "  ('BL_CopyOfVDJTOOLS_.1152_BL_TCRD_S6_R1.txt', 59)],\n",
       " 828: [('BL_CopyOfVDJTOOLS_.1146_BL_TCRD_S5_R1.txt', 18)],\n",
       " 829: [('BL_CopyOfVDJTOOLS_.1160_BL-d_S41_L001_R1.txt', 65)],\n",
       " 830: [('BL_CopyOfVDJTOOLS_.1023_2578_SA86_S86_L001_R1.txt', 169)],\n",
       " 831: [('BL_CopyOfVDJTOOLS_.1054_2630_SA69_S69_L001_R1.txt', 58)],\n",
       " 832: [('HD_VDJTOOLS_.2-7-TCRD_S27_L001_R1.txt', 88)],\n",
       " 833: [('FU_CopyOfVDJTOOLS_.1071_2691_SA83_S83_L001_R1.txt', 256)],\n",
       " 834: [('HD_VDJTOOLS_.2-5-TCRD_S25_L001_R1.txt', 197)],\n",
       " 835: [('BL_CopyOfVDJTOOLS_.1055_2631_SA70_S70_L001_R1.txt', 27)],\n",
       " 836: [('HD_VDJTOOLS_.14-1-TCRD_S51_L001_R1.txt', 137)],\n",
       " 837: [('BL_VDJTOOLS_.1004_BL_4-3-TCRD_S38_L001_R1.txt', 81)],\n",
       " 838: [('FU_CopyOfVDJTOOLS_.1106_FU-d_S39_L001_R1.txt', 12)],\n",
       " 839: [('BL_CopyOfVDJTOOLS_.1146_BL_TCRD_S5_R1.txt', 52),\n",
       "  ('BL_CopyOfVDJTOOLS_.1122_BL_TCRD_S2_R1.txt', 87)],\n",
       " 840: [('BL_CopyOfVDJTOOLS_.1122_BL_TCRD_S2_R1.txt', 21)],\n",
       " 841: [('BL_CopyOfVDJTOOLS_.1168_BL-d_S96_L001_R2.txt', 6)],\n",
       " 842: [('BL_CopyOfVDJTOOLS_.1112_BL-d_S66_L001_R1.txt', 3)],\n",
       " 843: [('HD_VDJTOOLS_.1-7-TCRD_S18_L001_R1.txt', 62)],\n",
       " 844: [('FU_VDJTOOLS_.1169_FU_10-6-TCRD_S47_L001_R1.txt', 50),\n",
       "  ('BL_VDJTOOLS_.1169_BL_10-5-TCRD_S46_L001_R1.txt', 100)],\n",
       " 845: [('HD_VDJTOOLS_.14-2-TCRD_S52_L001_R1.txt', 25)],\n",
       " 846: [('HD_VDJTOOLS_.2-6-TCRD_S26_L001_R1.txt', 1406)],\n",
       " 847: [('FU_CopyOfVDJTOOLS_.1121_FU-d_S88_L001_R1.txt', 66)],\n",
       " 848: [('FU_VDJTOOLS_.3051_FU_17-4-TCRD_S60_L001_R1.txt', 452)],\n",
       " 849: [('FU_VDJTOOLS_.1195_FU_18-8-TCRD_S69_L001_R1.txt', 32),\n",
       "  ('BL_VDJTOOLS_.1195_BL_18-7-TCRD_S67_L001_R1.txt', 41)],\n",
       " 850: [('FU_CopyOfVDJTOOLS_.1084_FU-d_S71_L001_R1.txt', 9)],\n",
       " 851: [('FU_CopyOfVDJTOOLS_.1098_2754_SA89_S89_L001_R1.txt', 880),\n",
       "  ('FU_CopyOfVDJTOOLS_.1023_2599_SA96_S96_L001_R1.txt', 186)],\n",
       " 852: [('HD_VDJTOOLS_.1-2-TCRD_S13_L001_R1.txt', 351)],\n",
       " 853: [('HD_VDJTOOLS_.14-2-TCRD_S52_L001_R1.txt', 62)],\n",
       " 854: [('BL_CopyOfVDJTOOLS_.1120_BL-d_S56_L001_R1.txt', 23)],\n",
       " 855: [('HD_VDJTOOLS_.2-7-TCRD_S27_L001_R1.txt', 47)],\n",
       " 856: [('BL_VDJTOOLS_.1004_BL_4-3-TCRD_S38_L001_R1.txt', 173)],\n",
       " 857: [('HD_VDJTOOLS_.14-4-TCRD_S54_L001_R1.txt', 563)],\n",
       " 858: [('BL_CopyOfVDJTOOLS_.1121_BL-d_S91_L001_R1.txt', 16)],\n",
       " 859: [('FU_VDJTOOLS_.3001_FU_11-6-TCRD_S48_L001_R1.txt', 282),\n",
       "  ('BL_VDJTOOLS_.3020_BL_12-3-TCRD_S49_L001_R1.txt', 15)],\n",
       " 860: [('FU_CopyOfVDJTOOLS_.1168_FU-d_S73_L001_R2.txt', 1),\n",
       "  ('BL_CopyOfVDJTOOLS_.1168_BL-d_S96_L001_R2.txt', 4)],\n",
       " 861: [('BL_VDJTOOLS_.1003_BL_4-1-TCRD_S36_L001_R1.txt', 9)],\n",
       " 862: [('HD_VDJTOOLS_.14-1-TCRD_S51_L001_R1.txt', 79),\n",
       "  ('BL_CopyOfVDJTOOLS_.1146_BL_TCRD_S5_R1.txt', 8),\n",
       "  ('BL_CopyOfVDJTOOLS_.1031_2592_SA90_S90_L001_R1.txt', 26)],\n",
       " 863: [('HD_VDJTOOLS_.1-4-TCRD_S15_L001_R1.txt', 30)],\n",
       " 864: [('FU_VDJTOOLS_.1003_FU_4-2-TCRD_S37_L001_R1.txt', 14)],\n",
       " 865: [('HD_VDJTOOLS_.2-3-TCRD_S23_L001_R1.txt', 64)],\n",
       " 866: [('HD_VDJTOOLS_.1-2-TCRD_S13_L001_R1.txt', 25)],\n",
       " 867: [('BL_VDJTOOLS_.1003_BL_4-1-TCRD_S36_L001_R1.txt', 18)],\n",
       " 868: [('HD_VDJTOOLS_.14-2-TCRD_S52_L001_R1.txt', 11)],\n",
       " 869: [('BL_CopyOfVDJTOOLS_.1003_2553_SA78_S78_L001_R1.txt', 49)],\n",
       " 870: [('FU_VDJTOOLS_.1195_FU_18-8-TCRD_S69_L001_R1.txt', 36)],\n",
       " 871: [('HD_VDJTOOLS_.2-3-TCRD_S23_L001_R1.txt', 98)],\n",
       " 872: [('FU_CopyOfVDJTOOLS_.1056_2659_SA74_S74_L001_R1.txt', 468),\n",
       "  ('FU_CopyOfVDJTOOLS_.1014_2639_SA66_S66_L001_R1.txt', 181),\n",
       "  ('FU_CopyOfVDJTOOLS_.1034_2642_SA69_S69_L001_R1.txt', 72),\n",
       "  ('FU_CopyOfVDJTOOLS_.1095_2738_SA88_S88_L001_R1.txt', 110),\n",
       "  ('FU_CopyOfVDJTOOLS_.1010_2615_SA65_S65_L001_R1.txt', 1076),\n",
       "  ('FU_CopyOfVDJTOOLS_.1031_2622_SA68_S68_L001_R1.txt', 41),\n",
       "  ('FU_CopyOfVDJTOOLS_.1023_2599_SA96_S96_L001_R1.txt', 1591),\n",
       "  ('FU_CopyOfVDJTOOLS_.1030_2624_SA67_S67_L001_R1.txt', 65),\n",
       "  ('HD_VDJTOOLS_.3-7-TCRD_S34_L001_R1.txt', 10),\n",
       "  ('BL_CopyOfVDJTOOLS_.1071_2668_SA73_S73_L001_R1.txt', 115),\n",
       "  ('BL_CopyOfVDJTOOLS_.1095_2718_SA95_S95_L001_R1.txt', 207),\n",
       "  ('BL_CopyOfVDJTOOLS_.1030_2589_SA89_S89_L001_R1.txt', 32),\n",
       "  ('BL_CopyOfVDJTOOLS_.1040_2605_SA66_S66_L001_R1.txt', 1331)],\n",
       " 873: [('BL_CopyOfVDJTOOLS_.1071_2668_SA73_S73_L001_R1.txt', 25)],\n",
       " 874: [('HD_VDJTOOLS_.2-6-TCRD_S26_L001_R1.txt', 160)],\n",
       " 875: [('FU_CopyOfVDJTOOLS_.1106_FU-d_S39_L001_R1.txt', 13)],\n",
       " 876: [('HD_VDJTOOLS_.2-3-TCRD_S23_L001_R1.txt', 12)],\n",
       " 877: [('BL_CopyOfVDJTOOLS_.1003_2553_SA78_S78_L001_R1.txt', 10)],\n",
       " 878: [('HD_VDJTOOLS_.1-4-TCRD_S15_L001_R1.txt', 146)],\n",
       " 879: [('BL_CopyOfVDJTOOLS_.1152_BL_TCRD_S6_R1.txt', 282)],\n",
       " 880: [('HD_VDJTOOLS_.1-2-TCRD_S13_L001_R1.txt', 166)],\n",
       " 881: [('HD_VDJTOOLS_.2-3-TCRD_S23_L001_R1.txt', 165)],\n",
       " 882: [('BL_CopyOfVDJTOOLS_.1003_2553_SA78_S78_L001_R1.txt', 42),\n",
       "  ('BL_VDJTOOLS_.1003_BL_4-1-TCRD_S36_L001_R1.txt', 26)],\n",
       " 883: [('BL_CopyOfVDJTOOLS_.1112_BL-d_S66_L001_R1.txt', 5)],\n",
       " 884: [('BL_VDJTOOLS_.1136_BL_8-7-TCRD_S42_L001_R1.txt', 24)],\n",
       " 885: [('HD_VDJTOOLS_.14-1-TCRD_S51_L001_R1.txt', 16)],\n",
       " 886: [('FU_CopyOfVDJTOOLS_.1124_FU_TCRD_S4_R1.txt', 231)],\n",
       " 887: [('BL_CopyOfVDJTOOLS_.1021_2576_SA85_S85_L001_R1.txt', 307)],\n",
       " 888: [('HD_VDJTOOLS_.14-4-TCRD_S54_L001_R1.txt', 15)],\n",
       " 889: [('HD_VDJTOOLS_.2-5-TCRD_S25_L001_R1.txt', 39)],\n",
       " 890: [('FU_CopyOfVDJTOOLS_.1121_FU-d_S88_L001_R1.txt', 24)],\n",
       " 891: [('FU_VDJTOOLS_.1143_FU_9-4-TCRD_S44_L001_R1.txt', 79),\n",
       "  ('BL_VDJTOOLS_.1143_BL_9-3-TCRD_S43_L001_R1.txt', 94)],\n",
       " 892: [('BL_CopyOfVDJTOOLS_.1112_BL-d_S66_L001_R1.txt', 3)],\n",
       " 893: [('BL_CopyOfVDJTOOLS_.1120_BL-d_S56_L001_R1.txt', 21)],\n",
       " 894: [('BL_CopyOfVDJTOOLS_.1079_2685_SA90_S90_L001_R1.txt', 394)],\n",
       " 895: [('FU_CopyOfVDJTOOLS_.1086_FU-d_S50_L001_R1.txt', 272),\n",
       "  ('FU_CopyOfVDJTOOLS_.1106_FU-d_S39_L001_R1.txt', 350),\n",
       "  ('FU_CopyOfVDJTOOLS_.1097_FU-d_S37_L001_R1.txt', 37),\n",
       "  ('BL_CopyOfVDJTOOLS_.1151_BL-d_S40_L001_R1.txt', 267),\n",
       "  ('BL_CopyOfVDJTOOLS_.1091_BL-d_S35_L001_R1.txt', 40),\n",
       "  ('BL_CopyOfVDJTOOLS_.1149_BL-d_S68_L001_R1.txt', 12),\n",
       "  ('BL_CopyOfVDJTOOLS_.1097_BL-d_S36_L001_R1.txt', 224),\n",
       "  ('BL_CopyOfVDJTOOLS_.1160_BL-d_S41_L001_R1.txt', 356),\n",
       "  ('BL_CopyOfVDJTOOLS_.1112_BL-d_S66_L001_R1.txt', 4),\n",
       "  ('BL_CopyOfVDJTOOLS_.1008_BL-d_S70_L001_R1.txt', 11)],\n",
       " 896: [('HD_VDJTOOLS_.2-3-TCRD_S23_L001_R1.txt', 29)],\n",
       " 897: [('FU_VDJTOOLS_.1143_FU_9-4-TCRD_S44_L001_R1.txt', 99)],\n",
       " 898: [('HD_VDJTOOLS_.2-3-TCRD_S23_L001_R1.txt', 292)],\n",
       " 899: [('BL_VDJTOOLS_.1136_BL_8-7-TCRD_S42_L001_R1.txt', 248)],\n",
       " 900: [('FU_CopyOfVDJTOOLS_.1106_FU-d_S39_L001_R1.txt', 16),\n",
       "  ('FU_CopyOfVDJTOOLS_.1152_FU-d_S94_L001_R1.txt', 5),\n",
       "  ('BL_CopyOfVDJTOOLS_.1153_BL-d_S69_L001_R1.txt', 13),\n",
       "  ('BL_CopyOfVDJTOOLS_.1097_BL-d_S36_L001_R1.txt', 8)],\n",
       " 901: [('BL_VDJTOOLS_.1004_BL_4-3-TCRD_S38_L001_R1.txt', 295)],\n",
       " 902: [('FU_CopyOfVDJTOOLS_.1106_FU-d_S39_L001_R1.txt', 19)],\n",
       " 903: [('FU_CopyOfVDJTOOLS_.1086_FU-d_S50_L001_R1.txt', 32)],\n",
       " 904: [('BL_VDJTOOLS_.1185_BL_16-1-TCRD_S57_L001_R1.txt', 1116)],\n",
       " 905: [('FU_CopyOfVDJTOOLS_.1146_FU-d_S95_L001_R2.txt', 4),\n",
       "  ('FU_CopyOfVDJTOOLS_.1106_FU-d_S39_L001_R1.txt', 165),\n",
       "  ('BL_CopyOfVDJTOOLS_.1151_BL-d_S40_L001_R1.txt', 79),\n",
       "  ('BL_CopyOfVDJTOOLS_.1120_BL-d_S56_L001_R1.txt', 15),\n",
       "  ('BL_CopyOfVDJTOOLS_.1091_BL-d_S35_L001_R1.txt', 39),\n",
       "  ('BL_CopyOfVDJTOOLS_.1160_BL-d_S41_L001_R1.txt', 125),\n",
       "  ('BL_CopyOfVDJTOOLS_.1009_BL-d_S34_L001_R1.txt', 430)],\n",
       " 906: [('BL_CopyOfVDJTOOLS_.1031_2592_SA90_S90_L001_R1.txt', 30)],\n",
       " 907: [('FU_CopyOfVDJTOOLS_.1120_FU-d_S52_L001_R1.txt', 179),\n",
       "  ('FU_CopyOfVDJTOOLS_.1168_FU-d_S73_L001_R2.txt', 9),\n",
       "  ('FU_CopyOfVDJTOOLS_.1149_FU-d_S57_L001_R1.txt', 67),\n",
       "  ('FU_CopyOfVDJTOOLS_.1146_FU-d_S95_L001_R2.txt', 18),\n",
       "  ('FU_CopyOfVDJTOOLS_.1008_FU-d_S38_L001_R1.txt', 261),\n",
       "  ('FU_CopyOfVDJTOOLS_.1084_FU-d_S71_L001_R1.txt', 19),\n",
       "  ('FU_CopyOfVDJTOOLS_.1152_FU-d_S94_L001_R1.txt', 22),\n",
       "  ('HD_VDJTOOLS_.2-1-TCRD_S21_L001_R1.txt', 30),\n",
       "  ('HD_VDJTOOLS_.1-5-TCRD_S16_L001_R1.txt', 10),\n",
       "  ('BL_CopyOfVDJTOOLS_.1120_BL-d_S56_L001_R1.txt', 56),\n",
       "  ('BL_CopyOfVDJTOOLS_.1149_BL-d_S68_L001_R1.txt', 240),\n",
       "  ('BL_CopyOfVDJTOOLS_.1153_BL-d_S69_L001_R1.txt', 69),\n",
       "  ('BL_CopyOfVDJTOOLS_.1112_BL-d_S66_L001_R1.txt', 48),\n",
       "  ('BL_CopyOfVDJTOOLS_.1008_BL-d_S70_L001_R1.txt', 33),\n",
       "  ('BL_CopyOfVDJTOOLS_.1168_BL-d_S96_L001_R2.txt', 5)],\n",
       " 908: [('FU_CopyOfVDJTOOLS_.1084_FU-d_S71_L001_R1.txt', 17)],\n",
       " 909: [('BL_VDJTOOLS_.1003_BL_4-1-TCRD_S36_L001_R1.txt', 142)],\n",
       " 910: [('FU_CopyOfVDJTOOLS_.1152_FU-d_S94_L001_R1.txt', 6),\n",
       "  ('BL_CopyOfVDJTOOLS_.1120_BL-d_S56_L001_R1.txt', 15),\n",
       "  ('BL_CopyOfVDJTOOLS_.1112_BL-d_S66_L001_R1.txt', 6)],\n",
       " 911: [('BL_CopyOfVDJTOOLS_.1151_BL-d_S40_L001_R1.txt', 54)],\n",
       " 912: [('BL_VDJTOOLS_.3061_BL_17-5-TCRD_S61_L001_R1.txt', 178)],\n",
       " 913: [('FU_CopyOfVDJTOOLS_.1121_FU-d_S88_L001_R1.txt', 39),\n",
       "  ('BL_CopyOfVDJTOOLS_.1121_BL-d_S91_L001_R1.txt', 39)],\n",
       " 914: [('HD_VDJTOOLS_.3-7-TCRD_S34_L001_R1.txt', 445)],\n",
       " 915: [('FU_CopyOfVDJTOOLS_.1146_FU-d_S95_L001_R2.txt', 11),\n",
       "  ('FU_CopyOfVDJTOOLS_.1152_FU-d_S94_L001_R1.txt', 12),\n",
       "  ('BL_CopyOfVDJTOOLS_.1145_BL-d_S67_L001_R1.txt', 89),\n",
       "  ('BL_CopyOfVDJTOOLS_.1112_BL-d_S66_L001_R1.txt', 7),\n",
       "  ('BL_CopyOfVDJTOOLS_.1168_BL-d_S96_L001_R2.txt', 5)],\n",
       " 916: [('BL_CopyOfVDJTOOLS_.1049_2625_SA67_S67_L001_R1.txt', 210)],\n",
       " 917: [('FU_CopyOfVDJTOOLS_.1106_FU-d_S39_L001_R1.txt', 206),\n",
       "  ('FU_CopyOfVDJTOOLS_.1097_FU-d_S37_L001_R1.txt', 32),\n",
       "  ('BL_CopyOfVDJTOOLS_.1151_BL-d_S40_L001_R1.txt', 67),\n",
       "  ('BL_CopyOfVDJTOOLS_.1091_BL-d_S35_L001_R1.txt', 22),\n",
       "  ('BL_CopyOfVDJTOOLS_.1097_BL-d_S36_L001_R1.txt', 173),\n",
       "  ('BL_CopyOfVDJTOOLS_.1160_BL-d_S41_L001_R1.txt', 254)],\n",
       " 918: [('HD_VDJTOOLS_.1-6-TCRD_S17_L001_R1.txt', 10)],\n",
       " 919: [('HD_VDJTOOLS_.3-5-TCRD_S33_L001_R1.txt', 22)],\n",
       " 920: [('FU_CopyOfVDJTOOLS_.1160_FU_TCRD_S8_R1.txt', 93)],\n",
       " 921: [('HD_VDJTOOLS_.14-5-TCRD_S55_L001_R1.txt', 28)],\n",
       " 922: [('FU_CopyOfVDJTOOLS_.1120_FU-d_S52_L001_R1.txt', 157),\n",
       "  ('FU_CopyOfVDJTOOLS_.1168_FU-d_S73_L001_R2.txt', 13),\n",
       "  ('FU_CopyOfVDJTOOLS_.1149_FU-d_S57_L001_R1.txt', 291),\n",
       "  ('FU_CopyOfVDJTOOLS_.1145_FU-d_S53_L001_R1.txt', 481),\n",
       "  ('FU_CopyOfVDJTOOLS_.1146_FU-d_S95_L001_R2.txt', 67),\n",
       "  ('FU_CopyOfVDJTOOLS_.1106_FU-d_S39_L001_R1.txt', 13),\n",
       "  ('FU_CopyOfVDJTOOLS_.1152_FU-d_S94_L001_R1.txt', 55),\n",
       "  ('FU_CopyOfVDJTOOLS_.1097_FU-d_S37_L001_R1.txt', 55),\n",
       "  ('BL_CopyOfVDJTOOLS_.1151_BL-d_S40_L001_R1.txt', 50),\n",
       "  ('BL_CopyOfVDJTOOLS_.1145_BL-d_S67_L001_R1.txt', 108),\n",
       "  ('BL_CopyOfVDJTOOLS_.1120_BL-d_S56_L001_R1.txt', 283),\n",
       "  ('BL_CopyOfVDJTOOLS_.1149_BL-d_S68_L001_R1.txt', 285),\n",
       "  ('BL_CopyOfVDJTOOLS_.1153_BL-d_S69_L001_R1.txt', 130),\n",
       "  ('BL_CopyOfVDJTOOLS_.1160_BL-d_S41_L001_R1.txt', 30),\n",
       "  ('BL_CopyOfVDJTOOLS_.1112_BL-d_S66_L001_R1.txt', 57),\n",
       "  ('BL_CopyOfVDJTOOLS_.1008_BL-d_S70_L001_R1.txt', 33),\n",
       "  ('BL_CopyOfVDJTOOLS_.1168_BL-d_S96_L001_R2.txt', 26)],\n",
       " 923: [('FU_CopyOfVDJTOOLS_.1152_FU-d_S94_L001_R1.txt', 9),\n",
       "  ('BL_CopyOfVDJTOOLS_.1145_BL-d_S67_L001_R1.txt', 57)],\n",
       " 924: [('HD_VDJTOOLS_.2-3-TCRD_S23_L001_R1.txt', 88)],\n",
       " 925: [('HD_VDJTOOLS_.1-7-TCRD_S18_L001_R1.txt', 112)],\n",
       " 926: [('HD_VDJTOOLS_.1ctrl-TCRD_S20_L001_R1.txt', 158),\n",
       "  ('BL_VDJTOOLS_.1190_BL_TAA-7-7-TCRD_S72_L001_R1.txt', 888)],\n",
       " 927: [('BL_CopyOfVDJTOOLS_.1072_2671_SA88_S88_L001_R1.txt', 139)],\n",
       " 928: [('FU_CopyOfVDJTOOLS_.1008_FU-d_S38_L001_R1.txt', 451)],\n",
       " 929: [('BL_CopyOfVDJTOOLS_.1003_2553_SA78_S78_L001_R1.txt', 167),\n",
       "  ('BL_VDJTOOLS_.1003_BL_4-1-TCRD_S36_L001_R1.txt', 84)],\n",
       " 930: [('BL_CopyOfVDJTOOLS_.1029_2586_SA88_S88_L001_R1.txt', 77)],\n",
       " 931: [('FU_CopyOfVDJTOOLS_.1168_FU-d_S73_L001_R2.txt', 10),\n",
       "  ('FU_CopyOfVDJTOOLS_.1149_FU-d_S57_L001_R1.txt', 468),\n",
       "  ('FU_CopyOfVDJTOOLS_.1145_FU-d_S53_L001_R1.txt', 2546),\n",
       "  ('FU_CopyOfVDJTOOLS_.1146_FU-d_S95_L001_R2.txt', 154),\n",
       "  ('FU_CopyOfVDJTOOLS_.1084_FU-d_S71_L001_R1.txt', 12),\n",
       "  ('FU_CopyOfVDJTOOLS_.1094_FU-d_S55_L001_R1.txt', 963),\n",
       "  ('FU_CopyOfVDJTOOLS_.1152_FU-d_S94_L001_R1.txt', 133),\n",
       "  ('BL_CopyOfVDJTOOLS_.1145_BL-d_S67_L001_R1.txt', 191),\n",
       "  ('BL_CopyOfVDJTOOLS_.1120_BL-d_S56_L001_R1.txt', 1013),\n",
       "  ('BL_CopyOfVDJTOOLS_.1149_BL-d_S68_L001_R1.txt', 282),\n",
       "  ('BL_CopyOfVDJTOOLS_.1153_BL-d_S69_L001_R1.txt', 250),\n",
       "  ('BL_CopyOfVDJTOOLS_.1086_BL-d_S54_L001_R1.txt', 3),\n",
       "  ('BL_CopyOfVDJTOOLS_.1112_BL-d_S66_L001_R1.txt', 185),\n",
       "  ('BL_CopyOfVDJTOOLS_.1008_BL-d_S70_L001_R1.txt', 65),\n",
       "  ('BL_CopyOfVDJTOOLS_.1168_BL-d_S96_L001_R2.txt', 27)],\n",
       " 932: [('FU_CopyOfVDJTOOLS_.1106_FU-d_S39_L001_R1.txt', 12)],\n",
       " 933: [('HD_VDJTOOLS_.14-2-TCRD_S52_L001_R1.txt', 139)],\n",
       " 934: [('FU_CopyOfVDJTOOLS_.1152_FU-d_S94_L001_R1.txt', 10),\n",
       "  ('BL_CopyOfVDJTOOLS_.1152_BL_TCRD_S6_R1.txt', 247)],\n",
       " 935: [('BL_CopyOfVDJTOOLS_.1029_2586_SA88_S88_L001_R1.txt', 51)],\n",
       " 936: [('HD_VDJTOOLS_.14-1-TCRD_S51_L001_R1.txt', 51)],\n",
       " 937: [('BL_CopyOfVDJTOOLS_.1056_2632_SA71_S71_L001_R1.txt', 82)],\n",
       " 938: [('FU_CopyOfVDJTOOLS_.1124_FU_TCRD_S4_R1.txt', 97),\n",
       "  ('BL_CopyOfVDJTOOLS_.1146_BL_TCRD_S5_R1.txt', 31)],\n",
       " 939: [('BL_VDJTOOLS_.3061_BL_17-5-TCRD_S61_L001_R1.txt', 11)],\n",
       " 940: [('HD_VDJTOOLS_.2-5-TCRD_S25_L001_R1.txt', 26)],\n",
       " 941: [('FU_VDJTOOLS_.1195_FU_18-8-TCRD_S69_L001_R1.txt', 94),\n",
       "  ('BL_VDJTOOLS_.1169_BL_10-5-TCRD_S46_L001_R1.txt', 13),\n",
       "  ('BL_VDJTOOLS_.1195_BL_18-7-TCRD_S67_L001_R1.txt', 15),\n",
       "  ('BL_VDJTOOLS_.1144_BL_9-5-TCRD_S45_L001_R1.txt', 8453)],\n",
       " 942: [('FU_CopyOfVDJTOOLS_.1146_FU-d_S95_L001_R2.txt', 8),\n",
       "  ('FU_CopyOfVDJTOOLS_.1106_FU-d_S39_L001_R1.txt', 93),\n",
       "  ('FU_CopyOfVDJTOOLS_.1008_FU-d_S38_L001_R1.txt', 242),\n",
       "  ('FU_CopyOfVDJTOOLS_.1097_FU-d_S37_L001_R1.txt', 758),\n",
       "  ('BL_CopyOfVDJTOOLS_.1160_BL-d_S41_L001_R1.txt', 77)],\n",
       " 943: [('FU_CopyOfVDJTOOLS_.1146_FU-d_S95_L001_R2.txt', 8),\n",
       "  ('FU_CopyOfVDJTOOLS_.1106_FU-d_S39_L001_R1.txt', 217),\n",
       "  ('FU_CopyOfVDJTOOLS_.1008_FU-d_S38_L001_R1.txt', 61),\n",
       "  ('FU_CopyOfVDJTOOLS_.1152_FU-d_S94_L001_R1.txt', 15),\n",
       "  ('FU_CopyOfVDJTOOLS_.1097_FU-d_S37_L001_R1.txt', 25),\n",
       "  ('BL_CopyOfVDJTOOLS_.1151_BL-d_S40_L001_R1.txt', 575),\n",
       "  ('BL_CopyOfVDJTOOLS_.1145_BL-d_S67_L001_R1.txt', 47),\n",
       "  ('BL_CopyOfVDJTOOLS_.1091_BL-d_S35_L001_R1.txt', 33),\n",
       "  ('BL_CopyOfVDJTOOLS_.1153_BL-d_S69_L001_R1.txt', 23),\n",
       "  ('BL_CopyOfVDJTOOLS_.1097_BL-d_S36_L001_R1.txt', 181),\n",
       "  ('BL_CopyOfVDJTOOLS_.1160_BL-d_S41_L001_R1.txt', 164),\n",
       "  ('BL_CopyOfVDJTOOLS_.1168_BL-d_S96_L001_R2.txt', 5)],\n",
       " 944: [('FU_CopyOfVDJTOOLS_.1008_FU-d_S38_L001_R1.txt', 27)],\n",
       " 945: [('BL_CopyOfVDJTOOLS_.1122_BL_TCRD_S2_R1.txt', 47)],\n",
       " 946: [('BL_CopyOfVDJTOOLS_.1021_2576_SA85_S85_L001_R1.txt', 52)],\n",
       " 947: [('FU_CopyOfVDJTOOLS_.1008_FU-d_S38_L001_R1.txt', 51)],\n",
       " 948: [('BL_VDJTOOLS_.1003_BL_4-1-TCRD_S36_L001_R1.txt', 102)],\n",
       " 949: [('BL_CopyOfVDJTOOLS_.1122_BL_TCRD_S2_R1.txt', 48)],\n",
       " 950: [('HD_VDJTOOLS_.2-1-TCRD_S21_L001_R1.txt', 71)],\n",
       " 951: [('BL_CopyOfVDJTOOLS_.1049_2625_SA67_S67_L001_R1.txt', 9)],\n",
       " 952: [('HD_VDJTOOLS_.1-2-TCRD_S13_L001_R1.txt', 18)],\n",
       " 953: [('FU_CopyOfVDJTOOLS_.1031_2622_SA68_S68_L001_R1.txt', 149),\n",
       "  ('HD_VDJTOOLS_.2-1-TCRD_S21_L001_R1.txt', 154),\n",
       "  ('BL_CopyOfVDJTOOLS_.1031_2592_SA90_S90_L001_R1.txt', 204)],\n",
       " 954: [('BL_CopyOfVDJTOOLS_.1031_2592_SA90_S90_L001_R1.txt', 16)],\n",
       " 955: [('FU_CopyOfVDJTOOLS_.1149_FU-d_S57_L001_R1.txt', 20),\n",
       "  ('FU_CopyOfVDJTOOLS_.1146_FU-d_S95_L001_R2.txt', 4),\n",
       "  ('FU_CopyOfVDJTOOLS_.1112_FU-d_S51_L001_R1.txt', 402),\n",
       "  ('BL_CopyOfVDJTOOLS_.1120_BL-d_S56_L001_R1.txt', 143),\n",
       "  ('BL_CopyOfVDJTOOLS_.1153_BL-d_S69_L001_R1.txt', 25),\n",
       "  ('BL_CopyOfVDJTOOLS_.1112_BL-d_S66_L001_R1.txt', 34)],\n",
       " 956: [('BL_CopyOfVDJTOOLS_.1112_BL-d_S66_L001_R1.txt', 3)],\n",
       " 957: [('HD_VDJTOOLS_.2-3-TCRD_S23_L001_R1.txt', 147)],\n",
       " 958: [('FU_CopyOfVDJTOOLS_.1072_2692_SA84_S84_L001_R1.txt', 70)],\n",
       " 959: [('BL_CopyOfVDJTOOLS_.1168_BL-d_S96_L001_R2.txt', 11)],\n",
       " 960: [('BL_VDJTOOLS_.1190_BL_TAA-7-7-TCRD_S72_L001_R1.txt', 66)],\n",
       " 961: [('BL_CopyOfVDJTOOLS_.1146_BL_TCRD_S5_R1.txt', 8)],\n",
       " 962: [('FU_VDJTOOLS_.1231_FU_17-8-TCRD_S64_L001_R1.txt', 3),\n",
       "  ('FU_CopyOfVDJTOOLS_.1168_FU-d_S73_L001_R2.txt', 1),\n",
       "  ('HD_VDJTOOLS_.1-1-TCRD_S12_L001_R1.txt', 203),\n",
       "  ('HD_VDJTOOLS_.14-1-TCRD_S51_L001_R1.txt', 15),\n",
       "  ('HD_VDJTOOLS_.1-3-TCRD_S14_L001_R1.txt', 70),\n",
       "  ('BL_VDJTOOLS_.1231_BL_17-7-TCRD_S63_L001_R1.txt', 375),\n",
       "  ('BL_CopyOfVDJTOOLS_.1146_BL_TCRD_S5_R1.txt', 8),\n",
       "  ('BL_CopyOfVDJTOOLS_.1054_2630_SA69_S69_L001_R1.txt', 17)],\n",
       " 963: [('FU_CopyOfVDJTOOLS_.1004_2568_SA93_S93_L001_R1.txt', 2),\n",
       "  ('BL_CopyOfVDJTOOLS_.1021_2576_SA85_S85_L001_R1.txt', 138)],\n",
       " 964: [('BL_CopyOfVDJTOOLS_.1003_2553_SA78_S78_L001_R1.txt', 87)],\n",
       " 965: [('BL_VDJTOOLS_.1189_BL_TAA-7-5-TCRD_S70_L001_R1.txt', 494),\n",
       "  ('BL_VDJTOOLS_.1212_BL_18-5-TCRD_S66_L001_R1.txt', 7)],\n",
       " 966: [('HD_VDJTOOLS_.14-1-TCRD_S51_L001_R1.txt', 150)],\n",
       " 967: [('BL_CopyOfVDJTOOLS_.1120_BL-d_S56_L001_R1.txt', 22)],\n",
       " 968: [('HD_VDJTOOLS_.1-5-TCRD_S16_L001_R1.txt', 20)],\n",
       " 969: [('HD_VDJTOOLS_.14-2-TCRD_S52_L001_R1.txt', 17)],\n",
       " 970: [('FU_CopyOfVDJTOOLS_.1168_FU-d_S73_L001_R2.txt', 1),\n",
       "  ('FU_CopyOfVDJTOOLS_.1146_FU-d_S95_L001_R2.txt', 7)],\n",
       " 971: [('HD_VDJTOOLS_.1-7-TCRD_S18_L001_R1.txt', 9)],\n",
       " 972: [('HD_VDJTOOLS_.1-8-TCRD_S19_L001_R1.txt', 133)],\n",
       " 973: [('BL_CopyOfVDJTOOLS_.1054_2630_SA69_S69_L001_R1.txt', 153)],\n",
       " 974: [('HD_VDJTOOLS_.1ctrl-TCRD_S20_L001_R1.txt', 10)],\n",
       " 975: [('BL_VDJTOOLS_.1004_BL_4-3-TCRD_S38_L001_R1.txt', 137)],\n",
       " 976: [('HD_VDJTOOLS_.1-2-TCRD_S13_L001_R1.txt', 9)],\n",
       " 977: [('BL_VDJTOOLS_.3020_BL_12-3-TCRD_S49_L001_R1.txt', 916)],\n",
       " 978: [('FU_CopyOfVDJTOOLS_.1004_2568_SA93_S93_L001_R1.txt', 2),\n",
       "  ('BL_CopyOfVDJTOOLS_.1021_2576_SA85_S85_L001_R1.txt', 448)],\n",
       " 979: [('BL_CopyOfVDJTOOLS_.1168_BL-d_S96_L001_R2.txt', 8)],\n",
       " 980: [('HD_VDJTOOLS_.1-8-TCRD_S19_L001_R1.txt', 34),\n",
       "  ('BL_CopyOfVDJTOOLS_.1153_BL-d_S69_L001_R1.txt', 11)],\n",
       " 981: [('BL_CopyOfVDJTOOLS_.1039_2604_SA65_S65_L001_R1.txt', 60),\n",
       "  ('BL_VDJTOOLS_.1003_BL_4-1-TCRD_S36_L001_R1.txt', 130)],\n",
       " 982: [('HD_VDJTOOLS_.1-6-TCRD_S17_L001_R1.txt', 35)],\n",
       " 983: [('HD_VDJTOOLS_.2-2-TCRD_S22_L001_R1.txt', 15)],\n",
       " 984: [('HD_VDJTOOLS_.1-7-TCRD_S18_L001_R1.txt', 15)],\n",
       " 985: [('HD_VDJTOOLS_.14-1-TCRD_S51_L001_R1.txt', 281)],\n",
       " 986: [('FU_CopyOfVDJTOOLS_.1120_FU-d_S52_L001_R1.txt', 69),\n",
       "  ('FU_CopyOfVDJTOOLS_.1149_FU-d_S57_L001_R1.txt', 37),\n",
       "  ('FU_CopyOfVDJTOOLS_.1146_FU-d_S95_L001_R2.txt', 31),\n",
       "  ('FU_CopyOfVDJTOOLS_.1112_FU-d_S51_L001_R1.txt', 231),\n",
       "  ('FU_CopyOfVDJTOOLS_.1106_FU-d_S39_L001_R1.txt', 104),\n",
       "  ('FU_CopyOfVDJTOOLS_.1008_FU-d_S38_L001_R1.txt', 194),\n",
       "  ('FU_CopyOfVDJTOOLS_.1084_FU-d_S71_L001_R1.txt', 6),\n",
       "  ('FU_CopyOfVDJTOOLS_.1097_FU-d_S37_L001_R1.txt', 18),\n",
       "  ('BL_CopyOfVDJTOOLS_.1151_BL-d_S40_L001_R1.txt', 181),\n",
       "  ('BL_CopyOfVDJTOOLS_.1120_BL-d_S56_L001_R1.txt', 119),\n",
       "  ('BL_CopyOfVDJTOOLS_.1091_BL-d_S35_L001_R1.txt', 16),\n",
       "  ('BL_CopyOfVDJTOOLS_.1149_BL-d_S68_L001_R1.txt', 94),\n",
       "  ('BL_CopyOfVDJTOOLS_.1153_BL-d_S69_L001_R1.txt', 61),\n",
       "  ('BL_CopyOfVDJTOOLS_.1097_BL-d_S36_L001_R1.txt', 147),\n",
       "  ('BL_CopyOfVDJTOOLS_.1160_BL-d_S41_L001_R1.txt', 299),\n",
       "  ('BL_CopyOfVDJTOOLS_.1112_BL-d_S66_L001_R1.txt', 7)],\n",
       " 987: [('HD_VDJTOOLS_.1-2-TCRD_S13_L001_R1.txt', 12),\n",
       "  ('HD_VDJTOOLS_.3-3-TCRD_S31_L001_R1.txt', 182)],\n",
       " 988: [('FU_CopyOfVDJTOOLS_.1122_FU-d_S84_L001_R1.txt', 18)],\n",
       " 989: [('HD_VDJTOOLS_.2-2-TCRD_S22_L001_R1.txt', 13),\n",
       "  ('HD_VDJTOOLS_.2-5-TCRD_S25_L001_R1.txt', 20)],\n",
       " 990: [('HD_VDJTOOLS_.2-1-TCRD_S21_L001_R1.txt', 16)],\n",
       " 991: [('FU_CopyOfVDJTOOLS_.1003_2564_SA92_S92_L001_R1.txt', 229)],\n",
       " 992: [('HD_VDJTOOLS_.1-7-TCRD_S18_L001_R1.txt', 50)],\n",
       " 993: [('HD_VDJTOOLS_.14-5-TCRD_S55_L001_R1.txt', 12)],\n",
       " 994: [('BL_CopyOfVDJTOOLS_.1121_BL-d_S91_L001_R1.txt', 100)],\n",
       " 995: [('BL_VDJTOOLS_.3061_BL_17-5-TCRD_S61_L001_R1.txt', 125)],\n",
       " 996: [('FU_VDJTOOLS_.1231_FU_17-8-TCRD_S64_L001_R1.txt', 1),\n",
       "  ('BL_VDJTOOLS_.3061_BL_17-5-TCRD_S61_L001_R1.txt', 124)],\n",
       " 997: [('FU_CopyOfVDJTOOLS_.1120_FU-d_S52_L001_R1.txt', 59),\n",
       "  ('BL_CopyOfVDJTOOLS_.1120_BL-d_S56_L001_R1.txt', 32),\n",
       "  ('BL_CopyOfVDJTOOLS_.1149_BL-d_S68_L001_R1.txt', 59),\n",
       "  ('BL_CopyOfVDJTOOLS_.1153_BL-d_S69_L001_R1.txt', 16),\n",
       "  ('BL_CopyOfVDJTOOLS_.1112_BL-d_S66_L001_R1.txt', 5),\n",
       "  ('BL_CopyOfVDJTOOLS_.1008_BL-d_S70_L001_R1.txt', 6)],\n",
       " 998: [('FU_CopyOfVDJTOOLS_.1071_2691_SA83_S83_L001_R1.txt', 78)],\n",
       " 999: [('HD_VDJTOOLS_.2-7-TCRD_S27_L001_R1.txt', 261)],\n",
       " 1000: [('FU_VDJTOOLS_.3061_FU_17-6-TCRD_S62_L001_R1.txt', 373)],\n",
       " ...}"
      ]
     },
     "execution_count": 14,
     "metadata": {},
     "output_type": "execute_result"
    }
   ],
   "source": [
    "inverted_idx"
   ]
  },
  {
   "cell_type": "code",
   "execution_count": 15,
   "id": "556d9330",
   "metadata": {},
   "outputs": [],
   "source": [
    "tfidf = TfidfVectorizer(input='content', lowercase=False, tokenizer=lambda text: text)\n",
    "result = tfidf.fit_transform(voc_data.seq)\n",
    "dense_result = result.todense()\n",
    "tfidf_df = pd.DataFrame(dense_result, \n",
    "                        index=voc_data['sample_id'], \n",
    "                        columns=tfidf.get_feature_names_out())\n"
   ]
  },
  {
   "cell_type": "code",
   "execution_count": 16,
   "id": "bcc20d56",
   "metadata": {
    "scrolled": true
   },
   "outputs": [
    {
     "data": {
      "text/html": [
       "<div>\n",
       "<style scoped>\n",
       "    .dataframe tbody tr th:only-of-type {\n",
       "        vertical-align: middle;\n",
       "    }\n",
       "\n",
       "    .dataframe tbody tr th {\n",
       "        vertical-align: top;\n",
       "    }\n",
       "\n",
       "    .dataframe thead th {\n",
       "        text-align: right;\n",
       "    }\n",
       "</style>\n",
       "<table border=\"1\" class=\"dataframe\">\n",
       "  <thead>\n",
       "    <tr style=\"text-align: right;\">\n",
       "      <th></th>\n",
       "      <th>sample_id</th>\n",
       "      <th>CAAALDKLIF</th>\n",
       "      <th>CAAAPLPSVGGHTDKLIF</th>\n",
       "      <th>CAAAPSSPVGFQDTNTDKLIF</th>\n",
       "      <th>CAAAQLGVADKLIF</th>\n",
       "      <th>CAAARYTRGQYTDKLIF</th>\n",
       "      <th>CAAAVSTDKLIF</th>\n",
       "      <th>CAADRGGIEDKLIF</th>\n",
       "      <th>CAADTVLLGDTGDKLIF</th>\n",
       "      <th>CAAEGVVSSWDTRQMFF</th>\n",
       "      <th>...</th>\n",
       "      <th>YACDVLGDTDKLIF</th>\n",
       "      <th>YACDVLGTRDKLIF</th>\n",
       "      <th>YACDVLPTERLGDRDKLIF</th>\n",
       "      <th>YAFLFLRYWGKSDKLIF</th>\n",
       "      <th>YAFRFPTSFLWRGKRDTDKLIF</th>\n",
       "      <th>YAGRQLGASMYTDKLIF</th>\n",
       "      <th>YALGDTPRTLQGYTDKLIF</th>\n",
       "      <th>YALGELAPKIATPWTDKLIF</th>\n",
       "      <th>YALGELRGIQDTDKLIF</th>\n",
       "      <th>YARDKVSTGGDHSTDKLIF</th>\n",
       "    </tr>\n",
       "  </thead>\n",
       "  <tbody>\n",
       "    <tr>\n",
       "      <th>0</th>\n",
       "      <td>FU_VDJTOOLS_.1231_FU_17-8-TCRD_S64_L001_R1.txt</td>\n",
       "      <td>0.0</td>\n",
       "      <td>0.0</td>\n",
       "      <td>0.0</td>\n",
       "      <td>0.0</td>\n",
       "      <td>0.0</td>\n",
       "      <td>0.0</td>\n",
       "      <td>0.0</td>\n",
       "      <td>0.0</td>\n",
       "      <td>0.0</td>\n",
       "      <td>...</td>\n",
       "      <td>0.0</td>\n",
       "      <td>0.0</td>\n",
       "      <td>0.0</td>\n",
       "      <td>0.0</td>\n",
       "      <td>0.0</td>\n",
       "      <td>0.0</td>\n",
       "      <td>0.0</td>\n",
       "      <td>0.0</td>\n",
       "      <td>0.0</td>\n",
       "      <td>0.0</td>\n",
       "    </tr>\n",
       "    <tr>\n",
       "      <th>1</th>\n",
       "      <td>FU_CopyOfVDJTOOLS_.1056_2659_SA74_S74_L001_R1.txt</td>\n",
       "      <td>0.0</td>\n",
       "      <td>0.0</td>\n",
       "      <td>0.0</td>\n",
       "      <td>0.0</td>\n",
       "      <td>0.0</td>\n",
       "      <td>0.0</td>\n",
       "      <td>0.0</td>\n",
       "      <td>0.0</td>\n",
       "      <td>0.0</td>\n",
       "      <td>...</td>\n",
       "      <td>0.0</td>\n",
       "      <td>0.0</td>\n",
       "      <td>0.0</td>\n",
       "      <td>0.0</td>\n",
       "      <td>0.0</td>\n",
       "      <td>0.0</td>\n",
       "      <td>0.0</td>\n",
       "      <td>0.0</td>\n",
       "      <td>0.0</td>\n",
       "      <td>0.0</td>\n",
       "    </tr>\n",
       "    <tr>\n",
       "      <th>2</th>\n",
       "      <td>FU_CopyOfVDJTOOLS_.1124_FU_TCRD_S4_R1.txt</td>\n",
       "      <td>0.0</td>\n",
       "      <td>0.0</td>\n",
       "      <td>0.0</td>\n",
       "      <td>0.0</td>\n",
       "      <td>0.0</td>\n",
       "      <td>0.0</td>\n",
       "      <td>0.0</td>\n",
       "      <td>0.0</td>\n",
       "      <td>0.0</td>\n",
       "      <td>...</td>\n",
       "      <td>0.0</td>\n",
       "      <td>0.0</td>\n",
       "      <td>0.0</td>\n",
       "      <td>0.0</td>\n",
       "      <td>0.0</td>\n",
       "      <td>0.0</td>\n",
       "      <td>0.0</td>\n",
       "      <td>0.0</td>\n",
       "      <td>0.0</td>\n",
       "      <td>0.0</td>\n",
       "    </tr>\n",
       "    <tr>\n",
       "      <th>3</th>\n",
       "      <td>FU_CopyOfVDJTOOLS_.1120_FU-d_S52_L001_R1.txt</td>\n",
       "      <td>0.0</td>\n",
       "      <td>0.0</td>\n",
       "      <td>0.0</td>\n",
       "      <td>0.0</td>\n",
       "      <td>0.0</td>\n",
       "      <td>0.0</td>\n",
       "      <td>0.0</td>\n",
       "      <td>0.0</td>\n",
       "      <td>0.0</td>\n",
       "      <td>...</td>\n",
       "      <td>0.0</td>\n",
       "      <td>0.0</td>\n",
       "      <td>0.0</td>\n",
       "      <td>0.0</td>\n",
       "      <td>0.0</td>\n",
       "      <td>0.0</td>\n",
       "      <td>0.0</td>\n",
       "      <td>0.0</td>\n",
       "      <td>0.0</td>\n",
       "      <td>0.0</td>\n",
       "    </tr>\n",
       "    <tr>\n",
       "      <th>4</th>\n",
       "      <td>FU_VDJTOOLS_.3001_FU_11-6-TCRD_S48_L001_R1.txt</td>\n",
       "      <td>0.0</td>\n",
       "      <td>0.0</td>\n",
       "      <td>0.0</td>\n",
       "      <td>0.0</td>\n",
       "      <td>0.0</td>\n",
       "      <td>0.0</td>\n",
       "      <td>0.0</td>\n",
       "      <td>0.0</td>\n",
       "      <td>0.0</td>\n",
       "      <td>...</td>\n",
       "      <td>0.0</td>\n",
       "      <td>0.0</td>\n",
       "      <td>0.0</td>\n",
       "      <td>0.0</td>\n",
       "      <td>0.0</td>\n",
       "      <td>0.0</td>\n",
       "      <td>0.0</td>\n",
       "      <td>0.0</td>\n",
       "      <td>0.0</td>\n",
       "      <td>0.0</td>\n",
       "    </tr>\n",
       "    <tr>\n",
       "      <th>...</th>\n",
       "      <td>...</td>\n",
       "      <td>...</td>\n",
       "      <td>...</td>\n",
       "      <td>...</td>\n",
       "      <td>...</td>\n",
       "      <td>...</td>\n",
       "      <td>...</td>\n",
       "      <td>...</td>\n",
       "      <td>...</td>\n",
       "      <td>...</td>\n",
       "      <td>...</td>\n",
       "      <td>...</td>\n",
       "      <td>...</td>\n",
       "      <td>...</td>\n",
       "      <td>...</td>\n",
       "      <td>...</td>\n",
       "      <td>...</td>\n",
       "      <td>...</td>\n",
       "      <td>...</td>\n",
       "      <td>...</td>\n",
       "      <td>...</td>\n",
       "    </tr>\n",
       "    <tr>\n",
       "      <th>145</th>\n",
       "      <td>BL_VDJTOOLS_.3020_BL_12-3-TCRD_S49_L001_R1.txt</td>\n",
       "      <td>0.0</td>\n",
       "      <td>0.0</td>\n",
       "      <td>0.0</td>\n",
       "      <td>0.0</td>\n",
       "      <td>0.0</td>\n",
       "      <td>0.0</td>\n",
       "      <td>0.0</td>\n",
       "      <td>0.0</td>\n",
       "      <td>0.0</td>\n",
       "      <td>...</td>\n",
       "      <td>0.0</td>\n",
       "      <td>0.0</td>\n",
       "      <td>0.0</td>\n",
       "      <td>0.0</td>\n",
       "      <td>0.0</td>\n",
       "      <td>0.0</td>\n",
       "      <td>0.0</td>\n",
       "      <td>0.0</td>\n",
       "      <td>0.0</td>\n",
       "      <td>0.0</td>\n",
       "    </tr>\n",
       "    <tr>\n",
       "      <th>146</th>\n",
       "      <td>BL_CopyOfVDJTOOLS_.1013_2565_SA82_S82_L001_R1.txt</td>\n",
       "      <td>0.0</td>\n",
       "      <td>0.0</td>\n",
       "      <td>0.0</td>\n",
       "      <td>0.0</td>\n",
       "      <td>0.0</td>\n",
       "      <td>0.0</td>\n",
       "      <td>0.0</td>\n",
       "      <td>0.0</td>\n",
       "      <td>0.0</td>\n",
       "      <td>...</td>\n",
       "      <td>0.0</td>\n",
       "      <td>0.0</td>\n",
       "      <td>0.0</td>\n",
       "      <td>0.0</td>\n",
       "      <td>0.0</td>\n",
       "      <td>0.0</td>\n",
       "      <td>0.0</td>\n",
       "      <td>0.0</td>\n",
       "      <td>0.0</td>\n",
       "      <td>0.0</td>\n",
       "    </tr>\n",
       "    <tr>\n",
       "      <th>147</th>\n",
       "      <td>BL_CopyOfVDJTOOLS_.1121_BL-d_S91_L001_R1.txt</td>\n",
       "      <td>0.0</td>\n",
       "      <td>0.0</td>\n",
       "      <td>0.0</td>\n",
       "      <td>0.0</td>\n",
       "      <td>0.0</td>\n",
       "      <td>0.0</td>\n",
       "      <td>0.0</td>\n",
       "      <td>0.0</td>\n",
       "      <td>0.0</td>\n",
       "      <td>...</td>\n",
       "      <td>0.0</td>\n",
       "      <td>0.0</td>\n",
       "      <td>0.0</td>\n",
       "      <td>0.0</td>\n",
       "      <td>0.0</td>\n",
       "      <td>0.0</td>\n",
       "      <td>0.0</td>\n",
       "      <td>0.0</td>\n",
       "      <td>0.0</td>\n",
       "      <td>0.0</td>\n",
       "    </tr>\n",
       "    <tr>\n",
       "      <th>148</th>\n",
       "      <td>BL_CopyOfVDJTOOLS_.1054_2630_SA69_S69_L001_R1.txt</td>\n",
       "      <td>0.0</td>\n",
       "      <td>0.0</td>\n",
       "      <td>0.0</td>\n",
       "      <td>0.0</td>\n",
       "      <td>0.0</td>\n",
       "      <td>0.0</td>\n",
       "      <td>0.0</td>\n",
       "      <td>0.0</td>\n",
       "      <td>0.0</td>\n",
       "      <td>...</td>\n",
       "      <td>0.0</td>\n",
       "      <td>0.0</td>\n",
       "      <td>0.0</td>\n",
       "      <td>0.0</td>\n",
       "      <td>0.0</td>\n",
       "      <td>0.0</td>\n",
       "      <td>0.0</td>\n",
       "      <td>0.0</td>\n",
       "      <td>0.0</td>\n",
       "      <td>0.0</td>\n",
       "    </tr>\n",
       "    <tr>\n",
       "      <th>149</th>\n",
       "      <td>BL_CopyOfVDJTOOLS_.1122_BL_TCRD_S2_R1.txt</td>\n",
       "      <td>0.0</td>\n",
       "      <td>0.0</td>\n",
       "      <td>0.0</td>\n",
       "      <td>0.0</td>\n",
       "      <td>0.0</td>\n",
       "      <td>0.0</td>\n",
       "      <td>0.0</td>\n",
       "      <td>0.0</td>\n",
       "      <td>0.0</td>\n",
       "      <td>...</td>\n",
       "      <td>0.0</td>\n",
       "      <td>0.0</td>\n",
       "      <td>0.0</td>\n",
       "      <td>0.0</td>\n",
       "      <td>0.0</td>\n",
       "      <td>0.0</td>\n",
       "      <td>0.0</td>\n",
       "      <td>0.0</td>\n",
       "      <td>0.0</td>\n",
       "      <td>0.0</td>\n",
       "    </tr>\n",
       "  </tbody>\n",
       "</table>\n",
       "<p>150 rows × 26471 columns</p>\n",
       "</div>"
      ],
      "text/plain": [
       "                                             sample_id  CAAALDKLIF  \\\n",
       "0       FU_VDJTOOLS_.1231_FU_17-8-TCRD_S64_L001_R1.txt         0.0   \n",
       "1    FU_CopyOfVDJTOOLS_.1056_2659_SA74_S74_L001_R1.txt         0.0   \n",
       "2            FU_CopyOfVDJTOOLS_.1124_FU_TCRD_S4_R1.txt         0.0   \n",
       "3         FU_CopyOfVDJTOOLS_.1120_FU-d_S52_L001_R1.txt         0.0   \n",
       "4       FU_VDJTOOLS_.3001_FU_11-6-TCRD_S48_L001_R1.txt         0.0   \n",
       "..                                                 ...         ...   \n",
       "145     BL_VDJTOOLS_.3020_BL_12-3-TCRD_S49_L001_R1.txt         0.0   \n",
       "146  BL_CopyOfVDJTOOLS_.1013_2565_SA82_S82_L001_R1.txt         0.0   \n",
       "147       BL_CopyOfVDJTOOLS_.1121_BL-d_S91_L001_R1.txt         0.0   \n",
       "148  BL_CopyOfVDJTOOLS_.1054_2630_SA69_S69_L001_R1.txt         0.0   \n",
       "149          BL_CopyOfVDJTOOLS_.1122_BL_TCRD_S2_R1.txt         0.0   \n",
       "\n",
       "     CAAAPLPSVGGHTDKLIF  CAAAPSSPVGFQDTNTDKLIF  CAAAQLGVADKLIF  \\\n",
       "0                   0.0                    0.0             0.0   \n",
       "1                   0.0                    0.0             0.0   \n",
       "2                   0.0                    0.0             0.0   \n",
       "3                   0.0                    0.0             0.0   \n",
       "4                   0.0                    0.0             0.0   \n",
       "..                  ...                    ...             ...   \n",
       "145                 0.0                    0.0             0.0   \n",
       "146                 0.0                    0.0             0.0   \n",
       "147                 0.0                    0.0             0.0   \n",
       "148                 0.0                    0.0             0.0   \n",
       "149                 0.0                    0.0             0.0   \n",
       "\n",
       "     CAAARYTRGQYTDKLIF  CAAAVSTDKLIF  CAADRGGIEDKLIF  CAADTVLLGDTGDKLIF  \\\n",
       "0                  0.0           0.0             0.0                0.0   \n",
       "1                  0.0           0.0             0.0                0.0   \n",
       "2                  0.0           0.0             0.0                0.0   \n",
       "3                  0.0           0.0             0.0                0.0   \n",
       "4                  0.0           0.0             0.0                0.0   \n",
       "..                 ...           ...             ...                ...   \n",
       "145                0.0           0.0             0.0                0.0   \n",
       "146                0.0           0.0             0.0                0.0   \n",
       "147                0.0           0.0             0.0                0.0   \n",
       "148                0.0           0.0             0.0                0.0   \n",
       "149                0.0           0.0             0.0                0.0   \n",
       "\n",
       "     CAAEGVVSSWDTRQMFF  ...  YACDVLGDTDKLIF  YACDVLGTRDKLIF  \\\n",
       "0                  0.0  ...             0.0             0.0   \n",
       "1                  0.0  ...             0.0             0.0   \n",
       "2                  0.0  ...             0.0             0.0   \n",
       "3                  0.0  ...             0.0             0.0   \n",
       "4                  0.0  ...             0.0             0.0   \n",
       "..                 ...  ...             ...             ...   \n",
       "145                0.0  ...             0.0             0.0   \n",
       "146                0.0  ...             0.0             0.0   \n",
       "147                0.0  ...             0.0             0.0   \n",
       "148                0.0  ...             0.0             0.0   \n",
       "149                0.0  ...             0.0             0.0   \n",
       "\n",
       "     YACDVLPTERLGDRDKLIF  YAFLFLRYWGKSDKLIF  YAFRFPTSFLWRGKRDTDKLIF  \\\n",
       "0                    0.0                0.0                     0.0   \n",
       "1                    0.0                0.0                     0.0   \n",
       "2                    0.0                0.0                     0.0   \n",
       "3                    0.0                0.0                     0.0   \n",
       "4                    0.0                0.0                     0.0   \n",
       "..                   ...                ...                     ...   \n",
       "145                  0.0                0.0                     0.0   \n",
       "146                  0.0                0.0                     0.0   \n",
       "147                  0.0                0.0                     0.0   \n",
       "148                  0.0                0.0                     0.0   \n",
       "149                  0.0                0.0                     0.0   \n",
       "\n",
       "     YAGRQLGASMYTDKLIF  YALGDTPRTLQGYTDKLIF  YALGELAPKIATPWTDKLIF  \\\n",
       "0                  0.0                  0.0                   0.0   \n",
       "1                  0.0                  0.0                   0.0   \n",
       "2                  0.0                  0.0                   0.0   \n",
       "3                  0.0                  0.0                   0.0   \n",
       "4                  0.0                  0.0                   0.0   \n",
       "..                 ...                  ...                   ...   \n",
       "145                0.0                  0.0                   0.0   \n",
       "146                0.0                  0.0                   0.0   \n",
       "147                0.0                  0.0                   0.0   \n",
       "148                0.0                  0.0                   0.0   \n",
       "149                0.0                  0.0                   0.0   \n",
       "\n",
       "     YALGELRGIQDTDKLIF  YARDKVSTGGDHSTDKLIF  \n",
       "0                  0.0                  0.0  \n",
       "1                  0.0                  0.0  \n",
       "2                  0.0                  0.0  \n",
       "3                  0.0                  0.0  \n",
       "4                  0.0                  0.0  \n",
       "..                 ...                  ...  \n",
       "145                0.0                  0.0  \n",
       "146                0.0                  0.0  \n",
       "147                0.0                  0.0  \n",
       "148                0.0                  0.0  \n",
       "149                0.0                  0.0  \n",
       "\n",
       "[150 rows x 26471 columns]"
      ]
     },
     "execution_count": 16,
     "metadata": {},
     "output_type": "execute_result"
    }
   ],
   "source": [
    "tfidf_df = tfidf_df.reset_index()\n",
    "tfidf_df"
   ]
  },
  {
   "cell_type": "markdown",
   "id": "58c47e10",
   "metadata": {},
   "source": [
    "## 3. Visualizations"
   ]
  },
  {
   "cell_type": "code",
   "execution_count": 74,
   "id": "bf7c581b",
   "metadata": {},
   "outputs": [],
   "source": [
    "colors = ['#f07171']*55 + ['#2a37c7']*29 + ['#f52f2f']*66"
   ]
  },
  {
   "cell_type": "code",
   "execution_count": 75,
   "id": "b9e828a7",
   "metadata": {},
   "outputs": [],
   "source": [
    "X = tfidf_df[tfidf_df.columns[1:]]"
   ]
  },
  {
   "cell_type": "code",
   "execution_count": 76,
   "id": "68986784",
   "metadata": {},
   "outputs": [],
   "source": [
    "sc = StandardScaler()\n",
    "scaler = StandardScaler()\n",
    "scaler.fit(X) \n",
    "\n",
    "X_scaled = scaler.transform(X)"
   ]
  },
  {
   "cell_type": "markdown",
   "id": "69ad30f1",
   "metadata": {},
   "source": [
    "### 3.1 PCA"
   ]
  },
  {
   "cell_type": "code",
   "execution_count": 77,
   "id": "779700ef",
   "metadata": {},
   "outputs": [],
   "source": [
    "pca = decomposition.PCA(n_components=2)\n",
    "pca.fit(X)\n",
    "\n",
    "X_2D = pca.transform(X)"
   ]
  },
  {
   "cell_type": "code",
   "execution_count": 79,
   "id": "26b2a573",
   "metadata": {
    "scrolled": false
   },
   "outputs": [
    {
     "data": {
      "text/plain": [
       "Text(0.5, 1.0, '')"
      ]
     },
     "execution_count": 79,
     "metadata": {},
     "output_type": "execute_result"
    },
    {
     "data": {
      "image/png": "[encoded data removed]",
      "text/plain": [
       "<Figure size 720x576 with 1 Axes>"
      ]
     },
     "metadata": {
      "needs_background": "light"
     },
     "output_type": "display_data"
    }
   ],
   "source": [
    "plt.scatter(X_2D[:, 0], X_2D[:, 1], c=colors)\n",
    "plt.xlabel('PC2')\n",
    "plt.ylabel('PC1')\n",
    "plt.title('')"
   ]
  },
  {
   "cell_type": "code",
   "execution_count": 68,
   "id": "eefa5b2d",
   "metadata": {},
   "outputs": [
    {
     "data": {
      "application/vnd.plotly.v1+json": {
       "config": {
        "plotlyServerURL": "https://plot.ly"
       },
       "data": [
        {
         "hovertemplate": "color=#f07171<br>x=%{x}<br>y=%{y}<br>z=%{z}<extra></extra>",
         "legendgroup": "#f07171",
         "marker": {
          "color": "#636efa",
          "symbol": "circle"
         },
         "mode": "markers",
         "name": "#f07171",
         "scene": "scene",
         "showlegend": true,
         "type": "scatter3d",
         "x": [
          -0.07108898160737698,
          -0.11285259223512503,
          -0.06753632682052961,
          0.49182822154298256,
          -0.05827187757180752,
          -0.018510211969009573,
          0.8825151496026062,
          -0.06765598740934949,
          -0.0790192394725097,
          -0.08201580115248976,
          0.3480560704638077,
          0.08629214714892815,
          -0.13537217529470827,
          -0.08400147674832051,
          0.8819912208354541,
          -0.07106260630102024,
          -0.10760791556399134,
          -0.06704645780261767,
          0.02539323021989137,
          -0.05600839228727341,
          -0.15041775683031855,
          0.04195578250436127,
          -0.06977978627576921,
          -0.1381550548809236,
          -0.07512845022714801,
          -0.07707085217785836,
          -0.06952137670682688,
          -0.056347665628996374,
          -0.060000807704591555,
          -0.1367631205919709,
          0.03839939637201136,
          -0.07140534847303076,
          -0.03771913631386122,
          -0.15198005369429327,
          0.7904219599516036,
          -0.0724581283693591,
          -0.11960887188487525,
          -0.061276732116787705,
          -0.04819617024030103,
          -0.07092041726174453,
          0.31047620627656075,
          -0.05028802740752902,
          -0.07059556097498966,
          0.5851721717206276,
          -0.07748687782363398,
          -0.09487791201555933,
          -0.07826305574669909,
          -0.007378625406645198,
          -0.0617913340575435,
          -0.033827433820166675,
          -0.08160653345379407,
          -0.05492067725722588,
          0.4836219196902648,
          -0.07155121288855186,
          -0.1338710975928606
         ],
         "y": [
          -0.030915236096538262,
          -0.09144876063264626,
          -0.0214697375762989,
          0.21270777953454734,
          -0.021438477733221255,
          0.027746343382846716,
          -0.15414257300509132,
          -0.03478088256028665,
          -0.046311660839120035,
          -0.054271634372018505,
          0.04530503267427949,
          0.18245523175871683,
          -0.1511151754514089,
          -0.04779777371302987,
          -0.19803855810027268,
          -0.030430720144179028,
          -0.06321600590043074,
          -0.03552550655697864,
          0.36684415527279873,
          -0.012668470450579804,
          -0.17366568373017063,
          0.7635347524236774,
          -0.030746044836356894,
          -0.1515151861339463,
          -0.03830187264809468,
          -0.037857598789398345,
          -0.029568132821748534,
          -0.016631681381275187,
          -0.025659675341194326,
          -0.142905164093279,
          0.5473797128920149,
          -0.029662714850899954,
          0.04855062922325209,
          -0.18895957547587325,
          -0.29132340474684565,
          -0.03401490363360781,
          -0.08678850780035943,
          -0.023935963600156023,
          0.08426749236741032,
          -0.018239755180412712,
          0.2914591454593456,
          0.003873386597045604,
          -0.03070292207931838,
          -0.19892566728901628,
          -0.032223312238700334,
          -0.07035744690815625,
          -0.04022138325695479,
          0.3657076776070327,
          -0.022360150333859786,
          0.09960805970950513,
          -0.06110530547374115,
          0.061860673164240806,
          -0.30843429151217844,
          -0.03143360664173649,
          -0.14242404451220989
         ],
         "z": [
          -0.056674677415696074,
          0.10236784116465866,
          -0.07625793557934782,
          0.19460016263087096,
          -0.03686749898063412,
          -0.008337487977175952,
          0.032702407062831236,
          -0.00108756192793467,
          0.0076054124054767734,
          0.05090280415294918,
          0.07940725594418406,
          0.048295363248351875,
          0.4328097552072158,
          -0.036377395150154944,
          -0.0025323350743033653,
          -0.05317267976027766,
          -0.2998187393556332,
          0.01240438982825937,
          0.013249737659032054,
          -0.039655001982016,
          0.5281961229730849,
          0.030222744319793594,
          -0.06243438654513222,
          0.42860887797758984,
          -0.04491991263353223,
          -0.030789071206154067,
          -0.06400396422091546,
          -0.03566979901774347,
          -0.016368481868894374,
          0.35488877972153327,
          0.029076736588799258,
          -0.051079389296304296,
          -0.02327786071193034,
          0.6336405811815582,
          -0.0701307310083294,
          -0.03471126344131384,
          -0.36201477147552175,
          -0.042016001676141015,
          -0.027421187948432055,
          -0.07108053919899833,
          0.15118064045994717,
          -0.24072145771296935,
          -0.06156286721449927,
          -0.05589471251436789,
          -0.0805770974272708,
          0.04919789347926791,
          -0.05464493268646776,
          0.0010301729224468951,
          -0.042843417675075754,
          -0.041144811887621875,
          0.10765522280265112,
          -0.04635318893428725,
          -0.20423522763463836,
          -0.04346255348097433,
          0.35606767592783556
         ]
        },
        {
         "hovertemplate": "color=#2a37c7<br>x=%{x}<br>y=%{y}<br>z=%{z}<extra></extra>",
         "legendgroup": "#2a37c7",
         "marker": {
          "color": "#EF553B",
          "symbol": "circle"
         },
         "mode": "markers",
         "name": "#2a37c7",
         "scene": "scene",
         "showlegend": true,
         "type": "scatter3d",
         "x": [
          -0.05805132692855414,
          -0.054317112523335584,
          -0.056928367808220914,
          -0.10342894310443516,
          -0.05726937823289126,
          -0.05722845814141679,
          -0.05870343145260458,
          -0.05769623237677957,
          -0.05742741535108804,
          -0.05797304737836378,
          -0.05267256283942636,
          -0.05743447392125455,
          -0.05758950690732989,
          -0.05738479549653484,
          -0.0993729425391516,
          -0.05903251279142507,
          -0.055405772196692224,
          -0.057577693190780786,
          -0.059294867868250195,
          -0.057049930020886264,
          -0.05756184628255503,
          -0.05789521066009792,
          -0.059025324324805666,
          -0.056092462358500975,
          -0.05748643924818802,
          -0.05742179026554566,
          -0.05732046614681232,
          -0.05752267254076861,
          -0.05754624128803714
         ],
         "y": [
          -0.02125817098066002,
          0.006610232276113652,
          -0.015049151651340624,
          -0.08731954475212354,
          -0.014313014653763365,
          -0.02013227624380862,
          -0.022011131804605347,
          -0.021002429278273733,
          -0.01887852757783168,
          -0.015513400028638727,
          -0.007793558331072862,
          -0.019225853212776256,
          -0.016841292525664048,
          -0.019622389766411973,
          -0.08150487984470248,
          -0.018540899197100915,
          -0.01239520385939686,
          -0.021045770452988447,
          -0.022794837564049243,
          -0.016579933939764164,
          -0.019738005186672628,
          -0.021296157889316335,
          -0.02142242826324533,
          -0.013043401408098211,
          -0.019603666898615195,
          -0.0196747798163456,
          -0.019850426788719688,
          -0.019874830040346177,
          -0.020785480588409892
         ],
         "z": [
          -0.03767804636640027,
          -0.03648541635987678,
          -0.038883825410607725,
          0.13084328778205578,
          -0.04422894939560286,
          -0.03512454681134988,
          -0.036046930055302705,
          -0.036131675201436085,
          -0.035294272906749136,
          -0.040787631869800174,
          -0.03195690663413525,
          -0.03654890103277205,
          -0.03385590311023985,
          -0.038275871078928554,
          0.12061625101947272,
          -0.03800423979871495,
          -0.03556711508754514,
          -0.03570345606859933,
          -0.034348765709563696,
          -0.0357914953523411,
          -0.034956251364294345,
          -0.036194422212176704,
          -0.04133202903455509,
          -0.03447025646464755,
          -0.035233206755410744,
          -0.03655076657793954,
          -0.035653802124312045,
          -0.03576760482360802,
          -0.03536812681558034
         ]
        },
        {
         "hovertemplate": "color=#f52f2f<br>x=%{x}<br>y=%{y}<br>z=%{z}<extra></extra>",
         "legendgroup": "#f52f2f",
         "marker": {
          "color": "#00cc96",
          "symbol": "circle"
         },
         "mode": "markers",
         "name": "#f52f2f",
         "scene": "scene",
         "showlegend": true,
         "type": "scatter3d",
         "x": [
          -0.07184628093040911,
          0.04168550495430917,
          0.4607739040707677,
          -0.057717242821022814,
          -0.06056933765315793,
          -0.0888404152636419,
          -0.08088668481613244,
          0.46609257959708944,
          0.007783117572377931,
          -0.07316113568946925,
          -0.07150816298823581,
          -0.058767760269181867,
          0.021919795455879305,
          -0.12172649939537743,
          -0.07653816669992962,
          0.5074776315162138,
          -0.07152086547702424,
          -0.11391096009857271,
          -0.06987828585900091,
          0.743727241699847,
          -0.07324231481706807,
          -0.054239770158080625,
          0.031736196774419016,
          -0.07025080606810621,
          -0.120125054926026,
          -0.0707658337659857,
          -0.14200498890075872,
          0.026210285006726147,
          -0.0764268174977962,
          -0.07110678318872672,
          -0.07110772434780703,
          -0.1196286724932982,
          -0.07819660123668319,
          -0.05665767246931494,
          -0.07470844774247874,
          0.04179153438630617,
          -0.07674487323071955,
          -0.05669089126088718,
          0.0017678347571392652,
          -0.06561870325971977,
          0.5522718990585646,
          -0.05785512745947746,
          -0.07384459729268437,
          -0.06722279587830933,
          -0.057538822655644625,
          -0.11759842399254136,
          -0.0707571906573639,
          0.8313712151513322,
          -0.0574522154679405,
          -0.05812542204516368,
          -0.057847098771861956,
          -0.07857915494153811,
          -0.14525870047822648,
          -0.06446333066788172,
          -0.07030313336900385,
          -0.05848940051077723,
          -0.05707908486397761,
          -0.07663255562123464,
          -0.07469068240235892,
          -0.06000677235729874,
          0.3165093576691991,
          -0.06132156036572225,
          -0.05842397112277471,
          -0.06957221876830465,
          -0.06172554657244512,
          -0.05709667016740917
         ],
         "y": [
          -0.03132016378205964,
          0.7417824895652323,
          0.17095474901581442,
          -0.021009545273606565,
          -0.023463960289152284,
          -0.06581593829144863,
          -0.05238727063426984,
          0.3170749478270323,
          0.47501625457977226,
          -0.03730148543045203,
          -0.029666005988684584,
          -0.022484273430909463,
          -0.06614188266902912,
          -0.10375456572226774,
          -0.046829481702239134,
          0.16131803241091963,
          -0.04165128810021509,
          -0.10494778594266195,
          -0.030386051447296086,
          -0.3216059956475268,
          -0.03370527545093344,
          -0.06563333498848192,
          0.054546471793037336,
          -0.030150434622659983,
          -0.08496917882949777,
          -0.030717410872405263,
          -0.1721148607181321,
          0.6192933531725063,
          -0.04039786933122258,
          -0.04166837355753551,
          -0.03050396945902361,
          -0.08500375736711718,
          -0.04014194888114121,
          -0.0725122946254554,
          -0.03769301915063458,
          0.732044130599145,
          -0.032703649366937475,
          -0.020943430693228512,
          0.37896512997649473,
          -0.03583549735692605,
          0.28158645923303777,
          -0.021260530364787627,
          -0.03862563075672041,
          -0.028334607352924854,
          -0.021355125786304874,
          -0.11291747355891152,
          -0.016608082548985117,
          -0.26402866770245603,
          -0.02033834739811098,
          -0.021346622232242353,
          -0.020378660787917023,
          -0.05560309531443859,
          -0.17493391027202113,
          -0.03257457084198239,
          -0.03058926379820152,
          -0.021639584890196243,
          -0.018064248468954706,
          -0.04991486432930209,
          -0.027362955208614106,
          -0.024587363776928873,
          -0.12870957766649901,
          -0.018918036677533872,
          -0.022593327993719936,
          -0.029199766511684457,
          -0.027663763329649226,
          -0.06083763433724965
         ],
         "z": [
          -0.042005150559999094,
          0.03489892950204014,
          0.1379954399134924,
          -0.03578220571079562,
          -0.04153951388086125,
          0.059312523883365977,
          0.037489244292576086,
          0.20330336670603075,
          0.013691425443240634,
          -0.018644761440203647,
          -0.05122119272244017,
          -0.03570465355573943,
          -0.08370784449244127,
          0.1918732313596632,
          0.0011228607640736076,
          0.1752412702518719,
          0.021596584398833937,
          0.19724203099599832,
          -0.060939948328562595,
          -0.09875316217974868,
          -0.022707210600634832,
          -0.26466670269513837,
          0.032265050975277626,
          -0.05571004588281812,
          -0.36765335076281064,
          -0.061939939763769165,
          0.5771190023520618,
          0.02239283726631553,
          -0.038158050435233126,
          0.025876725358899462,
          -0.05321400160218799,
          -0.3709518015131346,
          -0.05496726281123715,
          -0.31573471214445553,
          -0.04645686419523676,
          0.015889500683460064,
          -0.08155148939694387,
          -0.028828948597785075,
          0.011848459717598068,
          0.02384742639078854,
          0.19555973803292168,
          -0.03599142341912771,
          -0.10006725421813785,
          -0.08393350494091993,
          -0.03673718849747799,
          0.2765522992210689,
          -0.07243159093731488,
          -0.047392107623871756,
          -0.03540196691346321,
          -0.03656896640711983,
          -0.03581517088281999,
          0.065857707177915,
          0.5763634757498693,
          0.003393159417051825,
          -0.04558172988610196,
          -0.03689715057574094,
          -0.03554175000054001,
          0.047968333653063265,
          -0.07785950543888515,
          -0.020165856238541106,
          -0.04584405638977564,
          -0.04651026081162858,
          -0.02945826732382876,
          -0.06526733378167736,
          -0.0063792788783805605,
          -0.31520820848663234
         ]
        }
       ],
       "layout": {
        "legend": {
         "title": {
          "text": "color"
         },
         "tracegroupgap": 0
        },
        "margin": {
         "t": 60
        },
        "scene": {
         "domain": {
          "x": [
           0,
           1
          ],
          "y": [
           0,
           1
          ]
         },
         "xaxis": {
          "title": {
           "text": "x"
          }
         },
         "yaxis": {
          "title": {
           "text": "y"
          }
         },
         "zaxis": {
          "title": {
           "text": "z"
          }
         }
        },
        "template": {
         "data": {
          "bar": [
           {
            "error_x": {
             "color": "#2a3f5f"
            },
            "error_y": {
             "color": "#2a3f5f"
            },
            "marker": {
             "line": {
              "color": "#E5ECF6",
              "width": 0.5
             },
             "pattern": {
              "fillmode": "overlay",
              "size": 10,
              "solidity": 0.2
             }
            },
            "type": "bar"
           }
          ],
          "barpolar": [
           {
            "marker": {
             "line": {
              "color": "#E5ECF6",
              "width": 0.5
             },
             "pattern": {
              "fillmode": "overlay",
              "size": 10,
              "solidity": 0.2
             }
            },
            "type": "barpolar"
           }
          ],
          "carpet": [
           {
            "aaxis": {
             "endlinecolor": "#2a3f5f",
             "gridcolor": "white",
             "linecolor": "white",
             "minorgridcolor": "white",
             "startlinecolor": "#2a3f5f"
            },
            "baxis": {
             "endlinecolor": "#2a3f5f",
             "gridcolor": "white",
             "linecolor": "white",
             "minorgridcolor": "white",
             "startlinecolor": "#2a3f5f"
            },
            "type": "carpet"
           }
          ],
          "choropleth": [
           {
            "colorbar": {
             "outlinewidth": 0,
             "ticks": ""
            },
            "type": "choropleth"
           }
          ],
          "contour": [
           {
            "colorbar": {
             "outlinewidth": 0,
             "ticks": ""
            },
            "colorscale": [
             [
              0,
              "#0d0887"
             ],
             [
              0.1111111111111111,
              "#46039f"
             ],
             [
              0.2222222222222222,
              "#7201a8"
             ],
             [
              0.3333333333333333,
              "#9c179e"
             ],
             [
              0.4444444444444444,
              "#bd3786"
             ],
             [
              0.5555555555555556,
              "#d8576b"
             ],
             [
              0.6666666666666666,
              "#ed7953"
             ],
             [
              0.7777777777777778,
              "#fb9f3a"
             ],
             [
              0.8888888888888888,
              "#fdca26"
             ],
             [
              1,
              "#f0f921"
             ]
            ],
            "type": "contour"
           }
          ],
          "contourcarpet": [
           {
            "colorbar": {
             "outlinewidth": 0,
             "ticks": ""
            },
            "type": "contourcarpet"
           }
          ],
          "heatmap": [
           {
            "colorbar": {
             "outlinewidth": 0,
             "ticks": ""
            },
            "colorscale": [
             [
              0,
              "#0d0887"
             ],
             [
              0.1111111111111111,
              "#46039f"
             ],
             [
              0.2222222222222222,
              "#7201a8"
             ],
             [
              0.3333333333333333,
              "#9c179e"
             ],
             [
              0.4444444444444444,
              "#bd3786"
             ],
             [
              0.5555555555555556,
              "#d8576b"
             ],
             [
              0.6666666666666666,
              "#ed7953"
             ],
             [
              0.7777777777777778,
              "#fb9f3a"
             ],
             [
              0.8888888888888888,
              "#fdca26"
             ],
             [
              1,
              "#f0f921"
             ]
            ],
            "type": "heatmap"
           }
          ],
          "heatmapgl": [
           {
            "colorbar": {
             "outlinewidth": 0,
             "ticks": ""
            },
            "colorscale": [
             [
              0,
              "#0d0887"
             ],
             [
              0.1111111111111111,
              "#46039f"
             ],
             [
              0.2222222222222222,
              "#7201a8"
             ],
             [
              0.3333333333333333,
              "#9c179e"
             ],
             [
              0.4444444444444444,
              "#bd3786"
             ],
             [
              0.5555555555555556,
              "#d8576b"
             ],
             [
              0.6666666666666666,
              "#ed7953"
             ],
             [
              0.7777777777777778,
              "#fb9f3a"
             ],
             [
              0.8888888888888888,
              "#fdca26"
             ],
             [
              1,
              "#f0f921"
             ]
            ],
            "type": "heatmapgl"
           }
          ],
          "histogram": [
           {
            "marker": {
             "pattern": {
              "fillmode": "overlay",
              "size": 10,
              "solidity": 0.2
             }
            },
            "type": "histogram"
           }
          ],
          "histogram2d": [
           {
            "colorbar": {
             "outlinewidth": 0,
             "ticks": ""
            },
            "colorscale": [
             [
              0,
              "#0d0887"
             ],
             [
              0.1111111111111111,
              "#46039f"
             ],
             [
              0.2222222222222222,
              "#7201a8"
             ],
             [
              0.3333333333333333,
              "#9c179e"
             ],
             [
              0.4444444444444444,
              "#bd3786"
             ],
             [
              0.5555555555555556,
              "#d8576b"
             ],
             [
              0.6666666666666666,
              "#ed7953"
             ],
             [
              0.7777777777777778,
              "#fb9f3a"
             ],
             [
              0.8888888888888888,
              "#fdca26"
             ],
             [
              1,
              "#f0f921"
             ]
            ],
            "type": "histogram2d"
           }
          ],
          "histogram2dcontour": [
           {
            "colorbar": {
             "outlinewidth": 0,
             "ticks": ""
            },
            "colorscale": [
             [
              0,
              "#0d0887"
             ],
             [
              0.1111111111111111,
              "#46039f"
             ],
             [
              0.2222222222222222,
              "#7201a8"
             ],
             [
              0.3333333333333333,
              "#9c179e"
             ],
             [
              0.4444444444444444,
              "#bd3786"
             ],
             [
              0.5555555555555556,
              "#d8576b"
             ],
             [
              0.6666666666666666,
              "#ed7953"
             ],
             [
              0.7777777777777778,
              "#fb9f3a"
             ],
             [
              0.8888888888888888,
              "#fdca26"
             ],
             [
              1,
              "#f0f921"
             ]
            ],
            "type": "histogram2dcontour"
           }
          ],
          "mesh3d": [
           {
            "colorbar": {
             "outlinewidth": 0,
             "ticks": ""
            },
            "type": "mesh3d"
           }
          ],
          "parcoords": [
           {
            "line": {
             "colorbar": {
              "outlinewidth": 0,
              "ticks": ""
             }
            },
            "type": "parcoords"
           }
          ],
          "pie": [
           {
            "automargin": true,
            "type": "pie"
           }
          ],
          "scatter": [
           {
            "fillpattern": {
             "fillmode": "overlay",
             "size": 10,
             "solidity": 0.2
            },
            "type": "scatter"
           }
          ],
          "scatter3d": [
           {
            "line": {
             "colorbar": {
              "outlinewidth": 0,
              "ticks": ""
             }
            },
            "marker": {
             "colorbar": {
              "outlinewidth": 0,
              "ticks": ""
             }
            },
            "type": "scatter3d"
           }
          ],
          "scattercarpet": [
           {
            "marker": {
             "colorbar": {
              "outlinewidth": 0,
              "ticks": ""
             }
            },
            "type": "scattercarpet"
           }
          ],
          "scattergeo": [
           {
            "marker": {
             "colorbar": {
              "outlinewidth": 0,
              "ticks": ""
             }
            },
            "type": "scattergeo"
           }
          ],
          "scattergl": [
           {
            "marker": {
             "colorbar": {
              "outlinewidth": 0,
              "ticks": ""
             }
            },
            "type": "scattergl"
           }
          ],
          "scattermapbox": [
           {
            "marker": {
             "colorbar": {
              "outlinewidth": 0,
              "ticks": ""
             }
            },
            "type": "scattermapbox"
           }
          ],
          "scatterpolar": [
           {
            "marker": {
             "colorbar": {
              "outlinewidth": 0,
              "ticks": ""
             }
            },
            "type": "scatterpolar"
           }
          ],
          "scatterpolargl": [
           {
            "marker": {
             "colorbar": {
              "outlinewidth": 0,
              "ticks": ""
             }
            },
            "type": "scatterpolargl"
           }
          ],
          "scatterternary": [
           {
            "marker": {
             "colorbar": {
              "outlinewidth": 0,
              "ticks": ""
             }
            },
            "type": "scatterternary"
           }
          ],
          "surface": [
           {
            "colorbar": {
             "outlinewidth": 0,
             "ticks": ""
            },
            "colorscale": [
             [
              0,
              "#0d0887"
             ],
             [
              0.1111111111111111,
              "#46039f"
             ],
             [
              0.2222222222222222,
              "#7201a8"
             ],
             [
              0.3333333333333333,
              "#9c179e"
             ],
             [
              0.4444444444444444,
              "#bd3786"
             ],
             [
              0.5555555555555556,
              "#d8576b"
             ],
             [
              0.6666666666666666,
              "#ed7953"
             ],
             [
              0.7777777777777778,
              "#fb9f3a"
             ],
             [
              0.8888888888888888,
              "#fdca26"
             ],
             [
              1,
              "#f0f921"
             ]
            ],
            "type": "surface"
           }
          ],
          "table": [
           {
            "cells": {
             "fill": {
              "color": "#EBF0F8"
             },
             "line": {
              "color": "white"
             }
            },
            "header": {
             "fill": {
              "color": "#C8D4E3"
             },
             "line": {
              "color": "white"
             }
            },
            "type": "table"
           }
          ]
         },
         "layout": {
          "annotationdefaults": {
           "arrowcolor": "#2a3f5f",
           "arrowhead": 0,
           "arrowwidth": 1
          },
          "autotypenumbers": "strict",
          "coloraxis": {
           "colorbar": {
            "outlinewidth": 0,
            "ticks": ""
           }
          },
          "colorscale": {
           "diverging": [
            [
             0,
             "#8e0152"
            ],
            [
             0.1,
             "#c51b7d"
            ],
            [
             0.2,
             "#de77ae"
            ],
            [
             0.3,
             "#f1b6da"
            ],
            [
             0.4,
             "#fde0ef"
            ],
            [
             0.5,
             "#f7f7f7"
            ],
            [
             0.6,
             "#e6f5d0"
            ],
            [
             0.7,
             "#b8e186"
            ],
            [
             0.8,
             "#7fbc41"
            ],
            [
             0.9,
             "#4d9221"
            ],
            [
             1,
             "#276419"
            ]
           ],
           "sequential": [
            [
             0,
             "#0d0887"
            ],
            [
             0.1111111111111111,
             "#46039f"
            ],
            [
             0.2222222222222222,
             "#7201a8"
            ],
            [
             0.3333333333333333,
             "#9c179e"
            ],
            [
             0.4444444444444444,
             "#bd3786"
            ],
            [
             0.5555555555555556,
             "#d8576b"
            ],
            [
             0.6666666666666666,
             "#ed7953"
            ],
            [
             0.7777777777777778,
             "#fb9f3a"
            ],
            [
             0.8888888888888888,
             "#fdca26"
            ],
            [
             1,
             "#f0f921"
            ]
           ],
           "sequentialminus": [
            [
             0,
             "#0d0887"
            ],
            [
             0.1111111111111111,
             "#46039f"
            ],
            [
             0.2222222222222222,
             "#7201a8"
            ],
            [
             0.3333333333333333,
             "#9c179e"
            ],
            [
             0.4444444444444444,
             "#bd3786"
            ],
            [
             0.5555555555555556,
             "#d8576b"
            ],
            [
             0.6666666666666666,
             "#ed7953"
            ],
            [
             0.7777777777777778,
             "#fb9f3a"
            ],
            [
             0.8888888888888888,
             "#fdca26"
            ],
            [
             1,
             "#f0f921"
            ]
           ]
          },
          "colorway": [
           "#636efa",
           "#EF553B",
           "#00cc96",
           "#ab63fa",
           "#FFA15A",
           "#19d3f3",
           "#FF6692",
           "#B6E880",
           "#FF97FF",
           "#FECB52"
          ],
          "font": {
           "color": "#2a3f5f"
          },
          "geo": {
           "bgcolor": "white",
           "lakecolor": "white",
           "landcolor": "#E5ECF6",
           "showlakes": true,
           "showland": true,
           "subunitcolor": "white"
          },
          "hoverlabel": {
           "align": "left"
          },
          "hovermode": "closest",
          "mapbox": {
           "style": "light"
          },
          "paper_bgcolor": "white",
          "plot_bgcolor": "#E5ECF6",
          "polar": {
           "angularaxis": {
            "gridcolor": "white",
            "linecolor": "white",
            "ticks": ""
           },
           "bgcolor": "#E5ECF6",
           "radialaxis": {
            "gridcolor": "white",
            "linecolor": "white",
            "ticks": ""
           }
          },
          "scene": {
           "xaxis": {
            "backgroundcolor": "#E5ECF6",
            "gridcolor": "white",
            "gridwidth": 2,
            "linecolor": "white",
            "showbackground": true,
            "ticks": "",
            "zerolinecolor": "white"
           },
           "yaxis": {
            "backgroundcolor": "#E5ECF6",
            "gridcolor": "white",
            "gridwidth": 2,
            "linecolor": "white",
            "showbackground": true,
            "ticks": "",
            "zerolinecolor": "white"
           },
           "zaxis": {
            "backgroundcolor": "#E5ECF6",
            "gridcolor": "white",
            "gridwidth": 2,
            "linecolor": "white",
            "showbackground": true,
            "ticks": "",
            "zerolinecolor": "white"
           }
          },
          "shapedefaults": {
           "line": {
            "color": "#2a3f5f"
           }
          },
          "ternary": {
           "aaxis": {
            "gridcolor": "white",
            "linecolor": "white",
            "ticks": ""
           },
           "baxis": {
            "gridcolor": "white",
            "linecolor": "white",
            "ticks": ""
           },
           "bgcolor": "#E5ECF6",
           "caxis": {
            "gridcolor": "white",
            "linecolor": "white",
            "ticks": ""
           }
          },
          "title": {
           "x": 0.05
          },
          "xaxis": {
           "automargin": true,
           "gridcolor": "white",
           "linecolor": "white",
           "ticks": "",
           "title": {
            "standoff": 15
           },
           "zerolinecolor": "white",
           "zerolinewidth": 2
          },
          "yaxis": {
           "automargin": true,
           "gridcolor": "white",
           "linecolor": "white",
           "ticks": "",
           "title": {
            "standoff": 15
           },
           "zerolinecolor": "white",
           "zerolinewidth": 2
          }
         }
        }
       }
      },
      "text/html": [
       "<div>                            <div id=\"1cf4718e-fd74-463d-a2ef-8e76611a9d4f\" class=\"plotly-graph-div\" style=\"height:525px; width:100%;\"></div>            <script type=\"text/javascript\">                require([\"plotly\"], function(Plotly) {                    window.PLOTLYENV=window.PLOTLYENV || {};                                    if (document.getElementById(\"1cf4718e-fd74-463d-a2ef-8e76611a9d4f\")) {                    Plotly.newPlot(                        \"1cf4718e-fd74-463d-a2ef-8e76611a9d4f\",                        [{\"hovertemplate\":\"color=#f07171<br>x=%{x}<br>y=%{y}<br>z=%{z}<extra></extra>\",\"legendgroup\":\"#f07171\",\"marker\":{\"color\":\"#636efa\",\"symbol\":\"circle\"},\"mode\":\"markers\",\"name\":\"#f07171\",\"scene\":\"scene\",\"showlegend\":true,\"x\":[-0.07108898160737698,-0.11285259223512503,-0.06753632682052961,0.49182822154298256,-0.05827187757180752,-0.018510211969009573,0.8825151496026062,-0.06765598740934949,-0.0790192394725097,-0.08201580115248976,0.3480560704638077,0.08629214714892815,-0.13537217529470827,-0.08400147674832051,0.8819912208354541,-0.07106260630102024,-0.10760791556399134,-0.06704645780261767,0.02539323021989137,-0.05600839228727341,-0.15041775683031855,0.04195578250436127,-0.06977978627576921,-0.1381550548809236,-0.07512845022714801,-0.07707085217785836,-0.06952137670682688,-0.056347665628996374,-0.060000807704591555,-0.1367631205919709,0.03839939637201136,-0.07140534847303076,-0.03771913631386122,-0.15198005369429327,0.7904219599516036,-0.0724581283693591,-0.11960887188487525,-0.061276732116787705,-0.04819617024030103,-0.07092041726174453,0.31047620627656075,-0.05028802740752902,-0.07059556097498966,0.5851721717206276,-0.07748687782363398,-0.09487791201555933,-0.07826305574669909,-0.007378625406645198,-0.0617913340575435,-0.033827433820166675,-0.08160653345379407,-0.05492067725722588,0.4836219196902648,-0.07155121288855186,-0.1338710975928606],\"y\":[-0.030915236096538262,-0.09144876063264626,-0.0214697375762989,0.21270777953454734,-0.021438477733221255,0.027746343382846716,-0.15414257300509132,-0.03478088256028665,-0.046311660839120035,-0.054271634372018505,0.04530503267427949,0.18245523175871683,-0.1511151754514089,-0.04779777371302987,-0.19803855810027268,-0.030430720144179028,-0.06321600590043074,-0.03552550655697864,0.36684415527279873,-0.012668470450579804,-0.17366568373017063,0.7635347524236774,-0.030746044836356894,-0.1515151861339463,-0.03830187264809468,-0.037857598789398345,-0.029568132821748534,-0.016631681381275187,-0.025659675341194326,-0.142905164093279,0.5473797128920149,-0.029662714850899954,0.04855062922325209,-0.18895957547587325,-0.29132340474684565,-0.03401490363360781,-0.08678850780035943,-0.023935963600156023,0.08426749236741032,-0.018239755180412712,0.2914591454593456,0.003873386597045604,-0.03070292207931838,-0.19892566728901628,-0.032223312238700334,-0.07035744690815625,-0.04022138325695479,0.3657076776070327,-0.022360150333859786,0.09960805970950513,-0.06110530547374115,0.061860673164240806,-0.30843429151217844,-0.03143360664173649,-0.14242404451220989],\"z\":[-0.056674677415696074,0.10236784116465866,-0.07625793557934782,0.19460016263087096,-0.03686749898063412,-0.008337487977175952,0.032702407062831236,-0.00108756192793467,0.0076054124054767734,0.05090280415294918,0.07940725594418406,0.048295363248351875,0.4328097552072158,-0.036377395150154944,-0.0025323350743033653,-0.05317267976027766,-0.2998187393556332,0.01240438982825937,0.013249737659032054,-0.039655001982016,0.5281961229730849,0.030222744319793594,-0.06243438654513222,0.42860887797758984,-0.04491991263353223,-0.030789071206154067,-0.06400396422091546,-0.03566979901774347,-0.016368481868894374,0.35488877972153327,0.029076736588799258,-0.051079389296304296,-0.02327786071193034,0.6336405811815582,-0.0701307310083294,-0.03471126344131384,-0.36201477147552175,-0.042016001676141015,-0.027421187948432055,-0.07108053919899833,0.15118064045994717,-0.24072145771296935,-0.06156286721449927,-0.05589471251436789,-0.0805770974272708,0.04919789347926791,-0.05464493268646776,0.0010301729224468951,-0.042843417675075754,-0.041144811887621875,0.10765522280265112,-0.04635318893428725,-0.20423522763463836,-0.04346255348097433,0.35606767592783556],\"type\":\"scatter3d\"},{\"hovertemplate\":\"color=#2a37c7<br>x=%{x}<br>y=%{y}<br>z=%{z}<extra></extra>\",\"legendgroup\":\"#2a37c7\",\"marker\":{\"color\":\"#EF553B\",\"symbol\":\"circle\"},\"mode\":\"markers\",\"name\":\"#2a37c7\",\"scene\":\"scene\",\"showlegend\":true,\"x\":[-0.05805132692855414,-0.054317112523335584,-0.056928367808220914,-0.10342894310443516,-0.05726937823289126,-0.05722845814141679,-0.05870343145260458,-0.05769623237677957,-0.05742741535108804,-0.05797304737836378,-0.05267256283942636,-0.05743447392125455,-0.05758950690732989,-0.05738479549653484,-0.0993729425391516,-0.05903251279142507,-0.055405772196692224,-0.057577693190780786,-0.059294867868250195,-0.057049930020886264,-0.05756184628255503,-0.05789521066009792,-0.059025324324805666,-0.056092462358500975,-0.05748643924818802,-0.05742179026554566,-0.05732046614681232,-0.05752267254076861,-0.05754624128803714],\"y\":[-0.02125817098066002,0.006610232276113652,-0.015049151651340624,-0.08731954475212354,-0.014313014653763365,-0.02013227624380862,-0.022011131804605347,-0.021002429278273733,-0.01887852757783168,-0.015513400028638727,-0.007793558331072862,-0.019225853212776256,-0.016841292525664048,-0.019622389766411973,-0.08150487984470248,-0.018540899197100915,-0.01239520385939686,-0.021045770452988447,-0.022794837564049243,-0.016579933939764164,-0.019738005186672628,-0.021296157889316335,-0.02142242826324533,-0.013043401408098211,-0.019603666898615195,-0.0196747798163456,-0.019850426788719688,-0.019874830040346177,-0.020785480588409892],\"z\":[-0.03767804636640027,-0.03648541635987678,-0.038883825410607725,0.13084328778205578,-0.04422894939560286,-0.03512454681134988,-0.036046930055302705,-0.036131675201436085,-0.035294272906749136,-0.040787631869800174,-0.03195690663413525,-0.03654890103277205,-0.03385590311023985,-0.038275871078928554,0.12061625101947272,-0.03800423979871495,-0.03556711508754514,-0.03570345606859933,-0.034348765709563696,-0.0357914953523411,-0.034956251364294345,-0.036194422212176704,-0.04133202903455509,-0.03447025646464755,-0.035233206755410744,-0.03655076657793954,-0.035653802124312045,-0.03576760482360802,-0.03536812681558034],\"type\":\"scatter3d\"},{\"hovertemplate\":\"color=#f52f2f<br>x=%{x}<br>y=%{y}<br>z=%{z}<extra></extra>\",\"legendgroup\":\"#f52f2f\",\"marker\":{\"color\":\"#00cc96\",\"symbol\":\"circle\"},\"mode\":\"markers\",\"name\":\"#f52f2f\",\"scene\":\"scene\",\"showlegend\":true,\"x\":[-0.07184628093040911,0.04168550495430917,0.4607739040707677,-0.057717242821022814,-0.06056933765315793,-0.0888404152636419,-0.08088668481613244,0.46609257959708944,0.007783117572377931,-0.07316113568946925,-0.07150816298823581,-0.058767760269181867,0.021919795455879305,-0.12172649939537743,-0.07653816669992962,0.5074776315162138,-0.07152086547702424,-0.11391096009857271,-0.06987828585900091,0.743727241699847,-0.07324231481706807,-0.054239770158080625,0.031736196774419016,-0.07025080606810621,-0.120125054926026,-0.0707658337659857,-0.14200498890075872,0.026210285006726147,-0.0764268174977962,-0.07110678318872672,-0.07110772434780703,-0.1196286724932982,-0.07819660123668319,-0.05665767246931494,-0.07470844774247874,0.04179153438630617,-0.07674487323071955,-0.05669089126088718,0.0017678347571392652,-0.06561870325971977,0.5522718990585646,-0.05785512745947746,-0.07384459729268437,-0.06722279587830933,-0.057538822655644625,-0.11759842399254136,-0.0707571906573639,0.8313712151513322,-0.0574522154679405,-0.05812542204516368,-0.057847098771861956,-0.07857915494153811,-0.14525870047822648,-0.06446333066788172,-0.07030313336900385,-0.05848940051077723,-0.05707908486397761,-0.07663255562123464,-0.07469068240235892,-0.06000677235729874,0.3165093576691991,-0.06132156036572225,-0.05842397112277471,-0.06957221876830465,-0.06172554657244512,-0.05709667016740917],\"y\":[-0.03132016378205964,0.7417824895652323,0.17095474901581442,-0.021009545273606565,-0.023463960289152284,-0.06581593829144863,-0.05238727063426984,0.3170749478270323,0.47501625457977226,-0.03730148543045203,-0.029666005988684584,-0.022484273430909463,-0.06614188266902912,-0.10375456572226774,-0.046829481702239134,0.16131803241091963,-0.04165128810021509,-0.10494778594266195,-0.030386051447296086,-0.3216059956475268,-0.03370527545093344,-0.06563333498848192,0.054546471793037336,-0.030150434622659983,-0.08496917882949777,-0.030717410872405263,-0.1721148607181321,0.6192933531725063,-0.04039786933122258,-0.04166837355753551,-0.03050396945902361,-0.08500375736711718,-0.04014194888114121,-0.0725122946254554,-0.03769301915063458,0.732044130599145,-0.032703649366937475,-0.020943430693228512,0.37896512997649473,-0.03583549735692605,0.28158645923303777,-0.021260530364787627,-0.03862563075672041,-0.028334607352924854,-0.021355125786304874,-0.11291747355891152,-0.016608082548985117,-0.26402866770245603,-0.02033834739811098,-0.021346622232242353,-0.020378660787917023,-0.05560309531443859,-0.17493391027202113,-0.03257457084198239,-0.03058926379820152,-0.021639584890196243,-0.018064248468954706,-0.04991486432930209,-0.027362955208614106,-0.024587363776928873,-0.12870957766649901,-0.018918036677533872,-0.022593327993719936,-0.029199766511684457,-0.027663763329649226,-0.06083763433724965],\"z\":[-0.042005150559999094,0.03489892950204014,0.1379954399134924,-0.03578220571079562,-0.04153951388086125,0.059312523883365977,0.037489244292576086,0.20330336670603075,0.013691425443240634,-0.018644761440203647,-0.05122119272244017,-0.03570465355573943,-0.08370784449244127,0.1918732313596632,0.0011228607640736076,0.1752412702518719,0.021596584398833937,0.19724203099599832,-0.060939948328562595,-0.09875316217974868,-0.022707210600634832,-0.26466670269513837,0.032265050975277626,-0.05571004588281812,-0.36765335076281064,-0.061939939763769165,0.5771190023520618,0.02239283726631553,-0.038158050435233126,0.025876725358899462,-0.05321400160218799,-0.3709518015131346,-0.05496726281123715,-0.31573471214445553,-0.04645686419523676,0.015889500683460064,-0.08155148939694387,-0.028828948597785075,0.011848459717598068,0.02384742639078854,0.19555973803292168,-0.03599142341912771,-0.10006725421813785,-0.08393350494091993,-0.03673718849747799,0.2765522992210689,-0.07243159093731488,-0.047392107623871756,-0.03540196691346321,-0.03656896640711983,-0.03581517088281999,0.065857707177915,0.5763634757498693,0.003393159417051825,-0.04558172988610196,-0.03689715057574094,-0.03554175000054001,0.047968333653063265,-0.07785950543888515,-0.020165856238541106,-0.04584405638977564,-0.04651026081162858,-0.02945826732382876,-0.06526733378167736,-0.0063792788783805605,-0.31520820848663234],\"type\":\"scatter3d\"}],                        {\"template\":{\"data\":{\"histogram2dcontour\":[{\"type\":\"histogram2dcontour\",\"colorbar\":{\"outlinewidth\":0,\"ticks\":\"\"},\"colorscale\":[[0.0,\"#0d0887\"],[0.1111111111111111,\"#46039f\"],[0.2222222222222222,\"#7201a8\"],[0.3333333333333333,\"#9c179e\"],[0.4444444444444444,\"#bd3786\"],[0.5555555555555556,\"#d8576b\"],[0.6666666666666666,\"#ed7953\"],[0.7777777777777778,\"#fb9f3a\"],[0.8888888888888888,\"#fdca26\"],[1.0,\"#f0f921\"]]}],\"choropleth\":[{\"type\":\"choropleth\",\"colorbar\":{\"outlinewidth\":0,\"ticks\":\"\"}}],\"histogram2d\":[{\"type\":\"histogram2d\",\"colorbar\":{\"outlinewidth\":0,\"ticks\":\"\"},\"colorscale\":[[0.0,\"#0d0887\"],[0.1111111111111111,\"#46039f\"],[0.2222222222222222,\"#7201a8\"],[0.3333333333333333,\"#9c179e\"],[0.4444444444444444,\"#bd3786\"],[0.5555555555555556,\"#d8576b\"],[0.6666666666666666,\"#ed7953\"],[0.7777777777777778,\"#fb9f3a\"],[0.8888888888888888,\"#fdca26\"],[1.0,\"#f0f921\"]]}],\"heatmap\":[{\"type\":\"heatmap\",\"colorbar\":{\"outlinewidth\":0,\"ticks\":\"\"},\"colorscale\":[[0.0,\"#0d0887\"],[0.1111111111111111,\"#46039f\"],[0.2222222222222222,\"#7201a8\"],[0.3333333333333333,\"#9c179e\"],[0.4444444444444444,\"#bd3786\"],[0.5555555555555556,\"#d8576b\"],[0.6666666666666666,\"#ed7953\"],[0.7777777777777778,\"#fb9f3a\"],[0.8888888888888888,\"#fdca26\"],[1.0,\"#f0f921\"]]}],\"heatmapgl\":[{\"type\":\"heatmapgl\",\"colorbar\":{\"outlinewidth\":0,\"ticks\":\"\"},\"colorscale\":[[0.0,\"#0d0887\"],[0.1111111111111111,\"#46039f\"],[0.2222222222222222,\"#7201a8\"],[0.3333333333333333,\"#9c179e\"],[0.4444444444444444,\"#bd3786\"],[0.5555555555555556,\"#d8576b\"],[0.6666666666666666,\"#ed7953\"],[0.7777777777777778,\"#fb9f3a\"],[0.8888888888888888,\"#fdca26\"],[1.0,\"#f0f921\"]]}],\"contourcarpet\":[{\"type\":\"contourcarpet\",\"colorbar\":{\"outlinewidth\":0,\"ticks\":\"\"}}],\"contour\":[{\"type\":\"contour\",\"colorbar\":{\"outlinewidth\":0,\"ticks\":\"\"},\"colorscale\":[[0.0,\"#0d0887\"],[0.1111111111111111,\"#46039f\"],[0.2222222222222222,\"#7201a8\"],[0.3333333333333333,\"#9c179e\"],[0.4444444444444444,\"#bd3786\"],[0.5555555555555556,\"#d8576b\"],[0.6666666666666666,\"#ed7953\"],[0.7777777777777778,\"#fb9f3a\"],[0.8888888888888888,\"#fdca26\"],[1.0,\"#f0f921\"]]}],\"surface\":[{\"type\":\"surface\",\"colorbar\":{\"outlinewidth\":0,\"ticks\":\"\"},\"colorscale\":[[0.0,\"#0d0887\"],[0.1111111111111111,\"#46039f\"],[0.2222222222222222,\"#7201a8\"],[0.3333333333333333,\"#9c179e\"],[0.4444444444444444,\"#bd3786\"],[0.5555555555555556,\"#d8576b\"],[0.6666666666666666,\"#ed7953\"],[0.7777777777777778,\"#fb9f3a\"],[0.8888888888888888,\"#fdca26\"],[1.0,\"#f0f921\"]]}],\"mesh3d\":[{\"type\":\"mesh3d\",\"colorbar\":{\"outlinewidth\":0,\"ticks\":\"\"}}],\"scatter\":[{\"fillpattern\":{\"fillmode\":\"overlay\",\"size\":10,\"solidity\":0.2},\"type\":\"scatter\"}],\"parcoords\":[{\"type\":\"parcoords\",\"line\":{\"colorbar\":{\"outlinewidth\":0,\"ticks\":\"\"}}}],\"scatterpolargl\":[{\"type\":\"scatterpolargl\",\"marker\":{\"colorbar\":{\"outlinewidth\":0,\"ticks\":\"\"}}}],\"bar\":[{\"error_x\":{\"color\":\"#2a3f5f\"},\"error_y\":{\"color\":\"#2a3f5f\"},\"marker\":{\"line\":{\"color\":\"#E5ECF6\",\"width\":0.5},\"pattern\":{\"fillmode\":\"overlay\",\"size\":10,\"solidity\":0.2}},\"type\":\"bar\"}],\"scattergeo\":[{\"type\":\"scattergeo\",\"marker\":{\"colorbar\":{\"outlinewidth\":0,\"ticks\":\"\"}}}],\"scatterpolar\":[{\"type\":\"scatterpolar\",\"marker\":{\"colorbar\":{\"outlinewidth\":0,\"ticks\":\"\"}}}],\"histogram\":[{\"marker\":{\"pattern\":{\"fillmode\":\"overlay\",\"size\":10,\"solidity\":0.2}},\"type\":\"histogram\"}],\"scattergl\":[{\"type\":\"scattergl\",\"marker\":{\"colorbar\":{\"outlinewidth\":0,\"ticks\":\"\"}}}],\"scatter3d\":[{\"type\":\"scatter3d\",\"line\":{\"colorbar\":{\"outlinewidth\":0,\"ticks\":\"\"}},\"marker\":{\"colorbar\":{\"outlinewidth\":0,\"ticks\":\"\"}}}],\"scattermapbox\":[{\"type\":\"scattermapbox\",\"marker\":{\"colorbar\":{\"outlinewidth\":0,\"ticks\":\"\"}}}],\"scatterternary\":[{\"type\":\"scatterternary\",\"marker\":{\"colorbar\":{\"outlinewidth\":0,\"ticks\":\"\"}}}],\"scattercarpet\":[{\"type\":\"scattercarpet\",\"marker\":{\"colorbar\":{\"outlinewidth\":0,\"ticks\":\"\"}}}],\"carpet\":[{\"aaxis\":{\"endlinecolor\":\"#2a3f5f\",\"gridcolor\":\"white\",\"linecolor\":\"white\",\"minorgridcolor\":\"white\",\"startlinecolor\":\"#2a3f5f\"},\"baxis\":{\"endlinecolor\":\"#2a3f5f\",\"gridcolor\":\"white\",\"linecolor\":\"white\",\"minorgridcolor\":\"white\",\"startlinecolor\":\"#2a3f5f\"},\"type\":\"carpet\"}],\"table\":[{\"cells\":{\"fill\":{\"color\":\"#EBF0F8\"},\"line\":{\"color\":\"white\"}},\"header\":{\"fill\":{\"color\":\"#C8D4E3\"},\"line\":{\"color\":\"white\"}},\"type\":\"table\"}],\"barpolar\":[{\"marker\":{\"line\":{\"color\":\"#E5ECF6\",\"width\":0.5},\"pattern\":{\"fillmode\":\"overlay\",\"size\":10,\"solidity\":0.2}},\"type\":\"barpolar\"}],\"pie\":[{\"automargin\":true,\"type\":\"pie\"}]},\"layout\":{\"autotypenumbers\":\"strict\",\"colorway\":[\"#636efa\",\"#EF553B\",\"#00cc96\",\"#ab63fa\",\"#FFA15A\",\"#19d3f3\",\"#FF6692\",\"#B6E880\",\"#FF97FF\",\"#FECB52\"],\"font\":{\"color\":\"#2a3f5f\"},\"hovermode\":\"closest\",\"hoverlabel\":{\"align\":\"left\"},\"paper_bgcolor\":\"white\",\"plot_bgcolor\":\"#E5ECF6\",\"polar\":{\"bgcolor\":\"#E5ECF6\",\"angularaxis\":{\"gridcolor\":\"white\",\"linecolor\":\"white\",\"ticks\":\"\"},\"radialaxis\":{\"gridcolor\":\"white\",\"linecolor\":\"white\",\"ticks\":\"\"}},\"ternary\":{\"bgcolor\":\"#E5ECF6\",\"aaxis\":{\"gridcolor\":\"white\",\"linecolor\":\"white\",\"ticks\":\"\"},\"baxis\":{\"gridcolor\":\"white\",\"linecolor\":\"white\",\"ticks\":\"\"},\"caxis\":{\"gridcolor\":\"white\",\"linecolor\":\"white\",\"ticks\":\"\"}},\"coloraxis\":{\"colorbar\":{\"outlinewidth\":0,\"ticks\":\"\"}},\"colorscale\":{\"sequential\":[[0.0,\"#0d0887\"],[0.1111111111111111,\"#46039f\"],[0.2222222222222222,\"#7201a8\"],[0.3333333333333333,\"#9c179e\"],[0.4444444444444444,\"#bd3786\"],[0.5555555555555556,\"#d8576b\"],[0.6666666666666666,\"#ed7953\"],[0.7777777777777778,\"#fb9f3a\"],[0.8888888888888888,\"#fdca26\"],[1.0,\"#f0f921\"]],\"sequentialminus\":[[0.0,\"#0d0887\"],[0.1111111111111111,\"#46039f\"],[0.2222222222222222,\"#7201a8\"],[0.3333333333333333,\"#9c179e\"],[0.4444444444444444,\"#bd3786\"],[0.5555555555555556,\"#d8576b\"],[0.6666666666666666,\"#ed7953\"],[0.7777777777777778,\"#fb9f3a\"],[0.8888888888888888,\"#fdca26\"],[1.0,\"#f0f921\"]],\"diverging\":[[0,\"#8e0152\"],[0.1,\"#c51b7d\"],[0.2,\"#de77ae\"],[0.3,\"#f1b6da\"],[0.4,\"#fde0ef\"],[0.5,\"#f7f7f7\"],[0.6,\"#e6f5d0\"],[0.7,\"#b8e186\"],[0.8,\"#7fbc41\"],[0.9,\"#4d9221\"],[1,\"#276419\"]]},\"xaxis\":{\"gridcolor\":\"white\",\"linecolor\":\"white\",\"ticks\":\"\",\"title\":{\"standoff\":15},\"zerolinecolor\":\"white\",\"automargin\":true,\"zerolinewidth\":2},\"yaxis\":{\"gridcolor\":\"white\",\"linecolor\":\"white\",\"ticks\":\"\",\"title\":{\"standoff\":15},\"zerolinecolor\":\"white\",\"automargin\":true,\"zerolinewidth\":2},\"scene\":{\"xaxis\":{\"backgroundcolor\":\"#E5ECF6\",\"gridcolor\":\"white\",\"linecolor\":\"white\",\"showbackground\":true,\"ticks\":\"\",\"zerolinecolor\":\"white\",\"gridwidth\":2},\"yaxis\":{\"backgroundcolor\":\"#E5ECF6\",\"gridcolor\":\"white\",\"linecolor\":\"white\",\"showbackground\":true,\"ticks\":\"\",\"zerolinecolor\":\"white\",\"gridwidth\":2},\"zaxis\":{\"backgroundcolor\":\"#E5ECF6\",\"gridcolor\":\"white\",\"linecolor\":\"white\",\"showbackground\":true,\"ticks\":\"\",\"zerolinecolor\":\"white\",\"gridwidth\":2}},\"shapedefaults\":{\"line\":{\"color\":\"#2a3f5f\"}},\"annotationdefaults\":{\"arrowcolor\":\"#2a3f5f\",\"arrowhead\":0,\"arrowwidth\":1},\"geo\":{\"bgcolor\":\"white\",\"landcolor\":\"#E5ECF6\",\"subunitcolor\":\"white\",\"showland\":true,\"showlakes\":true,\"lakecolor\":\"white\"},\"title\":{\"x\":0.05},\"mapbox\":{\"style\":\"light\"}}},\"scene\":{\"domain\":{\"x\":[0.0,1.0],\"y\":[0.0,1.0]},\"xaxis\":{\"title\":{\"text\":\"x\"}},\"yaxis\":{\"title\":{\"text\":\"y\"}},\"zaxis\":{\"title\":{\"text\":\"z\"}}},\"legend\":{\"title\":{\"text\":\"color\"},\"tracegroupgap\":0},\"margin\":{\"t\":60}},                        {\"responsive\": true}                    ).then(function(){\n",
       "                            \n",
       "var gd = document.getElementById('1cf4718e-fd74-463d-a2ef-8e76611a9d4f');\n",
       "var x = new MutationObserver(function (mutations, observer) {{\n",
       "        var display = window.getComputedStyle(gd).display;\n",
       "        if (!display || display === 'none') {{\n",
       "            console.log([gd, 'removed!']);\n",
       "            Plotly.purge(gd);\n",
       "            observer.disconnect();\n",
       "        }}\n",
       "}});\n",
       "\n",
       "// Listen for the removal of the full notebook cells\n",
       "var notebookContainer = gd.closest('#notebook-container');\n",
       "if (notebookContainer) {{\n",
       "    x.observe(notebookContainer, {childList: true});\n",
       "}}\n",
       "\n",
       "// Listen for the clearing of the current output cell\n",
       "var outputEl = gd.closest('.output');\n",
       "if (outputEl) {{\n",
       "    x.observe(outputEl, {childList: true});\n",
       "}}\n",
       "\n",
       "                        })                };                });            </script>        </div>"
      ]
     },
     "metadata": {},
     "output_type": "display_data"
    }
   ],
   "source": [
    "fig = px.scatter_3d(x=Xax, y=Yax, z=Zax, color=colors)\n",
    "fig.show()"
   ]
  },
  {
   "cell_type": "markdown",
   "id": "9571ec7e",
   "metadata": {},
   "source": [
    "### 3.2 UMAP"
   ]
  },
  {
   "cell_type": "code",
   "execution_count": 45,
   "id": "5a9ef767",
   "metadata": {},
   "outputs": [],
   "source": [
    "reducer = umap.UMAP()"
   ]
  },
  {
   "cell_type": "code",
   "execution_count": 83,
   "id": "ec7803b2",
   "metadata": {},
   "outputs": [
    {
     "data": {
      "text/plain": [
       "(150, 2)"
      ]
     },
     "execution_count": 83,
     "metadata": {},
     "output_type": "execute_result"
    }
   ],
   "source": [
    "embedding_2D = reducer.fit_transform(X)\n",
    "embedding_2D.shape"
   ]
  },
  {
   "cell_type": "code",
   "execution_count": 85,
   "id": "b64d0c03",
   "metadata": {
    "scrolled": false
   },
   "outputs": [
    {
     "data": {
      "text/plain": [
       "Text(0.5, 1.0, 'UMAP w/ unscaled data')"
      ]
     },
     "execution_count": 85,
     "metadata": {},
     "output_type": "execute_result"
    },
    {
     "data": {
      "image/png": "[encoded data removed]",
      "text/plain": [
       "<Figure size 720x576 with 1 Axes>"
      ]
     },
     "metadata": {
      "needs_background": "light"
     },
     "output_type": "display_data"
    }
   ],
   "source": [
    "plt.scatter(embedding_2D[:, 0], embedding_2D[:, 1], c=colors)\n",
    "plt.xlabel('UMAP2')\n",
    "plt.ylabel('UMAP1')\n",
    "plt.title('UMAP w/ unscaled data')"
   ]
  },
  {
   "cell_type": "code",
   "execution_count": 88,
   "id": "535a774e",
   "metadata": {},
   "outputs": [
    {
     "data": {
      "text/plain": [
       "(150, 3)"
      ]
     },
     "execution_count": 88,
     "metadata": {},
     "output_type": "execute_result"
    }
   ],
   "source": [
    "reducer_3D = umap.UMAP(n_components=3)\n",
    "\n",
    "embedding_3D = reducer_3D.fit_transform(X)\n",
    "embedding_3D.shape"
   ]
  },
  {
   "cell_type": "code",
   "execution_count": 90,
   "id": "699315f7",
   "metadata": {},
   "outputs": [
    {
     "data": {
      "application/vnd.plotly.v1+json": {
       "config": {
        "plotlyServerURL": "https://plot.ly"
       },
       "data": [
        {
         "hovertemplate": "color=#f07171<br>x=%{x}<br>y=%{y}<br>z=%{z}<extra></extra>",
         "legendgroup": "#f07171",
         "marker": {
          "color": "#636efa",
          "symbol": "circle"
         },
         "mode": "markers",
         "name": "#f07171",
         "scene": "scene",
         "showlegend": true,
         "type": "scatter3d",
         "x": [
          1.2804826498031616,
          3.5351622104644775,
          2.3187479972839355,
          0.6295820474624634,
          1.6808288097381592,
          0.7065051198005676,
          0.7290563583374023,
          3.958848714828491,
          2.9133412837982178,
          3.290260076522827,
          0.8048745393753052,
          1.2408292293548584,
          3.423978328704834,
          3.451443910598755,
          0.8505030274391174,
          1.7227650880813599,
          2.0266313552856445,
          3.3155956268310547,
          2.144496440887451,
          1.69085693359375,
          3.8149468898773193,
          1.6337896585464478,
          2.8203418254852295,
          3.6267640590667725,
          3.27414608001709,
          3.1469292640686035,
          2.258759021759033,
          1.6388283967971802,
          3.960310935974121,
          3.4421298503875732,
          1.7529937028884888,
          1.8224692344665527,
          0.9625388979911804,
          3.620744466781616,
          1.0363185405731201,
          3.585383176803589,
          1.889386534690857,
          2.6442184448242188,
          1.4452325105667114,
          1.551594853401184,
          1.0709093809127808,
          2.6759495735168457,
          1.830032467842102,
          1.1704881191253662,
          2.565561056137085,
          2.992307424545288,
          3.321314573287964,
          1.4688752889633179,
          1.5106121301651,
          2.039475917816162,
          3.610105276107788,
          1.6408034563064575,
          1.3691350221633911,
          1.1315946578979492,
          3.2704601287841797
         ],
         "y": [
          2.5906968116760254,
          4.322854042053223,
          1.4810459613800049,
          0.4273808002471924,
          2.238433837890625,
          0.7701886892318726,
          0.23479905724525452,
          4.58946418762207,
          5.16199254989624,
          4.677558422088623,
          0.6897406578063965,
          0.8209938406944275,
          5.130911350250244,
          5.417670249938965,
          0.5092251896858215,
          2.7642862796783447,
          4.199116230010986,
          5.714176654815674,
          1.1036713123321533,
          1.4644269943237305,
          4.940379619598389,
          1.1562339067459106,
          2.326040506362915,
          5.101934909820557,
          4.237226486206055,
          4.366633892059326,
          2.3824899196624756,
          1.5939961671829224,
          5.304229736328125,
          5.5444183349609375,
          1.168501853942871,
          2.2733211517333984,
          0.4066717326641083,
          5.514617919921875,
          0.18311326205730438,
          5.211267948150635,
          4.643667221069336,
          3.3960864543914795,
          1.4388831853866577,
          3.5086302757263184,
          0.5883710980415344,
          1.2649738788604736,
          3.1303470134735107,
          0.42496243119239807,
          3.0269501209259033,
          4.968196392059326,
          2.214233875274658,
          1.2472344636917114,
          2.225733995437622,
          1.7355586290359497,
          5.356960773468018,
          0.8030582070350647,
          0.320106565952301,
          3.013955593109131,
          5.489622592926025
         ],
         "z": [
          3.3024256229400635,
          4.77719783782959,
          4.756779193878174,
          4.299421310424805,
          4.831760406494141,
          3.7562553882598877,
          4.98697566986084,
          5.251965045928955,
          5.642341136932373,
          5.031657695770264,
          4.813638210296631,
          4.0168375968933105,
          5.166008949279785,
          4.694451808929443,
          5.224982261657715,
          4.730613708496094,
          4.301535606384277,
          5.62619161605835,
          3.5403854846954346,
          4.126315116882324,
          5.402177333831787,
          3.2365200519561768,
          4.999419689178467,
          4.865182399749756,
          5.403278350830078,
          4.327154636383057,
          5.635825157165527,
          3.7014265060424805,
          5.31389045715332,
          5.44369649887085,
          3.42273211479187,
          4.370999813079834,
          4.593198299407959,
          5.027640342712402,
          5.207866191864014,
          5.764057636260986,
          4.5516357421875,
          5.515043258666992,
          2.855464458465576,
          3.645280599594116,
          4.104043960571289,
          4.467129707336426,
          3.6801602840423584,
          5.075428009033203,
          5.498405933380127,
          5.191704750061035,
          4.091396331787109,
          2.922341823577881,
          4.559418201446533,
          3.1809353828430176,
          5.316643238067627,
          3.6095426082611084,
          5.26655387878418,
          3.7492728233337402,
          5.5322747230529785
         ]
        },
        {
         "hovertemplate": "color=#2a37c7<br>x=%{x}<br>y=%{y}<br>z=%{z}<extra></extra>",
         "legendgroup": "#2a37c7",
         "marker": {
          "color": "#EF553B",
          "symbol": "circle"
         },
         "mode": "markers",
         "name": "#2a37c7",
         "scene": "scene",
         "showlegend": true,
         "type": "scatter3d",
         "x": [
          2.9348862171173096,
          1.6383295059204102,
          2.660977363586426,
          3.5389256477355957,
          2.875847578048706,
          3.11550235748291,
          1.9980354309082031,
          1.782850980758667,
          2.819149971008301,
          1.6190012693405151,
          1.4632710218429565,
          1.890437364578247,
          2.0444867610931396,
          2.72477126121521,
          3.5866479873657227,
          1.480774164199829,
          1.8920197486877441,
          2.7779176235198975,
          2.6907706260681152,
          2.0445656776428223,
          2.318615436553955,
          2.4053847789764404,
          2.7054343223571777,
          1.3689626455307007,
          2.159377098083496,
          2.7830071449279785,
          2.1144628524780273,
          2.478510618209839,
          2.247729539871216
         ],
         "y": [
          1.9446240663528442,
          1.9826055765151978,
          1.885205626487732,
          4.6606340408325195,
          1.9575262069702148,
          3.27251935005188,
          3.4205567836761475,
          3.739628791809082,
          1.997368574142456,
          3.7232415676116943,
          1.129320740699768,
          3.0731046199798584,
          1.9755778312683105,
          1.3734169006347656,
          4.624666690826416,
          2.4310028553009033,
          0.9011490941047668,
          1.4739617109298706,
          2.1547462940216064,
          1.2468570470809937,
          1.3611024618148804,
          2.9647786617279053,
          2.649693489074707,
          1.1734845638275146,
          1.687988519668579,
          2.4160943031311035,
          1.1092400550842285,
          1.9440292119979858,
          1.5769871473312378
         ],
         "z": [
          3.3616435527801514,
          2.876131772994995,
          3.3973495960235596,
          4.2113752365112305,
          3.6752865314483643,
          4.257452011108398,
          4.316058158874512,
          3.932243824005127,
          3.085069417953491,
          3.8137388229370117,
          3.97790265083313,
          4.03706693649292,
          2.740198850631714,
          3.655283212661743,
          4.296632766723633,
          3.0092356204986572,
          3.205845594406128,
          3.27651309967041,
          2.9698657989501953,
          3.0042474269866943,
          2.9719297885894775,
          3.446288824081421,
          3.414252758026123,
          3.0264055728912354,
          2.978853225708008,
          3.4028782844543457,
          3.1007776260375977,
          3.0216434001922607,
          3.4882802963256836
         ]
        },
        {
         "hovertemplate": "color=#f52f2f<br>x=%{x}<br>y=%{y}<br>z=%{z}<extra></extra>",
         "legendgroup": "#f52f2f",
         "marker": {
          "color": "#00cc96",
          "symbol": "circle"
         },
         "mode": "markers",
         "name": "#f52f2f",
         "scene": "scene",
         "showlegend": true,
         "type": "scatter3d",
         "x": [
          1.1553726196289062,
          1.8827780485153198,
          0.8382639288902283,
          1.4417695999145508,
          1.9007116556167603,
          2.634244441986084,
          3.6205596923828125,
          0.9355633854866028,
          1.8193179368972778,
          2.7689709663391113,
          1.944173812866211,
          2.3976950645446777,
          2.2181949615478516,
          2.9430243968963623,
          2.953009605407715,
          0.7619280219078064,
          3.7672181129455566,
          3.763296604156494,
          2.684429168701172,
          1.0351111888885498,
          3.1733901500701904,
          2.8636698722839355,
          0.6941868662834167,
          1.2262407541275024,
          1.9506820440292358,
          1.579481840133667,
          3.689979076385498,
          1.6227202415466309,
          3.1838788986206055,
          3.9146018028259277,
          1.6658977270126343,
          2.0650503635406494,
          3.3015708923339844,
          2.7666189670562744,
          3.268357276916504,
          1.713739275932312,
          2.487945795059204,
          2.9156599044799805,
          1.8093109130859375,
          2.338726758956909,
          0.8165057897567749,
          1.1067301034927368,
          2.0065486431121826,
          2.3265061378479004,
          1.0584368705749512,
          3.2417778968811035,
          1.306936502456665,
          0.8822057843208313,
          1.290373682975769,
          1.7543126344680786,
          2.310295343399048,
          2.883143186569214,
          3.9619193077087402,
          3.1472253799438477,
          3.3962552547454834,
          1.1184035539627075,
          1.5178189277648926,
          3.410431385040283,
          2.6292736530303955,
          3.9162745475769043,
          1.0119231939315796,
          1.831015944480896,
          2.733672618865967,
          2.2420289516448975,
          3.6840972900390625,
          2.712047576904297
         ],
         "y": [
          2.800492525100708,
          1.2952158451080322,
          0.7769429683685303,
          2.3290977478027344,
          4.181760787963867,
          4.839014530181885,
          4.954419136047363,
          0.6659783124923706,
          1.395254373550415,
          4.9983015060424805,
          2.4197943210601807,
          4.24390172958374,
          1.3359180688858032,
          4.7165446281433105,
          4.7386794090271,
          0.523216724395752,
          4.588343620300293,
          4.524245738983154,
          2.8218343257904053,
          0.2788848876953125,
          3.9231395721435547,
          1.4865801334381104,
          0.5834915041923523,
          2.6693642139434814,
          4.382489204406738,
          3.1421496868133545,
          5.305668354034424,
          1.6590036153793335,
          5.444474697113037,
          4.596656322479248,
          2.8153769969940186,
          4.42504358291626,
          2.3807425498962402,
          1.6687928438186646,
          4.231829643249512,
          1.4027740955352783,
          3.0922980308532715,
          4.841318130493164,
          1.133249282836914,
          4.0611748695373535,
          0.8509156107902527,
          2.596451997756958,
          4.606729030609131,
          1.5856761932373047,
          2.4111623764038086,
          5.507991313934326,
          3.2922651767730713,
          0.16636455059051514,
          1.8274823427200317,
          2.91011381149292,
          1.7237238883972168,
          5.186180591583252,
          5.239634990692139,
          3.9431231021881104,
          5.022570610046387,
          2.2788238525390625,
          1.3364934921264648,
          5.018311023712158,
          3.06905460357666,
          4.409216403961182,
          0.22732216119766235,
          2.0002670288085938,
          4.716485977172852,
          2.3784592151641846,
          4.971774101257324,
          1.3968267440795898
         ],
         "z": [
          3.596506357192993,
          3.406677722930908,
          4.52833890914917,
          3.5318427085876465,
          4.553849220275879,
          4.910775661468506,
          4.853229999542236,
          4.07445764541626,
          3.0176408290863037,
          5.643365383148193,
          4.439114093780518,
          4.595857620239258,
          4.718602180480957,
          5.497917652130127,
          5.035301208496094,
          4.495269298553467,
          4.999112129211426,
          4.41636323928833,
          5.101985454559326,
          5.223385810852051,
          4.330900192260742,
          4.504785537719727,
          3.9787940979003906,
          3.2719626426696777,
          4.407352924346924,
          3.6597063541412354,
          5.170440196990967,
          3.341679811477661,
          4.7673139572143555,
          5.192850589752197,
          4.785999774932861,
          4.5427470207214355,
          4.0479278564453125,
          4.4157328605651855,
          5.388847827911377,
          3.2921533584594727,
          5.703135967254639,
          4.668217182159424,
          2.77789044380188,
          5.328511714935303,
          4.400352478027344,
          4.2164177894592285,
          4.721212863922119,
          4.648856163024902,
          4.255338668823242,
          5.53274393081665,
          3.56648325920105,
          5.157899856567383,
          3.258589267730713,
          4.702223777770996,
          4.649927139282227,
          4.848983287811279,
          5.239779472351074,
          5.123873710632324,
          5.835190773010254,
          4.1800312995910645,
          3.2509682178497314,
          5.044333457946777,
          5.497052192687988,
          5.41634464263916,
          5.146467208862305,
          4.563162803649902,
          5.586251735687256,
          5.611712455749512,
          5.308541774749756,
          4.429346084594727
         ]
        }
       ],
       "layout": {
        "legend": {
         "title": {
          "text": "color"
         },
         "tracegroupgap": 0
        },
        "margin": {
         "t": 60
        },
        "scene": {
         "domain": {
          "x": [
           0,
           1
          ],
          "y": [
           0,
           1
          ]
         },
         "xaxis": {
          "title": {
           "text": "x"
          }
         },
         "yaxis": {
          "title": {
           "text": "y"
          }
         },
         "zaxis": {
          "title": {
           "text": "z"
          }
         }
        },
        "template": {
         "data": {
          "bar": [
           {
            "error_x": {
             "color": "#2a3f5f"
            },
            "error_y": {
             "color": "#2a3f5f"
            },
            "marker": {
             "line": {
              "color": "#E5ECF6",
              "width": 0.5
             },
             "pattern": {
              "fillmode": "overlay",
              "size": 10,
              "solidity": 0.2
             }
            },
            "type": "bar"
           }
          ],
          "barpolar": [
           {
            "marker": {
             "line": {
              "color": "#E5ECF6",
              "width": 0.5
             },
             "pattern": {
              "fillmode": "overlay",
              "size": 10,
              "solidity": 0.2
             }
            },
            "type": "barpolar"
           }
          ],
          "carpet": [
           {
            "aaxis": {
             "endlinecolor": "#2a3f5f",
             "gridcolor": "white",
             "linecolor": "white",
             "minorgridcolor": "white",
             "startlinecolor": "#2a3f5f"
            },
            "baxis": {
             "endlinecolor": "#2a3f5f",
             "gridcolor": "white",
             "linecolor": "white",
             "minorgridcolor": "white",
             "startlinecolor": "#2a3f5f"
            },
            "type": "carpet"
           }
          ],
          "choropleth": [
           {
            "colorbar": {
             "outlinewidth": 0,
             "ticks": ""
            },
            "type": "choropleth"
           }
          ],
          "contour": [
           {
            "colorbar": {
             "outlinewidth": 0,
             "ticks": ""
            },
            "colorscale": [
             [
              0,
              "#0d0887"
             ],
             [
              0.1111111111111111,
              "#46039f"
             ],
             [
              0.2222222222222222,
              "#7201a8"
             ],
             [
              0.3333333333333333,
              "#9c179e"
             ],
             [
              0.4444444444444444,
              "#bd3786"
             ],
             [
              0.5555555555555556,
              "#d8576b"
             ],
             [
              0.6666666666666666,
              "#ed7953"
             ],
             [
              0.7777777777777778,
              "#fb9f3a"
             ],
             [
              0.8888888888888888,
              "#fdca26"
             ],
             [
              1,
              "#f0f921"
             ]
            ],
            "type": "contour"
           }
          ],
          "contourcarpet": [
           {
            "colorbar": {
             "outlinewidth": 0,
             "ticks": ""
            },
            "type": "contourcarpet"
           }
          ],
          "heatmap": [
           {
            "colorbar": {
             "outlinewidth": 0,
             "ticks": ""
            },
            "colorscale": [
             [
              0,
              "#0d0887"
             ],
             [
              0.1111111111111111,
              "#46039f"
             ],
             [
              0.2222222222222222,
              "#7201a8"
             ],
             [
              0.3333333333333333,
              "#9c179e"
             ],
             [
              0.4444444444444444,
              "#bd3786"
             ],
             [
              0.5555555555555556,
              "#d8576b"
             ],
             [
              0.6666666666666666,
              "#ed7953"
             ],
             [
              0.7777777777777778,
              "#fb9f3a"
             ],
             [
              0.8888888888888888,
              "#fdca26"
             ],
             [
              1,
              "#f0f921"
             ]
            ],
            "type": "heatmap"
           }
          ],
          "heatmapgl": [
           {
            "colorbar": {
             "outlinewidth": 0,
             "ticks": ""
            },
            "colorscale": [
             [
              0,
              "#0d0887"
             ],
             [
              0.1111111111111111,
              "#46039f"
             ],
             [
              0.2222222222222222,
              "#7201a8"
             ],
             [
              0.3333333333333333,
              "#9c179e"
             ],
             [
              0.4444444444444444,
              "#bd3786"
             ],
             [
              0.5555555555555556,
              "#d8576b"
             ],
             [
              0.6666666666666666,
              "#ed7953"
             ],
             [
              0.7777777777777778,
              "#fb9f3a"
             ],
             [
              0.8888888888888888,
              "#fdca26"
             ],
             [
              1,
              "#f0f921"
             ]
            ],
            "type": "heatmapgl"
           }
          ],
          "histogram": [
           {
            "marker": {
             "pattern": {
              "fillmode": "overlay",
              "size": 10,
              "solidity": 0.2
             }
            },
            "type": "histogram"
           }
          ],
          "histogram2d": [
           {
            "colorbar": {
             "outlinewidth": 0,
             "ticks": ""
            },
            "colorscale": [
             [
              0,
              "#0d0887"
             ],
             [
              0.1111111111111111,
              "#46039f"
             ],
             [
              0.2222222222222222,
              "#7201a8"
             ],
             [
              0.3333333333333333,
              "#9c179e"
             ],
             [
              0.4444444444444444,
              "#bd3786"
             ],
             [
              0.5555555555555556,
              "#d8576b"
             ],
             [
              0.6666666666666666,
              "#ed7953"
             ],
             [
              0.7777777777777778,
              "#fb9f3a"
             ],
             [
              0.8888888888888888,
              "#fdca26"
             ],
             [
              1,
              "#f0f921"
             ]
            ],
            "type": "histogram2d"
           }
          ],
          "histogram2dcontour": [
           {
            "colorbar": {
             "outlinewidth": 0,
             "ticks": ""
            },
            "colorscale": [
             [
              0,
              "#0d0887"
             ],
             [
              0.1111111111111111,
              "#46039f"
             ],
             [
              0.2222222222222222,
              "#7201a8"
             ],
             [
              0.3333333333333333,
              "#9c179e"
             ],
             [
              0.4444444444444444,
              "#bd3786"
             ],
             [
              0.5555555555555556,
              "#d8576b"
             ],
             [
              0.6666666666666666,
              "#ed7953"
             ],
             [
              0.7777777777777778,
              "#fb9f3a"
             ],
             [
              0.8888888888888888,
              "#fdca26"
             ],
             [
              1,
              "#f0f921"
             ]
            ],
            "type": "histogram2dcontour"
           }
          ],
          "mesh3d": [
           {
            "colorbar": {
             "outlinewidth": 0,
             "ticks": ""
            },
            "type": "mesh3d"
           }
          ],
          "parcoords": [
           {
            "line": {
             "colorbar": {
              "outlinewidth": 0,
              "ticks": ""
             }
            },
            "type": "parcoords"
           }
          ],
          "pie": [
           {
            "automargin": true,
            "type": "pie"
           }
          ],
          "scatter": [
           {
            "fillpattern": {
             "fillmode": "overlay",
             "size": 10,
             "solidity": 0.2
            },
            "type": "scatter"
           }
          ],
          "scatter3d": [
           {
            "line": {
             "colorbar": {
              "outlinewidth": 0,
              "ticks": ""
             }
            },
            "marker": {
             "colorbar": {
              "outlinewidth": 0,
              "ticks": ""
             }
            },
            "type": "scatter3d"
           }
          ],
          "scattercarpet": [
           {
            "marker": {
             "colorbar": {
              "outlinewidth": 0,
              "ticks": ""
             }
            },
            "type": "scattercarpet"
           }
          ],
          "scattergeo": [
           {
            "marker": {
             "colorbar": {
              "outlinewidth": 0,
              "ticks": ""
             }
            },
            "type": "scattergeo"
           }
          ],
          "scattergl": [
           {
            "marker": {
             "colorbar": {
              "outlinewidth": 0,
              "ticks": ""
             }
            },
            "type": "scattergl"
           }
          ],
          "scattermapbox": [
           {
            "marker": {
             "colorbar": {
              "outlinewidth": 0,
              "ticks": ""
             }
            },
            "type": "scattermapbox"
           }
          ],
          "scatterpolar": [
           {
            "marker": {
             "colorbar": {
              "outlinewidth": 0,
              "ticks": ""
             }
            },
            "type": "scatterpolar"
           }
          ],
          "scatterpolargl": [
           {
            "marker": {
             "colorbar": {
              "outlinewidth": 0,
              "ticks": ""
             }
            },
            "type": "scatterpolargl"
           }
          ],
          "scatterternary": [
           {
            "marker": {
             "colorbar": {
              "outlinewidth": 0,
              "ticks": ""
             }
            },
            "type": "scatterternary"
           }
          ],
          "surface": [
           {
            "colorbar": {
             "outlinewidth": 0,
             "ticks": ""
            },
            "colorscale": [
             [
              0,
              "#0d0887"
             ],
             [
              0.1111111111111111,
              "#46039f"
             ],
             [
              0.2222222222222222,
              "#7201a8"
             ],
             [
              0.3333333333333333,
              "#9c179e"
             ],
             [
              0.4444444444444444,
              "#bd3786"
             ],
             [
              0.5555555555555556,
              "#d8576b"
             ],
             [
              0.6666666666666666,
              "#ed7953"
             ],
             [
              0.7777777777777778,
              "#fb9f3a"
             ],
             [
              0.8888888888888888,
              "#fdca26"
             ],
             [
              1,
              "#f0f921"
             ]
            ],
            "type": "surface"
           }
          ],
          "table": [
           {
            "cells": {
             "fill": {
              "color": "#EBF0F8"
             },
             "line": {
              "color": "white"
             }
            },
            "header": {
             "fill": {
              "color": "#C8D4E3"
             },
             "line": {
              "color": "white"
             }
            },
            "type": "table"
           }
          ]
         },
         "layout": {
          "annotationdefaults": {
           "arrowcolor": "#2a3f5f",
           "arrowhead": 0,
           "arrowwidth": 1
          },
          "autotypenumbers": "strict",
          "coloraxis": {
           "colorbar": {
            "outlinewidth": 0,
            "ticks": ""
           }
          },
          "colorscale": {
           "diverging": [
            [
             0,
             "#8e0152"
            ],
            [
             0.1,
             "#c51b7d"
            ],
            [
             0.2,
             "#de77ae"
            ],
            [
             0.3,
             "#f1b6da"
            ],
            [
             0.4,
             "#fde0ef"
            ],
            [
             0.5,
             "#f7f7f7"
            ],
            [
             0.6,
             "#e6f5d0"
            ],
            [
             0.7,
             "#b8e186"
            ],
            [
             0.8,
             "#7fbc41"
            ],
            [
             0.9,
             "#4d9221"
            ],
            [
             1,
             "#276419"
            ]
           ],
           "sequential": [
            [
             0,
             "#0d0887"
            ],
            [
             0.1111111111111111,
             "#46039f"
            ],
            [
             0.2222222222222222,
             "#7201a8"
            ],
            [
             0.3333333333333333,
             "#9c179e"
            ],
            [
             0.4444444444444444,
             "#bd3786"
            ],
            [
             0.5555555555555556,
             "#d8576b"
            ],
            [
             0.6666666666666666,
             "#ed7953"
            ],
            [
             0.7777777777777778,
             "#fb9f3a"
            ],
            [
             0.8888888888888888,
             "#fdca26"
            ],
            [
             1,
             "#f0f921"
            ]
           ],
           "sequentialminus": [
            [
             0,
             "#0d0887"
            ],
            [
             0.1111111111111111,
             "#46039f"
            ],
            [
             0.2222222222222222,
             "#7201a8"
            ],
            [
             0.3333333333333333,
             "#9c179e"
            ],
            [
             0.4444444444444444,
             "#bd3786"
            ],
            [
             0.5555555555555556,
             "#d8576b"
            ],
            [
             0.6666666666666666,
             "#ed7953"
            ],
            [
             0.7777777777777778,
             "#fb9f3a"
            ],
            [
             0.8888888888888888,
             "#fdca26"
            ],
            [
             1,
             "#f0f921"
            ]
           ]
          },
          "colorway": [
           "#636efa",
           "#EF553B",
           "#00cc96",
           "#ab63fa",
           "#FFA15A",
           "#19d3f3",
           "#FF6692",
           "#B6E880",
           "#FF97FF",
           "#FECB52"
          ],
          "font": {
           "color": "#2a3f5f"
          },
          "geo": {
           "bgcolor": "white",
           "lakecolor": "white",
           "landcolor": "#E5ECF6",
           "showlakes": true,
           "showland": true,
           "subunitcolor": "white"
          },
          "hoverlabel": {
           "align": "left"
          },
          "hovermode": "closest",
          "mapbox": {
           "style": "light"
          },
          "paper_bgcolor": "white",
          "plot_bgcolor": "#E5ECF6",
          "polar": {
           "angularaxis": {
            "gridcolor": "white",
            "linecolor": "white",
            "ticks": ""
           },
           "bgcolor": "#E5ECF6",
           "radialaxis": {
            "gridcolor": "white",
            "linecolor": "white",
            "ticks": ""
           }
          },
          "scene": {
           "xaxis": {
            "backgroundcolor": "#E5ECF6",
            "gridcolor": "white",
            "gridwidth": 2,
            "linecolor": "white",
            "showbackground": true,
            "ticks": "",
            "zerolinecolor": "white"
           },
           "yaxis": {
            "backgroundcolor": "#E5ECF6",
            "gridcolor": "white",
            "gridwidth": 2,
            "linecolor": "white",
            "showbackground": true,
            "ticks": "",
            "zerolinecolor": "white"
           },
           "zaxis": {
            "backgroundcolor": "#E5ECF6",
            "gridcolor": "white",
            "gridwidth": 2,
            "linecolor": "white",
            "showbackground": true,
            "ticks": "",
            "zerolinecolor": "white"
           }
          },
          "shapedefaults": {
           "line": {
            "color": "#2a3f5f"
           }
          },
          "ternary": {
           "aaxis": {
            "gridcolor": "white",
            "linecolor": "white",
            "ticks": ""
           },
           "baxis": {
            "gridcolor": "white",
            "linecolor": "white",
            "ticks": ""
           },
           "bgcolor": "#E5ECF6",
           "caxis": {
            "gridcolor": "white",
            "linecolor": "white",
            "ticks": ""
           }
          },
          "title": {
           "x": 0.05
          },
          "xaxis": {
           "automargin": true,
           "gridcolor": "white",
           "linecolor": "white",
           "ticks": "",
           "title": {
            "standoff": 15
           },
           "zerolinecolor": "white",
           "zerolinewidth": 2
          },
          "yaxis": {
           "automargin": true,
           "gridcolor": "white",
           "linecolor": "white",
           "ticks": "",
           "title": {
            "standoff": 15
           },
           "zerolinecolor": "white",
           "zerolinewidth": 2
          }
         }
        }
       }
      },
      "text/html": [
       "<div>                            <div id=\"52e7a336-af33-4416-8d6d-06aa2df6cfb8\" class=\"plotly-graph-div\" style=\"height:525px; width:100%;\"></div>            <script type=\"text/javascript\">                require([\"plotly\"], function(Plotly) {                    window.PLOTLYENV=window.PLOTLYENV || {};                                    if (document.getElementById(\"52e7a336-af33-4416-8d6d-06aa2df6cfb8\")) {                    Plotly.newPlot(                        \"52e7a336-af33-4416-8d6d-06aa2df6cfb8\",                        [{\"hovertemplate\":\"color=#f07171<br>x=%{x}<br>y=%{y}<br>z=%{z}<extra></extra>\",\"legendgroup\":\"#f07171\",\"marker\":{\"color\":\"#636efa\",\"symbol\":\"circle\"},\"mode\":\"markers\",\"name\":\"#f07171\",\"scene\":\"scene\",\"showlegend\":true,\"x\":[1.2804826498031616,3.5351622104644775,2.3187479972839355,0.6295820474624634,1.6808288097381592,0.7065051198005676,0.7290563583374023,3.958848714828491,2.9133412837982178,3.290260076522827,0.8048745393753052,1.2408292293548584,3.423978328704834,3.451443910598755,0.8505030274391174,1.7227650880813599,2.0266313552856445,3.3155956268310547,2.144496440887451,1.69085693359375,3.8149468898773193,1.6337896585464478,2.8203418254852295,3.6267640590667725,3.27414608001709,3.1469292640686035,2.258759021759033,1.6388283967971802,3.960310935974121,3.4421298503875732,1.7529937028884888,1.8224692344665527,0.9625388979911804,3.620744466781616,1.0363185405731201,3.585383176803589,1.889386534690857,2.6442184448242188,1.4452325105667114,1.551594853401184,1.0709093809127808,2.6759495735168457,1.830032467842102,1.1704881191253662,2.565561056137085,2.992307424545288,3.321314573287964,1.4688752889633179,1.5106121301651,2.039475917816162,3.610105276107788,1.6408034563064575,1.3691350221633911,1.1315946578979492,3.2704601287841797],\"y\":[2.5906968116760254,4.322854042053223,1.4810459613800049,0.4273808002471924,2.238433837890625,0.7701886892318726,0.23479905724525452,4.58946418762207,5.16199254989624,4.677558422088623,0.6897406578063965,0.8209938406944275,5.130911350250244,5.417670249938965,0.5092251896858215,2.7642862796783447,4.199116230010986,5.714176654815674,1.1036713123321533,1.4644269943237305,4.940379619598389,1.1562339067459106,2.326040506362915,5.101934909820557,4.237226486206055,4.366633892059326,2.3824899196624756,1.5939961671829224,5.304229736328125,5.5444183349609375,1.168501853942871,2.2733211517333984,0.4066717326641083,5.514617919921875,0.18311326205730438,5.211267948150635,4.643667221069336,3.3960864543914795,1.4388831853866577,3.5086302757263184,0.5883710980415344,1.2649738788604736,3.1303470134735107,0.42496243119239807,3.0269501209259033,4.968196392059326,2.214233875274658,1.2472344636917114,2.225733995437622,1.7355586290359497,5.356960773468018,0.8030582070350647,0.320106565952301,3.013955593109131,5.489622592926025],\"z\":[3.3024256229400635,4.77719783782959,4.756779193878174,4.299421310424805,4.831760406494141,3.7562553882598877,4.98697566986084,5.251965045928955,5.642341136932373,5.031657695770264,4.813638210296631,4.0168375968933105,5.166008949279785,4.694451808929443,5.224982261657715,4.730613708496094,4.301535606384277,5.62619161605835,3.5403854846954346,4.126315116882324,5.402177333831787,3.2365200519561768,4.999419689178467,4.865182399749756,5.403278350830078,4.327154636383057,5.635825157165527,3.7014265060424805,5.31389045715332,5.44369649887085,3.42273211479187,4.370999813079834,4.593198299407959,5.027640342712402,5.207866191864014,5.764057636260986,4.5516357421875,5.515043258666992,2.855464458465576,3.645280599594116,4.104043960571289,4.467129707336426,3.6801602840423584,5.075428009033203,5.498405933380127,5.191704750061035,4.091396331787109,2.922341823577881,4.559418201446533,3.1809353828430176,5.316643238067627,3.6095426082611084,5.26655387878418,3.7492728233337402,5.5322747230529785],\"type\":\"scatter3d\"},{\"hovertemplate\":\"color=#2a37c7<br>x=%{x}<br>y=%{y}<br>z=%{z}<extra></extra>\",\"legendgroup\":\"#2a37c7\",\"marker\":{\"color\":\"#EF553B\",\"symbol\":\"circle\"},\"mode\":\"markers\",\"name\":\"#2a37c7\",\"scene\":\"scene\",\"showlegend\":true,\"x\":[2.9348862171173096,1.6383295059204102,2.660977363586426,3.5389256477355957,2.875847578048706,3.11550235748291,1.9980354309082031,1.782850980758667,2.819149971008301,1.6190012693405151,1.4632710218429565,1.890437364578247,2.0444867610931396,2.72477126121521,3.5866479873657227,1.480774164199829,1.8920197486877441,2.7779176235198975,2.6907706260681152,2.0445656776428223,2.318615436553955,2.4053847789764404,2.7054343223571777,1.3689626455307007,2.159377098083496,2.7830071449279785,2.1144628524780273,2.478510618209839,2.247729539871216],\"y\":[1.9446240663528442,1.9826055765151978,1.885205626487732,4.6606340408325195,1.9575262069702148,3.27251935005188,3.4205567836761475,3.739628791809082,1.997368574142456,3.7232415676116943,1.129320740699768,3.0731046199798584,1.9755778312683105,1.3734169006347656,4.624666690826416,2.4310028553009033,0.9011490941047668,1.4739617109298706,2.1547462940216064,1.2468570470809937,1.3611024618148804,2.9647786617279053,2.649693489074707,1.1734845638275146,1.687988519668579,2.4160943031311035,1.1092400550842285,1.9440292119979858,1.5769871473312378],\"z\":[3.3616435527801514,2.876131772994995,3.3973495960235596,4.2113752365112305,3.6752865314483643,4.257452011108398,4.316058158874512,3.932243824005127,3.085069417953491,3.8137388229370117,3.97790265083313,4.03706693649292,2.740198850631714,3.655283212661743,4.296632766723633,3.0092356204986572,3.205845594406128,3.27651309967041,2.9698657989501953,3.0042474269866943,2.9719297885894775,3.446288824081421,3.414252758026123,3.0264055728912354,2.978853225708008,3.4028782844543457,3.1007776260375977,3.0216434001922607,3.4882802963256836],\"type\":\"scatter3d\"},{\"hovertemplate\":\"color=#f52f2f<br>x=%{x}<br>y=%{y}<br>z=%{z}<extra></extra>\",\"legendgroup\":\"#f52f2f\",\"marker\":{\"color\":\"#00cc96\",\"symbol\":\"circle\"},\"mode\":\"markers\",\"name\":\"#f52f2f\",\"scene\":\"scene\",\"showlegend\":true,\"x\":[1.1553726196289062,1.8827780485153198,0.8382639288902283,1.4417695999145508,1.9007116556167603,2.634244441986084,3.6205596923828125,0.9355633854866028,1.8193179368972778,2.7689709663391113,1.944173812866211,2.3976950645446777,2.2181949615478516,2.9430243968963623,2.953009605407715,0.7619280219078064,3.7672181129455566,3.763296604156494,2.684429168701172,1.0351111888885498,3.1733901500701904,2.8636698722839355,0.6941868662834167,1.2262407541275024,1.9506820440292358,1.579481840133667,3.689979076385498,1.6227202415466309,3.1838788986206055,3.9146018028259277,1.6658977270126343,2.0650503635406494,3.3015708923339844,2.7666189670562744,3.268357276916504,1.713739275932312,2.487945795059204,2.9156599044799805,1.8093109130859375,2.338726758956909,0.8165057897567749,1.1067301034927368,2.0065486431121826,2.3265061378479004,1.0584368705749512,3.2417778968811035,1.306936502456665,0.8822057843208313,1.290373682975769,1.7543126344680786,2.310295343399048,2.883143186569214,3.9619193077087402,3.1472253799438477,3.3962552547454834,1.1184035539627075,1.5178189277648926,3.410431385040283,2.6292736530303955,3.9162745475769043,1.0119231939315796,1.831015944480896,2.733672618865967,2.2420289516448975,3.6840972900390625,2.712047576904297],\"y\":[2.800492525100708,1.2952158451080322,0.7769429683685303,2.3290977478027344,4.181760787963867,4.839014530181885,4.954419136047363,0.6659783124923706,1.395254373550415,4.9983015060424805,2.4197943210601807,4.24390172958374,1.3359180688858032,4.7165446281433105,4.7386794090271,0.523216724395752,4.588343620300293,4.524245738983154,2.8218343257904053,0.2788848876953125,3.9231395721435547,1.4865801334381104,0.5834915041923523,2.6693642139434814,4.382489204406738,3.1421496868133545,5.305668354034424,1.6590036153793335,5.444474697113037,4.596656322479248,2.8153769969940186,4.42504358291626,2.3807425498962402,1.6687928438186646,4.231829643249512,1.4027740955352783,3.0922980308532715,4.841318130493164,1.133249282836914,4.0611748695373535,0.8509156107902527,2.596451997756958,4.606729030609131,1.5856761932373047,2.4111623764038086,5.507991313934326,3.2922651767730713,0.16636455059051514,1.8274823427200317,2.91011381149292,1.7237238883972168,5.186180591583252,5.239634990692139,3.9431231021881104,5.022570610046387,2.2788238525390625,1.3364934921264648,5.018311023712158,3.06905460357666,4.409216403961182,0.22732216119766235,2.0002670288085938,4.716485977172852,2.3784592151641846,4.971774101257324,1.3968267440795898],\"z\":[3.596506357192993,3.406677722930908,4.52833890914917,3.5318427085876465,4.553849220275879,4.910775661468506,4.853229999542236,4.07445764541626,3.0176408290863037,5.643365383148193,4.439114093780518,4.595857620239258,4.718602180480957,5.497917652130127,5.035301208496094,4.495269298553467,4.999112129211426,4.41636323928833,5.101985454559326,5.223385810852051,4.330900192260742,4.504785537719727,3.9787940979003906,3.2719626426696777,4.407352924346924,3.6597063541412354,5.170440196990967,3.341679811477661,4.7673139572143555,5.192850589752197,4.785999774932861,4.5427470207214355,4.0479278564453125,4.4157328605651855,5.388847827911377,3.2921533584594727,5.703135967254639,4.668217182159424,2.77789044380188,5.328511714935303,4.400352478027344,4.2164177894592285,4.721212863922119,4.648856163024902,4.255338668823242,5.53274393081665,3.56648325920105,5.157899856567383,3.258589267730713,4.702223777770996,4.649927139282227,4.848983287811279,5.239779472351074,5.123873710632324,5.835190773010254,4.1800312995910645,3.2509682178497314,5.044333457946777,5.497052192687988,5.41634464263916,5.146467208862305,4.563162803649902,5.586251735687256,5.611712455749512,5.308541774749756,4.429346084594727],\"type\":\"scatter3d\"}],                        {\"template\":{\"data\":{\"histogram2dcontour\":[{\"type\":\"histogram2dcontour\",\"colorbar\":{\"outlinewidth\":0,\"ticks\":\"\"},\"colorscale\":[[0.0,\"#0d0887\"],[0.1111111111111111,\"#46039f\"],[0.2222222222222222,\"#7201a8\"],[0.3333333333333333,\"#9c179e\"],[0.4444444444444444,\"#bd3786\"],[0.5555555555555556,\"#d8576b\"],[0.6666666666666666,\"#ed7953\"],[0.7777777777777778,\"#fb9f3a\"],[0.8888888888888888,\"#fdca26\"],[1.0,\"#f0f921\"]]}],\"choropleth\":[{\"type\":\"choropleth\",\"colorbar\":{\"outlinewidth\":0,\"ticks\":\"\"}}],\"histogram2d\":[{\"type\":\"histogram2d\",\"colorbar\":{\"outlinewidth\":0,\"ticks\":\"\"},\"colorscale\":[[0.0,\"#0d0887\"],[0.1111111111111111,\"#46039f\"],[0.2222222222222222,\"#7201a8\"],[0.3333333333333333,\"#9c179e\"],[0.4444444444444444,\"#bd3786\"],[0.5555555555555556,\"#d8576b\"],[0.6666666666666666,\"#ed7953\"],[0.7777777777777778,\"#fb9f3a\"],[0.8888888888888888,\"#fdca26\"],[1.0,\"#f0f921\"]]}],\"heatmap\":[{\"type\":\"heatmap\",\"colorbar\":{\"outlinewidth\":0,\"ticks\":\"\"},\"colorscale\":[[0.0,\"#0d0887\"],[0.1111111111111111,\"#46039f\"],[0.2222222222222222,\"#7201a8\"],[0.3333333333333333,\"#9c179e\"],[0.4444444444444444,\"#bd3786\"],[0.5555555555555556,\"#d8576b\"],[0.6666666666666666,\"#ed7953\"],[0.7777777777777778,\"#fb9f3a\"],[0.8888888888888888,\"#fdca26\"],[1.0,\"#f0f921\"]]}],\"heatmapgl\":[{\"type\":\"heatmapgl\",\"colorbar\":{\"outlinewidth\":0,\"ticks\":\"\"},\"colorscale\":[[0.0,\"#0d0887\"],[0.1111111111111111,\"#46039f\"],[0.2222222222222222,\"#7201a8\"],[0.3333333333333333,\"#9c179e\"],[0.4444444444444444,\"#bd3786\"],[0.5555555555555556,\"#d8576b\"],[0.6666666666666666,\"#ed7953\"],[0.7777777777777778,\"#fb9f3a\"],[0.8888888888888888,\"#fdca26\"],[1.0,\"#f0f921\"]]}],\"contourcarpet\":[{\"type\":\"contourcarpet\",\"colorbar\":{\"outlinewidth\":0,\"ticks\":\"\"}}],\"contour\":[{\"type\":\"contour\",\"colorbar\":{\"outlinewidth\":0,\"ticks\":\"\"},\"colorscale\":[[0.0,\"#0d0887\"],[0.1111111111111111,\"#46039f\"],[0.2222222222222222,\"#7201a8\"],[0.3333333333333333,\"#9c179e\"],[0.4444444444444444,\"#bd3786\"],[0.5555555555555556,\"#d8576b\"],[0.6666666666666666,\"#ed7953\"],[0.7777777777777778,\"#fb9f3a\"],[0.8888888888888888,\"#fdca26\"],[1.0,\"#f0f921\"]]}],\"surface\":[{\"type\":\"surface\",\"colorbar\":{\"outlinewidth\":0,\"ticks\":\"\"},\"colorscale\":[[0.0,\"#0d0887\"],[0.1111111111111111,\"#46039f\"],[0.2222222222222222,\"#7201a8\"],[0.3333333333333333,\"#9c179e\"],[0.4444444444444444,\"#bd3786\"],[0.5555555555555556,\"#d8576b\"],[0.6666666666666666,\"#ed7953\"],[0.7777777777777778,\"#fb9f3a\"],[0.8888888888888888,\"#fdca26\"],[1.0,\"#f0f921\"]]}],\"mesh3d\":[{\"type\":\"mesh3d\",\"colorbar\":{\"outlinewidth\":0,\"ticks\":\"\"}}],\"scatter\":[{\"fillpattern\":{\"fillmode\":\"overlay\",\"size\":10,\"solidity\":0.2},\"type\":\"scatter\"}],\"parcoords\":[{\"type\":\"parcoords\",\"line\":{\"colorbar\":{\"outlinewidth\":0,\"ticks\":\"\"}}}],\"scatterpolargl\":[{\"type\":\"scatterpolargl\",\"marker\":{\"colorbar\":{\"outlinewidth\":0,\"ticks\":\"\"}}}],\"bar\":[{\"error_x\":{\"color\":\"#2a3f5f\"},\"error_y\":{\"color\":\"#2a3f5f\"},\"marker\":{\"line\":{\"color\":\"#E5ECF6\",\"width\":0.5},\"pattern\":{\"fillmode\":\"overlay\",\"size\":10,\"solidity\":0.2}},\"type\":\"bar\"}],\"scattergeo\":[{\"type\":\"scattergeo\",\"marker\":{\"colorbar\":{\"outlinewidth\":0,\"ticks\":\"\"}}}],\"scatterpolar\":[{\"type\":\"scatterpolar\",\"marker\":{\"colorbar\":{\"outlinewidth\":0,\"ticks\":\"\"}}}],\"histogram\":[{\"marker\":{\"pattern\":{\"fillmode\":\"overlay\",\"size\":10,\"solidity\":0.2}},\"type\":\"histogram\"}],\"scattergl\":[{\"type\":\"scattergl\",\"marker\":{\"colorbar\":{\"outlinewidth\":0,\"ticks\":\"\"}}}],\"scatter3d\":[{\"type\":\"scatter3d\",\"line\":{\"colorbar\":{\"outlinewidth\":0,\"ticks\":\"\"}},\"marker\":{\"colorbar\":{\"outlinewidth\":0,\"ticks\":\"\"}}}],\"scattermapbox\":[{\"type\":\"scattermapbox\",\"marker\":{\"colorbar\":{\"outlinewidth\":0,\"ticks\":\"\"}}}],\"scatterternary\":[{\"type\":\"scatterternary\",\"marker\":{\"colorbar\":{\"outlinewidth\":0,\"ticks\":\"\"}}}],\"scattercarpet\":[{\"type\":\"scattercarpet\",\"marker\":{\"colorbar\":{\"outlinewidth\":0,\"ticks\":\"\"}}}],\"carpet\":[{\"aaxis\":{\"endlinecolor\":\"#2a3f5f\",\"gridcolor\":\"white\",\"linecolor\":\"white\",\"minorgridcolor\":\"white\",\"startlinecolor\":\"#2a3f5f\"},\"baxis\":{\"endlinecolor\":\"#2a3f5f\",\"gridcolor\":\"white\",\"linecolor\":\"white\",\"minorgridcolor\":\"white\",\"startlinecolor\":\"#2a3f5f\"},\"type\":\"carpet\"}],\"table\":[{\"cells\":{\"fill\":{\"color\":\"#EBF0F8\"},\"line\":{\"color\":\"white\"}},\"header\":{\"fill\":{\"color\":\"#C8D4E3\"},\"line\":{\"color\":\"white\"}},\"type\":\"table\"}],\"barpolar\":[{\"marker\":{\"line\":{\"color\":\"#E5ECF6\",\"width\":0.5},\"pattern\":{\"fillmode\":\"overlay\",\"size\":10,\"solidity\":0.2}},\"type\":\"barpolar\"}],\"pie\":[{\"automargin\":true,\"type\":\"pie\"}]},\"layout\":{\"autotypenumbers\":\"strict\",\"colorway\":[\"#636efa\",\"#EF553B\",\"#00cc96\",\"#ab63fa\",\"#FFA15A\",\"#19d3f3\",\"#FF6692\",\"#B6E880\",\"#FF97FF\",\"#FECB52\"],\"font\":{\"color\":\"#2a3f5f\"},\"hovermode\":\"closest\",\"hoverlabel\":{\"align\":\"left\"},\"paper_bgcolor\":\"white\",\"plot_bgcolor\":\"#E5ECF6\",\"polar\":{\"bgcolor\":\"#E5ECF6\",\"angularaxis\":{\"gridcolor\":\"white\",\"linecolor\":\"white\",\"ticks\":\"\"},\"radialaxis\":{\"gridcolor\":\"white\",\"linecolor\":\"white\",\"ticks\":\"\"}},\"ternary\":{\"bgcolor\":\"#E5ECF6\",\"aaxis\":{\"gridcolor\":\"white\",\"linecolor\":\"white\",\"ticks\":\"\"},\"baxis\":{\"gridcolor\":\"white\",\"linecolor\":\"white\",\"ticks\":\"\"},\"caxis\":{\"gridcolor\":\"white\",\"linecolor\":\"white\",\"ticks\":\"\"}},\"coloraxis\":{\"colorbar\":{\"outlinewidth\":0,\"ticks\":\"\"}},\"colorscale\":{\"sequential\":[[0.0,\"#0d0887\"],[0.1111111111111111,\"#46039f\"],[0.2222222222222222,\"#7201a8\"],[0.3333333333333333,\"#9c179e\"],[0.4444444444444444,\"#bd3786\"],[0.5555555555555556,\"#d8576b\"],[0.6666666666666666,\"#ed7953\"],[0.7777777777777778,\"#fb9f3a\"],[0.8888888888888888,\"#fdca26\"],[1.0,\"#f0f921\"]],\"sequentialminus\":[[0.0,\"#0d0887\"],[0.1111111111111111,\"#46039f\"],[0.2222222222222222,\"#7201a8\"],[0.3333333333333333,\"#9c179e\"],[0.4444444444444444,\"#bd3786\"],[0.5555555555555556,\"#d8576b\"],[0.6666666666666666,\"#ed7953\"],[0.7777777777777778,\"#fb9f3a\"],[0.8888888888888888,\"#fdca26\"],[1.0,\"#f0f921\"]],\"diverging\":[[0,\"#8e0152\"],[0.1,\"#c51b7d\"],[0.2,\"#de77ae\"],[0.3,\"#f1b6da\"],[0.4,\"#fde0ef\"],[0.5,\"#f7f7f7\"],[0.6,\"#e6f5d0\"],[0.7,\"#b8e186\"],[0.8,\"#7fbc41\"],[0.9,\"#4d9221\"],[1,\"#276419\"]]},\"xaxis\":{\"gridcolor\":\"white\",\"linecolor\":\"white\",\"ticks\":\"\",\"title\":{\"standoff\":15},\"zerolinecolor\":\"white\",\"automargin\":true,\"zerolinewidth\":2},\"yaxis\":{\"gridcolor\":\"white\",\"linecolor\":\"white\",\"ticks\":\"\",\"title\":{\"standoff\":15},\"zerolinecolor\":\"white\",\"automargin\":true,\"zerolinewidth\":2},\"scene\":{\"xaxis\":{\"backgroundcolor\":\"#E5ECF6\",\"gridcolor\":\"white\",\"linecolor\":\"white\",\"showbackground\":true,\"ticks\":\"\",\"zerolinecolor\":\"white\",\"gridwidth\":2},\"yaxis\":{\"backgroundcolor\":\"#E5ECF6\",\"gridcolor\":\"white\",\"linecolor\":\"white\",\"showbackground\":true,\"ticks\":\"\",\"zerolinecolor\":\"white\",\"gridwidth\":2},\"zaxis\":{\"backgroundcolor\":\"#E5ECF6\",\"gridcolor\":\"white\",\"linecolor\":\"white\",\"showbackground\":true,\"ticks\":\"\",\"zerolinecolor\":\"white\",\"gridwidth\":2}},\"shapedefaults\":{\"line\":{\"color\":\"#2a3f5f\"}},\"annotationdefaults\":{\"arrowcolor\":\"#2a3f5f\",\"arrowhead\":0,\"arrowwidth\":1},\"geo\":{\"bgcolor\":\"white\",\"landcolor\":\"#E5ECF6\",\"subunitcolor\":\"white\",\"showland\":true,\"showlakes\":true,\"lakecolor\":\"white\"},\"title\":{\"x\":0.05},\"mapbox\":{\"style\":\"light\"}}},\"scene\":{\"domain\":{\"x\":[0.0,1.0],\"y\":[0.0,1.0]},\"xaxis\":{\"title\":{\"text\":\"x\"}},\"yaxis\":{\"title\":{\"text\":\"y\"}},\"zaxis\":{\"title\":{\"text\":\"z\"}}},\"legend\":{\"title\":{\"text\":\"color\"},\"tracegroupgap\":0},\"margin\":{\"t\":60}},                        {\"responsive\": true}                    ).then(function(){\n",
       "                            \n",
       "var gd = document.getElementById('52e7a336-af33-4416-8d6d-06aa2df6cfb8');\n",
       "var x = new MutationObserver(function (mutations, observer) {{\n",
       "        var display = window.getComputedStyle(gd).display;\n",
       "        if (!display || display === 'none') {{\n",
       "            console.log([gd, 'removed!']);\n",
       "            Plotly.purge(gd);\n",
       "            observer.disconnect();\n",
       "        }}\n",
       "}});\n",
       "\n",
       "// Listen for the removal of the full notebook cells\n",
       "var notebookContainer = gd.closest('#notebook-container');\n",
       "if (notebookContainer) {{\n",
       "    x.observe(notebookContainer, {childList: true});\n",
       "}}\n",
       "\n",
       "// Listen for the clearing of the current output cell\n",
       "var outputEl = gd.closest('.output');\n",
       "if (outputEl) {{\n",
       "    x.observe(outputEl, {childList: true});\n",
       "}}\n",
       "\n",
       "                        })                };                });            </script>        </div>"
      ]
     },
     "metadata": {},
     "output_type": "display_data"
    }
   ],
   "source": [
    "fig = px.scatter_3d(x=embedding_3D[:, 0], y=embedding_3D[:, 1], z=embedding_3D[:, 2], color=colors)\n",
    "fig.show()"
   ]
  },
  {
   "cell_type": "code",
   "execution_count": null,
   "id": "714dfaed",
   "metadata": {},
   "outputs": [],
   "source": []
  }
 ],
 "metadata": {
  "kernelspec": {
   "display_name": "Python 3 (ipykernel)",
   "language": "python",
   "name": "python3"
  },
  "language_info": {
   "codemirror_mode": {
    "name": "ipython",
    "version": 3
   },
   "file_extension": ".py",
   "mimetype": "text/x-python",
   "name": "python",
   "nbconvert_exporter": "python",
   "pygments_lexer": "ipython3",
   "version": "3.9.7"
  }
 },
 "nbformat": 4,
 "nbformat_minor": 5
}
